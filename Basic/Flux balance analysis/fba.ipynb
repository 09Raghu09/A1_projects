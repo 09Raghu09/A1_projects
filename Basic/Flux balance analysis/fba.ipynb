{
  "nbformat": 4,
  "nbformat_minor": 0,
  "metadata": {
    "colab": {
      "name": "Untitled17.ipynb",
      "provenance": [],
      "collapsed_sections": []
    },
    "kernelspec": {
      "name": "python3",
      "display_name": "Python 3"
    }
  },
  "cells": [
    {
      "cell_type": "code",
      "metadata": {
        "id": "ztNLIlpNPzws",
        "colab_type": "code",
        "outputId": "d42e79f5-0475-47a3-8739-c81e0a33f9df",
        "colab": {
          "base_uri": "https://localhost:8080/",
          "height": 326
        }
      },
      "source": [
        "#based on slides by K. Erickson\n",
        "\n",
        "from __future__ import print_function\n",
        "\n",
        "!pip install cobra\n",
        "import cobra.test\n",
        "from cobra import Model, Reaction, Metabolite\n"
      ],
      "execution_count": 0,
      "outputs": [
        {
          "output_type": "stream",
          "text": [
            "Requirement already satisfied: cobra in /usr/local/lib/python3.6/dist-packages (0.17.1)\n",
            "Requirement already satisfied: numpy>=1.13 in /usr/local/lib/python3.6/dist-packages (from cobra) (1.17.4)\n",
            "Requirement already satisfied: swiglpk in /usr/local/lib/python3.6/dist-packages (from cobra) (4.65.0)\n",
            "Requirement already satisfied: depinfo in /usr/local/lib/python3.6/dist-packages (from cobra) (1.5.1)\n",
            "Requirement already satisfied: python-libsbml-experimental==5.18.0 in /usr/local/lib/python3.6/dist-packages (from cobra) (5.18.0)\n",
            "Requirement already satisfied: optlang>=1.4.2 in /usr/local/lib/python3.6/dist-packages (from cobra) (1.4.4)\n",
            "Requirement already satisfied: pandas>=0.17.0 in /usr/local/lib/python3.6/dist-packages (from cobra) (0.25.3)\n",
            "Requirement already satisfied: six in /usr/local/lib/python3.6/dist-packages (from cobra) (1.12.0)\n",
            "Requirement already satisfied: future in /usr/local/lib/python3.6/dist-packages (from cobra) (0.16.0)\n",
            "Requirement already satisfied: ruamel.yaml>=0.16 in /usr/local/lib/python3.6/dist-packages (from cobra) (0.16.5)\n",
            "Requirement already satisfied: pipdeptree>=0.13.2 in /usr/local/lib/python3.6/dist-packages (from depinfo->cobra) (0.13.2)\n",
            "Requirement already satisfied: sympy>=1.0.0 in /usr/local/lib/python3.6/dist-packages (from optlang>=1.4.2->cobra) (1.1.1)\n",
            "Requirement already satisfied: pytz>=2017.2 in /usr/local/lib/python3.6/dist-packages (from pandas>=0.17.0->cobra) (2018.9)\n",
            "Requirement already satisfied: python-dateutil>=2.6.1 in /usr/local/lib/python3.6/dist-packages (from pandas>=0.17.0->cobra) (2.6.1)\n",
            "Requirement already satisfied: ruamel.yaml.clib>=0.1.2; platform_python_implementation == \"CPython\" and python_version < \"3.8\" in /usr/local/lib/python3.6/dist-packages (from ruamel.yaml>=0.16->cobra) (0.2.0)\n",
            "Requirement already satisfied: pip>=6.0.0 in /usr/local/lib/python3.6/dist-packages (from pipdeptree>=0.13.2->depinfo->cobra) (19.3.1)\n",
            "Requirement already satisfied: mpmath>=0.19 in /usr/local/lib/python3.6/dist-packages (from sympy>=1.0.0->optlang>=1.4.2->cobra) (1.1.0)\n"
          ],
          "name": "stdout"
        }
      ]
    },
    {
      "cell_type": "code",
      "metadata": {
        "id": "8b7u8IERVcaM",
        "colab_type": "code",
        "colab": {}
      },
      "source": [
        "import cobra.test\n",
        "#Load the model for genome scale E. coli iJO1366\n",
        "model = cobra.test.create_test_model(\"ecoli\")\n",
        "#this model has 1366 genes, 2251 metabolic reactions, and 1136 unique metabolites"
      ],
      "execution_count": 0,
      "outputs": []
    },
    {
      "cell_type": "code",
      "metadata": {
        "id": "eyh5y1JMg9lK",
        "colab_type": "code",
        "outputId": "1c1e254d-f67f-41b5-8cbe-7ad74dbbdd1a",
        "colab": {
          "base_uri": "https://localhost:8080/",
          "height": 34
        }
      },
      "source": [
        "model.reactions[47].id\n",
        "'EX_ade_e'\n",
        "model.reactions[47].lower_bound\n",
        "0.0\n",
        "model.reactions[47].reaction\n",
        "'ade_e --> '\n",
        "model.objective"
      ],
      "execution_count": 0,
      "outputs": [
        {
          "output_type": "execute_result",
          "data": {
            "text/plain": [
              "<optlang.glpk_interface.Objective at 0x7f9be2c64a90>"
            ]
          },
          "metadata": {
            "tags": []
          },
          "execution_count": 19
        }
      ]
    },
    {
      "cell_type": "code",
      "metadata": {
        "id": "gLY-pwD9wlrj",
        "colab_type": "code",
        "outputId": "71db900c-c8c6-4e4a-8df4-fae2f6d6979d",
        "colab": {
          "base_uri": "https://localhost:8080/",
          "height": 221
        }
      },
      "source": [
        "#Set constraints for aerobic growth in glucose minimal media\n",
        "model.reactions.get_by_id(\"EX_glc__D_e\").lower_bound= -10\n",
        "model.reactions.get_by_id(\"EX_o2_e\").lower_bound = -15\n",
        "\n",
        "#Solve\n",
        "solution = model.optimize()\n",
        "#Output solution\n",
        "print('Growth Rate: '+str(solution.objective_value)+' 1/h')\n",
        "# Output more information\n",
        "model.summary()"
      ],
      "execution_count": 0,
      "outputs": [
        {
          "output_type": "stream",
          "text": [
            "Growth Rate: 0.899217260405845 1/h\n"
          ],
          "name": "stdout"
        },
        {
          "output_type": "execute_result",
          "data": {
            "text/html": [
              "<div>\n",
              "<style scoped>\n",
              "    .dataframe tbody tr th:only-of-type {\n",
              "        vertical-align: middle;\n",
              "    }\n",
              "\n",
              "    .dataframe tbody tr th {\n",
              "        vertical-align: top;\n",
              "    }\n",
              "\n",
              "    .dataframe thead tr th {\n",
              "        text-align: left;\n",
              "    }\n",
              "</style>\n",
              "<table border=\"1\" class=\"dataframe\">\n",
              "  <thead>\n",
              "    <tr>\n",
              "      <th></th>\n",
              "      <th colspan=\"2\" halign=\"left\">IN_FLUXES</th>\n",
              "      <th colspan=\"2\" halign=\"left\">OUT_FLUXES</th>\n",
              "      <th colspan=\"2\" halign=\"left\">OBJECTIVES</th>\n",
              "    </tr>\n",
              "    <tr>\n",
              "      <th></th>\n",
              "      <th>ID</th>\n",
              "      <th>FLUX</th>\n",
              "      <th>ID</th>\n",
              "      <th>FLUX</th>\n",
              "      <th>ID</th>\n",
              "      <th>FLUX</th>\n",
              "    </tr>\n",
              "  </thead>\n",
              "  <tbody>\n",
              "    <tr>\n",
              "      <th>0</th>\n",
              "      <td>o2_e</td>\n",
              "      <td>15.000000</td>\n",
              "      <td>h2o_e</td>\n",
              "      <td>40.665205</td>\n",
              "      <td>BIOMASS_Ec_iJO1366_core_53p95M</td>\n",
              "      <td>0.899217</td>\n",
              "    </tr>\n",
              "    <tr>\n",
              "      <th>1</th>\n",
              "      <td>glc__D_e</td>\n",
              "      <td>10.000000</td>\n",
              "      <td>co2_e</td>\n",
              "      <td>16.920600</td>\n",
              "      <td>NaN</td>\n",
              "      <td>NaN</td>\n",
              "    </tr>\n",
              "    <tr>\n",
              "      <th>2</th>\n",
              "      <td>nh4_e</td>\n",
              "      <td>9.712287</td>\n",
              "      <td>h_e</td>\n",
              "      <td>11.353229</td>\n",
              "      <td>NaN</td>\n",
              "      <td>NaN</td>\n",
              "    </tr>\n",
              "    <tr>\n",
              "      <th>3</th>\n",
              "      <td>pi_e</td>\n",
              "      <td>0.867413</td>\n",
              "      <td>ac_e</td>\n",
              "      <td>3.083991</td>\n",
              "      <td>NaN</td>\n",
              "      <td>NaN</td>\n",
              "    </tr>\n",
              "  </tbody>\n",
              "</table>\n",
              "</div>"
            ],
            "text/plain": [
              "<cobra.core.summary.model_summary.ModelSummary at 0x7f9be2f739e8>"
            ]
          },
          "metadata": {
            "tags": []
          },
          "execution_count": 20
        }
      ]
    },
    {
      "cell_type": "code",
      "metadata": {
        "id": "D2UhQkuXxDLg",
        "colab_type": "code",
        "colab": {}
      },
      "source": [
        "#Add crtEBI pathway for lycopene production\n",
        "\n",
        "#New metabolites: ggpp_c, phyto_c, lyco_c\n",
        "from cobra import Metabolite\n",
        "coa_c = model.metabolites.get_by_id( 'coa_c')\n",
        "ipdp_c = model.metabolites.get_by_id( 'ipdp_c')\n",
        "frdp_c = model.metabolites.get_by_id( 'frdp_c')\n",
        "ppi_c = model.metabolites.get_by_id( 'ppi_c')\n",
        "nadp_c = model.metabolites.get_by_id( 'nadp_c')\n",
        "nadph_c = model.metabolites.get_by_id( 'nadph_c')\n",
        "#Create new metabolites\n",
        "ggpp_c = Metabolite( 'ggpp_c', formula='C20H36O7P2', name='Geranylgeranyl Pyrophospate', compartment ='c')\n",
        "phyto_c = Metabolite( 'phyto_c', formula='C40H64', name='Phytoene', compartment ='c')\n",
        "lyco_c = Metabolite( 'lyco_c', formula='C40H56', name='Lycopene', compartment ='c')"
      ],
      "execution_count": 0,
      "outputs": []
    },
    {
      "cell_type": "code",
      "metadata": {
        "id": "_uWhhckszMMw",
        "colab_type": "code",
        "colab": {}
      },
      "source": [
        "#New reactions: CRTE, CRTB, CRTI, LYCO-dem\n",
        "from cobra import Reaction\n",
        "#add CRTE:\n",
        "reaction1 = Reaction('CRTE')\n",
        "reaction1.name = 'Geranylgeranyl diphosphate (GGPP) synthase'\n",
        "reaction1.subsystem = 'Lycopene biosynthesis'\n",
        "reaction1.lower_bound = 0\n",
        "reaction1.upper_bound = 1000\n",
        "reaction1.add_metabolites({ipdp_c: -1.0, frdp_c: -1.0, ggpp_c: 1.0, ppi_c: 1.0})\n",
        "model.add_reaction(reaction1)\n",
        "#add CRTB:\n",
        "reaction2 = Reaction('CRTB')\n",
        "reaction2.name = 'Phytoene synthase'\n",
        "reaction2.subsystem = 'Lycopene biosynthesis'\n",
        "reaction2.lower_bound = 0\n",
        "reaction2.upper_bound = 1000\n",
        "reaction2.add_metabolites({ggpp_c: -2.0, phyto_c: 1.0, ppi_c: 1.0})\n",
        "model.add_reaction(reaction2)\n",
        "#add CRTI:\n",
        "reaction3 = Reaction('CRTI')\n",
        "reaction3.name = 'Phytoene desaturase'\n",
        "reaction3.subsystem = 'Lycopene biosynthesis'\n",
        "reaction3.lower_bound = 0\n",
        "reaction3.upper_bound = 1000\n",
        "reaction3.add_metabolites({phyto_c: -1.0, nadp_c: -8.0, lyco_c: 1.0, nadph_c: 8.0})\n",
        "model.add_reaction(reaction3)\n",
        "#add LYCO-dem:\n",
        "reaction4 = Reaction('LYCO-dem')\n",
        "reaction4.name = 'Lycopene demand'\n",
        "reaction4.subsystem = 'Lycopene biosynthesis'\n",
        "reaction4.lower_bound = 0\n",
        "reaction4.upper_bound = 1000\n",
        "reaction4.add_metabolites({lyco_c: -1.0})\n",
        "model.add_reaction(reaction4)"
      ],
      "execution_count": 0,
      "outputs": []
    },
    {
      "cell_type": "code",
      "metadata": {
        "id": "xMyTiiQ4HmMS",
        "colab_type": "code",
        "outputId": "ffb99c80-fd56-4d80-f020-e8acdad0e75c",
        "colab": {
          "base_uri": "https://localhost:8080/",
          "height": 102
        }
      },
      "source": [
        "#FVA\n",
        "from cobra.flux_analysis import flux_variability_analysis\n",
        "reactions_OE = [model.reactions.DXPS, model.reactions.IPDDI, model.reactions.MECDPS, model.reactions.MEPCT]\n",
        "fva = flux_variability_analysis(model, reaction_list = reactions_OE, fraction_of_optimum=0.9)\n",
        "print (fva)\n"
      ],
      "execution_count": 0,
      "outputs": [
        {
          "output_type": "stream",
          "text": [
            "         minimum   maximum\n",
            "DXPS    0.002294  1.567733\n",
            "IPDDI  -1.175787  0.391585\n",
            "MECDPS  0.001933  1.567372\n",
            "MEPCT   0.001933  1.567372\n"
          ],
          "name": "stdout"
        }
      ]
    },
    {
      "cell_type": "code",
      "metadata": {
        "id": "bGUbnLyoYAuU",
        "colab_type": "code",
        "outputId": "fa7fedea-a096-4269-f308-fbf1850c359b",
        "colab": {
          "base_uri": "https://localhost:8080/",
          "height": 68
        }
      },
      "source": [
        "#Set the objective to Biomass\n",
        "model.reactions.get_by_id('BIOMASS_Ec_iJO1366_core_53p95M').objective_coefficient = 0\n",
        "model.reactions.get_by_id('BIOMASS_Ec_iJO1366_WT_53p95M').objective_coefficient = 1.0\n",
        "model.reactions.get_by_id('LYCO-dem').objective_coefficient = 0\n",
        "\n",
        "#Solve\n",
        "\n",
        "solution=model.optimize() #solution is stored at model.solution\n",
        "#Output solution\n",
        "print('Growth Rate (1/h): ' + str(solution.fluxes.get('BIOMASS_Ec_iJO1366_WT_53p95M')))\n",
        "print('Lycopene Production Rate (mmol/gdcw/h): ' + str(solution.fluxes.get('LYCO-dem')))\n",
        "print('Lycopene Yield (mol/mol glucose): ' +\n",
        "str(-solution.fluxes.get('LYCO-dem')/solution.fluxes.get('EX_glc__D_e')))"
      ],
      "execution_count": 0,
      "outputs": [
        {
          "output_type": "stream",
          "text": [
            "Growth Rate (1/h): 0.9009127876086938\n",
            "Lycopene Production Rate (mmol/gdcw/h): 0.0\n",
            "Lycopene Yield (mol/mol glucose): 0.0\n"
          ],
          "name": "stdout"
        }
      ]
    },
    {
      "cell_type": "code",
      "metadata": {
        "id": "1leePs6v8e94",
        "colab_type": "code",
        "outputId": "8556f0e0-8b6d-4e77-a335-9980e8b02fb1",
        "colab": {
          "base_uri": "https://localhost:8080/",
          "height": 68
        }
      },
      "source": [
        "#Set the objective to lycopene\n",
        "model.reactions.get_by_id('BIOMASS_Ec_iJO1366_core_53p95M').objective_coefficient = 0\n",
        "model.reactions.get_by_id('BIOMASS_Ec_iJO1366_WT_53p95M').objective_coefficient = 0\n",
        "model.reactions.get_by_id('LYCO-dem').objective_coefficient = 1.0\n",
        "\n",
        "#This is the theoretical maximum lycopene yield\n",
        "\n",
        "solution=model.optimize()\n",
        "\n",
        "print('Growth Rate (1/h): ' + str(solution.fluxes.get('BIOMASS_Ec_iJO1366_WT_53p95M')))\n",
        "print('Lycopene Production Rate (mmol/gdcw/h): ' + str(solution.fluxes.get('LYCO-dem')))\n",
        "print('Lycopene Yield (mol/mol glucose): ' +\n",
        "str(-solution.fluxes.get('LYCO-dem')/solution.fluxes.get('EX_glc__D_e')))\n"
      ],
      "execution_count": 0,
      "outputs": [
        {
          "output_type": "stream",
          "text": [
            "Growth Rate (1/h): 0.0\n",
            "Lycopene Production Rate (mmol/gdcw/h): 1.101916572717023\n",
            "Lycopene Yield (mol/mol glucose): 0.1101916572717023\n"
          ],
          "name": "stdout"
        }
      ]
    },
    {
      "cell_type": "code",
      "metadata": {
        "id": "arO9BoHZWsuT",
        "colab_type": "code",
        "colab": {}
      },
      "source": [
        "DXPSlowerbound = model.reactions.get_by_id('DXPS').lower_bound\n",
        "IPDDIlowerbound = model.reactions.get_by_id('IPDDI').lower_bound\n",
        "MECDPSlowerbound = model.reactions.get_by_id('MECDPS').lower_bound\n",
        "MEPCTlowerbound = model.reactions.get_by_id('MEPCT').lower_bound\n",
        "\n",
        "#for overexpression set lower bounds to above maximum\n",
        "\n",
        "#         minimum   maximum\n",
        "#DXPS    0.002294  1.567733     -> set lower bound to 2\n",
        "#IPDDI  -1.175787  0.391585     -> set lower bound to 0.5\n",
        "#MECDPS  0.001933  1.567372     -> set lower bound to 2\n",
        "#MEPCT   0.001933  1.567372     -> set lower bound to 2\n",
        "\n",
        "\n",
        "#Overexpress dxs, idi, ispFD\n",
        "model.reactions.get_by_id('DXPS').lower_bound = 2\n",
        "model.reactions.get_by_id('IPDDI').lower_bound = 0.5\n",
        "model.reactions.get_by_id('MECDPS').lower_bound = 2\n",
        "model.reactions.get_by_id('MEPCT').lower_bound = 2\n"
      ],
      "execution_count": 0,
      "outputs": []
    },
    {
      "cell_type": "code",
      "metadata": {
        "id": "grbBaEk0EvCt",
        "colab_type": "code",
        "outputId": "f6fb68b4-800e-4e66-c93b-238119e533e3",
        "colab": {
          "base_uri": "https://localhost:8080/",
          "height": 68
        }
      },
      "source": [
        "#Set the objective to Biomass\n",
        "model.reactions.get_by_id('BIOMASS_Ec_iJO1366_core_53p95M').objective_coefficient = 0\n",
        "model.reactions.get_by_id('BIOMASS_Ec_iJO1366_WT_53p95M').objective_coefficient = 1.0\n",
        "model.reactions.get_by_id('LYCO-dem').objective_coefficient = 0\n",
        "\n",
        "#Solve to get rates with overexpression\n",
        "\n",
        "solution=model.optimize()\n",
        "#Output solution\n",
        "print('Growth Rate (1/h): ' + str(solution.fluxes.get('BIOMASS_Ec_iJO1366_WT_53p95M')))\n",
        "print('Lycopene Production Rate (mmol/gdcw/h): ' + str(solution.fluxes.get('LYCO-dem')))\n",
        "print('Lycopene Yield (mol/mol glucose): ' +\n",
        "str(-solution.fluxes.get('LYCO-dem')/solution.fluxes.get('EX_glc__D_e')))"
      ],
      "execution_count": 0,
      "outputs": [
        {
          "output_type": "stream",
          "text": [
            "Growth Rate (1/h): 0.7647818319530112\n",
            "Lycopene Production Rate (mmol/gdcw/h): 0.24963787580257024\n",
            "Lycopene Yield (mol/mol glucose): 0.024963787580257024\n"
          ],
          "name": "stdout"
        }
      ]
    },
    {
      "cell_type": "code",
      "metadata": {
        "id": "U1h_RcQeZ9RS",
        "colab_type": "code",
        "colab": {}
      },
      "source": [
        "#Knockout genes gdhA, aceE, ytjC(gpmB), fdhF (yjjD, rssB, yjfP aren't in model)\n",
        "model.genes.b1761.knock_out() # gdhA\n",
        "model.genes.b0114.knock_out() # aceA\n",
        "model.genes.b4395.knock_out() # ytjC\n",
        "model.genes.b4079.knock_out() # fdhF\n",
        "#undo the overexpression\n",
        "model.reactions.get_by_id('DXPS').lower_bound = DXPSlowerbound\n",
        "model.reactions.get_by_id('IPDDI').lower_bound = IPDDIlowerbound\n",
        "model.reactions.get_by_id('MECDPS').lower_bound = MECDPSlowerbound\n",
        "model.reactions.get_by_id('MEPCT').lower_bound = MEPCTlowerbound"
      ],
      "execution_count": 0,
      "outputs": []
    },
    {
      "cell_type": "code",
      "metadata": {
        "id": "gx33W0KuNvo_",
        "colab_type": "code",
        "outputId": "ce24a661-61ca-4113-df3a-5496d4b0a23c",
        "colab": {
          "base_uri": "https://localhost:8080/",
          "height": 68
        }
      },
      "source": [
        "#Set the objective to Biomass\n",
        "model.reactions.get_by_id('BIOMASS_Ec_iJO1366_core_53p95M').objective_coefficient = 0\n",
        "model.reactions.get_by_id('BIOMASS_Ec_iJO1366_WT_53p95M').objective_coefficient = 1.0\n",
        "model.reactions.get_by_id('LYCO-dem').objective_coefficient = 0\n",
        "\n",
        "#Solve to get rates with knockouts\n",
        "\n",
        "solution=model.optimize()\n",
        "#Output solution\n",
        "print('Growth Rate (1/h): ' + str(solution.fluxes.get('BIOMASS_Ec_iJO1366_WT_53p95M')))\n",
        "print('Lycopene Production Rate (mmol/gdcw/h): ' + str(solution.fluxes.get('LYCO-dem')))\n",
        "print('Lycopene Yield (mol/mol glucose): ' +\n",
        "str(-solution.fluxes.get('LYCO-dem')/solution.fluxes.get('EX_glc__D_e')))"
      ],
      "execution_count": 0,
      "outputs": [
        {
          "output_type": "stream",
          "text": [
            "Growth Rate (1/h): 0.7962601526733222\n",
            "Lycopene Production Rate (mmol/gdcw/h): 0.0\n",
            "Lycopene Yield (mol/mol glucose): 0.0\n"
          ],
          "name": "stdout"
        }
      ]
    },
    {
      "cell_type": "code",
      "metadata": {
        "id": "2nv99664N1-c",
        "colab_type": "code",
        "colab": {}
      },
      "source": [
        "#Knockout genes gdhA, aceE, ytjC(gpmB), fdhF (yjjD, rssB, yjfP aren't in model)\n",
        "model.genes.b1761.knock_out() # gdhA\n",
        "model.genes.b0114.knock_out() # aceA\n",
        "model.genes.b4395.knock_out() # ytjC\n",
        "model.genes.b4079.knock_out() # fdhF\n",
        "\n",
        "#Overexpress dxs, idi, ispFD\n",
        "model.reactions.get_by_id('DXPS').lower_bound = 2\n",
        "model.reactions.get_by_id('IPDDI').lower_bound = 0.5\n",
        "model.reactions.get_by_id('MECDPS').lower_bound = 2\n",
        "model.reactions.get_by_id('MEPCT').lower_bound = 2\n"
      ],
      "execution_count": 0,
      "outputs": []
    },
    {
      "cell_type": "code",
      "metadata": {
        "id": "-1t1o1LRN-Q0",
        "colab_type": "code",
        "outputId": "aa7799c4-9dbe-4e20-d8a8-3cdb4fffee47",
        "colab": {
          "base_uri": "https://localhost:8080/",
          "height": 68
        }
      },
      "source": [
        "#Set the objective to Biomass\n",
        "model.reactions.get_by_id('BIOMASS_Ec_iJO1366_core_53p95M').objective_coefficient = 0\n",
        "model.reactions.get_by_id('BIOMASS_Ec_iJO1366_WT_53p95M').objective_coefficient = 1.0\n",
        "model.reactions.get_by_id('LYCO-dem').objective_coefficient = 0\n",
        "\n",
        "#Solve to get rates with overexpression and knockouts\n",
        "\n",
        "solution=model.optimize()\n",
        "#Output solution\n",
        "print('Growth Rate (1/h): ' + str(solution.fluxes.get('BIOMASS_Ec_iJO1366_WT_53p95M')))\n",
        "print('Lycopene Production Rate (mmol/gdcw/h): ' + str(solution.fluxes.get('LYCO-dem')))\n",
        "print('Lycopene Yield (mol/mol glucose): ' +\n",
        "str(-solution.fluxes.get('LYCO-dem')/solution.fluxes.get('EX_glc__D_e')))"
      ],
      "execution_count": 0,
      "outputs": [
        {
          "output_type": "stream",
          "text": [
            "Growth Rate (1/h): 0.7085755330435601\n",
            "Lycopene Production Rate (mmol/gdcw/h): 0.2496644894851038\n",
            "Lycopene Yield (mol/mol glucose): 0.02496644894851038\n"
          ],
          "name": "stdout"
        }
      ]
    }
  ]
}