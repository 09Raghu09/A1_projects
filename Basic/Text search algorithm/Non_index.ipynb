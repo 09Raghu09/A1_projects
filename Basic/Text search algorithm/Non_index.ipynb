{
  "nbformat": 4,
  "nbformat_minor": 0,
  "metadata": {
    "colab": {
      "name": "Focus Areas 12.ipynb",
      "provenance": []
    },
    "kernelspec": {
      "name": "python3",
      "display_name": "Python 3"
    }
  },
  "cells": [
    {
      "cell_type": "code",
      "metadata": {
        "id": "1J-rdzLH8wIj",
        "colab_type": "code",
        "colab": {
          "base_uri": "https://localhost:8080/",
          "height": 35
        },
        "outputId": "10bfb3be-a268-4eef-d30f-6a09f81aa2bd"
      },
      "source": [
        "# https://www.geeksforgeeks.org/boyer-moore-algorithm-for-pattern-searching/\n",
        "\n",
        "# Python3 Program for Bad Character Heuristic \n",
        "# of Boyer Moore String Matching Algorithm  \n",
        "  \n",
        "NO_OF_CHARS = 256\n",
        "  \n",
        "def badCharHeuristic(string, size): \n",
        "    ''' \n",
        "    The preprocessing function for \n",
        "    Boyer Moore's bad character heuristic \n",
        "    '''\n",
        "  \n",
        "    # Initialize all occurrence as -1 \n",
        "    badChar = [-1]*NO_OF_CHARS \n",
        "  \n",
        "    # Fill the actual value of last occurrence \n",
        "    for i in range(size): \n",
        "        badChar[ord(string[i])] = i; \n",
        "  \n",
        "    # retun initialized list \n",
        "    return badChar \n",
        "  \n",
        "def search(txt, pat): \n",
        "    ''' \n",
        "    A pattern searching function that uses Bad Character \n",
        "    Heuristic of Boyer Moore Algorithm \n",
        "    '''\n",
        "    m = len(pat) \n",
        "    n = len(txt) \n",
        "  \n",
        "    # create the bad character list by calling  \n",
        "    # the preprocessing function badCharHeuristic() \n",
        "    # for given pattern \n",
        "    badChar = badCharHeuristic(pat, m)  \n",
        "  \n",
        "    # s is shift of the pattern with respect to text \n",
        "    s = 0\n",
        "    while(s <= n-m): \n",
        "        j = m-1\n",
        "  \n",
        "        # Keep reducing index j of pattern while  \n",
        "        # characters of pattern and text are matching \n",
        "        # at this shift s \n",
        "        while j>=0 and pat[j] == txt[s+j]: \n",
        "            j -= 1\n",
        "  \n",
        "        # If the pattern is present at current shift,  \n",
        "        # then index j will become -1 after the above loop \n",
        "        if j<0: \n",
        "            print(\"Pattern occur at shift = {}\".format(s)) \n",
        "  \n",
        "            '''     \n",
        "                Shift the pattern so that the next character in text \n",
        "                      aligns with the last occurrence of it in pattern. \n",
        "                The condition s+m < n is necessary for the case when \n",
        "                   pattern occurs at the end of text \n",
        "               '''\n",
        "            s += (m-badChar[ord(txt[s+m])] if s+m<n else 1) \n",
        "        else: \n",
        "            ''' \n",
        "               Shift the pattern so that the bad character in text \n",
        "               aligns with the last occurrence of it in pattern. The \n",
        "               max function is used to make sure that we get a positive \n",
        "               shift. We may get a negative shift if the last occurrence \n",
        "               of bad character in pattern is on the right side of the \n",
        "               current character. \n",
        "            '''\n",
        "            s += max(1, j-badChar[ord(txt[s+j])]) \n",
        "  \n",
        "  \n",
        "# Driver program to test above function \n",
        "def main(): \n",
        "    txt = \"ABABBBAASSSBCDABABBBAASSSBCDABC\"\n",
        "    pat = \"ABC\"\n",
        "    search(txt, pat) \n",
        "  \n",
        "if __name__ == '__main__': \n",
        "    main() \n",
        "  \n",
        "# This code is contributed by Atul Kumar \n",
        "# (www.facebook.com/atul.kr.007) \n"
      ],
      "execution_count": 1,
      "outputs": [
        {
          "output_type": "stream",
          "text": [
            "Pattern occur at shift = 28\n"
          ],
          "name": "stdout"
        }
      ]
    }
  ]
}