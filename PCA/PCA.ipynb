{
 "cells": [
  {
   "cell_type": "markdown",
   "metadata": {},
   "source": [
    "# PCA for chemical descriptors"
   ]
  },
  {
   "cell_type": "markdown",
   "metadata": {},
   "source": [
    "# Goal of the project\n",
    "\n",
    "Here, we get familiarized with chemical descriptors and there importance in drug design and also using the Principle Component analysis with the different components for the dimensionality reduction from the dataset of EGFR-tested compounds from the ChEMBL database to understand the working of the PCA as well as the alternative techniques."
   ]
  },
  {
   "cell_type": "markdown",
   "metadata": {},
   "source": [
    "# Learning goals\n",
    "\n",
    "\n",
    "## Theory\n",
    "\n",
    "\n",
    "* Chemical descriptors\n",
    "* Canonical SMILES \n",
    "* Molecular fingerprints\n",
    "* Priciple component analysis\n",
    "   * Pros and cons\n",
    "   * Applications\n",
    "\n",
    "## Practical\n",
    "\n",
    "\n",
    "* Import the required packages and use dataset CHEMBL25_activities_EGFR.csv.\n",
    "* Transform the pIC50 values into binary values \n",
    "* Transform the SMILES into a fingerprint composed of RDKit's physchem descriptors.\n",
    "* Perform PCA with 2 components and plot both active and non-active points \n",
    "* PCA with 3 components\n",
    "* PCA with varying the parameters in the fingerprints\n",
    "\n",
    "\n",
    "# References\n",
    "\n",
    "* Molecular informatics 2016 35 160-180. DOI: [10.1002/minf.201501019](https://onlinelibrary.wiley.com/doi/full/10.1002/minf.201501019)\n",
    "* [RDKit descriptors](https://www.rdkit.org/docs/GettingStartedInPython.html#list-of-available-descriptors)\n",
    "* [Implementing a Principal Component Analysis (PCA)](https://sebastianraschka.com/Articles/2014_pca_step_by_step.html), Sebastian Raschka\n",
    "* [PCA in scikit-learn](https://scikit-learn.org/stable/modules/generated/sklearn.decomposition.PCA.html?highlight=pca#sklearn.decomposition.PCA)\n",
    "* [RdKit fingerprints](http://www.rdkit.org/UGM/2012/Landrum_RDKit_UGM.Fingerprints.Final.pptx.pdf)"
   ]
  },
  {
   "cell_type": "markdown",
   "metadata": {},
   "source": [
    "# Theory\n",
    "\n",
    "## Chemical descriptors\n",
    "\n",
    "Chemical descriptor is \"The molecular descriptor is the final result of a logic and mathematical procedure which transforms chemical information encoded within a symbolic representation of a molecule into a useful number or the result of some standardized experiment\".\n",
    "Molecular descriptors are considered to be the properties of the molecule expressed in numerical value usually calculated by drug design and statistical software.\n",
    "They can be broadly categorized into the following categories:\n",
    "- Constitutional (the relative numbers of various atom types)\n",
    "- Topological (describing properties and connectivity of atoms making up the material)\n",
    "- Physicochemical (relating to the water or lipid solubility, dipole moment, formal charge, etc.)\n",
    "- Structural (describing the three-dimensional size, shape, and surface properties of the molecule\n",
    "- Quantum-chemical (e.g., partial charges, polarizabilities, multipole moments, orbital energies, etc. calculated   using semiempirical, density functional theory)\n",
    "\n",
    "<div style=\"text-align: center;\">\n",
    "    <img src=\"images/Cd.png\" style=\"max-width: 190px; width:200%;\" />\n",
    "</div>\n",
    "\n",
    "*Figure 1:* Chemical descriptors."
   ]
  },
  {
   "cell_type": "markdown",
   "metadata": {},
   "source": [
    "The importance of calculating these descriptors lies in relating them to activity to construct a quantitative linear structure activity relationship which is used to validate the obtained IC50 of the tested molecules and further to predict the activity of new proposed hits.\n",
    "\n",
    "\n",
    "## Canonical SMILES\n",
    "\n",
    "The simplified molecular-input line-entry system (SMILES) is a specification in the form of a line notation for describing the structure of chemical species using short ASCII strings.\n",
    "The SMILES format is a linear text format which can describe the connectivity and chirality of a molecule. Canonical SMILES gives a single 'canonical' form for any particular molecule.\n",
    "However, the term SMILES is also commonly used to refer to both a single SMILES string and a number of SMILES strings; the exact meaning is usually apparent from the context. The terms \"canonical\" and \"isomeric\" can lead to some confusion when applied to SMILES.\n",
    "\n",
    "<div style=\"text-align: center;\">\n",
    "    <img src=\"images/SMILES.png\" style=\"max-width: 300px; width:200%;\" />\n",
    "</div>\n",
    "\n",
    "*Figure 1:* SMILE structure generation.\n",
    "\n",
    "\n",
    "\n",
    "## Molecular fingerprints\n",
    "\n",
    "A molecular \"fingerprint\" is a widely used concept in chemical informatics. Comparing molecules is hard. Comparing bitstrings is easy. Many people turn a molecule into a bitstring under the assumption that comparing the bitstring gives insight to how to compare molecules. To make life more complicated, chemical informatics uses the term \"fingerprint\" but feel free to think of it in your head as \"bitstring.\"\n",
    "\n",
    "There are two main major types of fingerprints, and lots of lesser used ones. \"Structural fingerprints\" are based on substructure features. The most widely known and used are the MACCS keys, which are available in two flavors: 166 bit and 320 bit. Each bit in a structural fingerprint corresponds to some chemical property, usually some sort of substructure presence. \n",
    "\n",
    "<div style=\"text-align: center;\">\n",
    "    <img src=\"images/fp.png\" style=\"max-width: 300px; width:200%;\" />\n",
    "</div>\n",
    "\n",
    "*Figure 2:* Representation of a molecular substructure fingerprint.\n",
    "\n",
    "\n",
    "\n",
    "## Principle component analysis\n",
    "\n",
    "The main purpose of a principal component analysis is the analysis of data to identify patterns and finding patterns to reduce the dimensions of the dataset with minimal loss of information.\n",
    "PCA is used to transform a high-dimensional dataset into a smaller-dimensional subspace – into a new coordinate system. In the new coordinate system, the first axis corresponds to the first principal component, which is the component that explains the greatest amount of the variance in the data.\n",
    "\n",
    "In simple words, a principal component analysis is a method of extracting important variables known as principal components from a large set of variables available in a data set. It captures as much information as possible from the original high dimensional data. It represents the original data in terms of its principal components in a new dimension space.\n",
    "\n",
    "#### What are the Principal Components?\n",
    "\n",
    "Principal components are the underlying structure in the data. They are the directions where there is the most variance, the directions where the data is most spread out. There are multiple principal components of a data – each representing the different variance of the data. They are arranged in a chronological order of variance. The first PC will capture the most variance i.e. the most information about the data, followed by the second, third and so on.\n",
    "\n",
    "There are 6 general steps for performing a principal component analysis. They are\n",
    "\n",
    "1. Take the whole dataset consisting of d-dimensional samples ignoring the class labels\n",
    "2. Compute the d-dimensional mean vector (i.e., the means for every dimension of the whole dataset)\n",
    "3. Compute the scatter matrix (alternatively, the covariance matrix) of the whole data set\n",
    "4. Compute eigenvectors (ee1,ee2,...,eed) and corresponding eigenvalues (λλ1,λλ2,...,λλd)\n",
    "5. Sort the eigenvectors by decreasing eigenvalues and choose k eigenvectors with the largest eigenvalues to form    d×k dimensional matrix WW(where every column represents an eigenvector)\n",
    "6. Use this d×k eigenvector matrix to transform the samples onto the new subspace.\n",
    "\n",
    "PCA can also be performed using scikit learn libraries, which is basically the simple and a easy method. \n",
    "\n",
    "### Pros and Cons\n",
    "\n",
    "#### Pros\n",
    "- Removes Correlated Features\n",
    "- Improves Algorithm Performance\n",
    "- Reduces Overfitting\n",
    "- Improves Visualization\n",
    "\n",
    "#### Cons\n",
    "- Independent variables become less interpretable\n",
    "- Data standardization is must before PCA\n",
    "- Information Loss\n",
    "\n",
    "### Applications of PCA\n",
    "\n",
    "- Compression\n",
    "- Visualization\n",
    "- Speeding up Machine Learning Algorithms\n",
    "- Reducing Noise from the data"
   ]
  },
  {
   "cell_type": "markdown",
   "metadata": {},
   "source": [
    "# Practical\n",
    "\n",
    "## Import the required packages and use dataset CHEMBL25_activities_EGFR.csv\n",
    "\n",
    "Importing the necessary python libraries\n",
    "\n",
    "* Numpy - package for scientifc computing\n",
    "* Pandas - package for working with data frames (tables)\n",
    "* RDKit - chemoinformatics library\n",
    "* sklearn - designed to interoperate with the Python numerical and scientific libraries NumPy and SciPy\n",
    "* Matplotlib - To plot the statistical values"
   ]
  },
  {
   "cell_type": "code",
   "execution_count": 1,
   "metadata": {},
   "outputs": [
    {
     "name": "stdout",
     "output_type": "stream",
     "text": [
      "All packages are installed successfully\n"
     ]
    }
   ],
   "source": [
    "# Import statements\n",
    "import pandas as pd\n",
    "from rdkit import Chem\n",
    "from rdkit.Chem import PandasTools\n",
    "from rdkit.Chem import Draw\n",
    "from rdkit.Chem.Fingerprints import FingerprintMols\n",
    "from rdkit.Chem import Descriptors\n",
    "from rdkit.Chem import rdMolDescriptors\n",
    "import numpy as np\n",
    "\n",
    "from sklearn.preprocessing import StandardScaler\n",
    "from sklearn.decomposition import PCA\n",
    "import matplotlib.pyplot as plt\n",
    "\n",
    "print('All packages are installed successfully')"
   ]
  },
  {
   "cell_type": "markdown",
   "metadata": {},
   "source": [
    "### Load data\n",
    "\n",
    "Load the data provided and The csv file is loaded into a dataframe with the important columns:\n",
    "\n",
    "* CHEMBL-ID\n",
    "* IC50 values\n",
    "* Units\n",
    "* Canonical SMILES\n",
    "* pIC50 values"
   ]
  },
  {
   "cell_type": "code",
   "execution_count": 2,
   "metadata": {},
   "outputs": [],
   "source": [
    "# Load data using absolute path\n",
    "df = pd.read_csv('../../data/CHEMBL25_activities_EGFR.csv', index_col=0)"
   ]
  },
  {
   "cell_type": "code",
   "execution_count": 3,
   "metadata": {},
   "outputs": [],
   "source": [
    "# remove warnings\n",
    "pd.options.mode.chained_assignment = None"
   ]
  },
  {
   "cell_type": "code",
   "execution_count": 4,
   "metadata": {},
   "outputs": [
    {
     "name": "stdout",
     "output_type": "stream",
     "text": [
      "(3906, 5)\n"
     ]
    }
   ],
   "source": [
    "# Check the dimension of the data\n",
    "print(df.shape)"
   ]
  },
  {
   "cell_type": "code",
   "execution_count": 5,
   "metadata": {},
   "outputs": [
    {
     "name": "stdout",
     "output_type": "stream",
     "text": [
      "<class 'pandas.core.frame.DataFrame'>\n",
      "Int64Index: 3906 entries, 1777 to 2783\n",
      "Data columns (total 5 columns):\n",
      " #   Column            Non-Null Count  Dtype  \n",
      "---  ------            --------------  -----  \n",
      " 0   chembl_id         3906 non-null   object \n",
      " 1   IC50              3906 non-null   float64\n",
      " 2   units             3906 non-null   object \n",
      " 3   canonical_smiles  3906 non-null   object \n",
      " 4   pIC50             3906 non-null   float64\n",
      "dtypes: float64(2), object(3)\n",
      "memory usage: 183.1+ KB\n"
     ]
    }
   ],
   "source": [
    "df.info()"
   ]
  },
  {
   "cell_type": "code",
   "execution_count": 6,
   "metadata": {},
   "outputs": [
    {
     "data": {
      "text/html": [
       "<div>\n",
       "<style scoped>\n",
       "    .dataframe tbody tr th:only-of-type {\n",
       "        vertical-align: middle;\n",
       "    }\n",
       "\n",
       "    .dataframe tbody tr th {\n",
       "        vertical-align: top;\n",
       "    }\n",
       "\n",
       "    .dataframe thead th {\n",
       "        text-align: right;\n",
       "    }\n",
       "</style>\n",
       "<table border=\"1\" class=\"dataframe\">\n",
       "  <thead>\n",
       "    <tr style=\"text-align: right;\">\n",
       "      <th></th>\n",
       "      <th>chembl_id</th>\n",
       "      <th>IC50</th>\n",
       "      <th>units</th>\n",
       "      <th>canonical_smiles</th>\n",
       "      <th>pIC50</th>\n",
       "    </tr>\n",
       "  </thead>\n",
       "  <tbody>\n",
       "    <tr>\n",
       "      <th>1777</th>\n",
       "      <td>CHEMBL207869</td>\n",
       "      <td>77.0</td>\n",
       "      <td>nM</td>\n",
       "      <td>Clc1c(OCc2cc(F)ccc2)ccc(Nc2c(C#Cc3ncccn3)cncn2)c1</td>\n",
       "      <td>7.113509</td>\n",
       "    </tr>\n",
       "    <tr>\n",
       "      <th>5785</th>\n",
       "      <td>CHEMBL3940060</td>\n",
       "      <td>330.0</td>\n",
       "      <td>nM</td>\n",
       "      <td>ClCC(=O)OCCN1C(=O)Oc2c1cc1c(Nc3cc(Cl)c(F)cc3)n...</td>\n",
       "      <td>6.481486</td>\n",
       "    </tr>\n",
       "    <tr>\n",
       "      <th>6373</th>\n",
       "      <td>CHEMBL3678951</td>\n",
       "      <td>1.0</td>\n",
       "      <td>nM</td>\n",
       "      <td>FC(F)(F)c1cc(Nc2n(C(C)C)c3nc(Nc4ccc(N5CC[NH+](...</td>\n",
       "      <td>9.000000</td>\n",
       "    </tr>\n",
       "    <tr>\n",
       "      <th>2442</th>\n",
       "      <td>CHEMBL504034</td>\n",
       "      <td>40.0</td>\n",
       "      <td>nM</td>\n",
       "      <td>Clc1c(OCc2cc(F)ccc2)ccc(Nc2ncnc3c2sc(C#C[C@H]2...</td>\n",
       "      <td>7.397940</td>\n",
       "    </tr>\n",
       "    <tr>\n",
       "      <th>1084</th>\n",
       "      <td>CHEMBL158797</td>\n",
       "      <td>43000.0</td>\n",
       "      <td>nM</td>\n",
       "      <td>S(Sc1n(C)c2c(c1C(=O)NCC(O)CO)cccc2)c1n(C)c2c(c...</td>\n",
       "      <td>4.366531</td>\n",
       "    </tr>\n",
       "    <tr>\n",
       "      <th>6596</th>\n",
       "      <td>CHEMBL4069003</td>\n",
       "      <td>3.0</td>\n",
       "      <td>nM</td>\n",
       "      <td>Brc1cc(Nc2ncnc3c2cc(OCCCOP(=O)(N(CCCl)CCCl)N)c...</td>\n",
       "      <td>8.522879</td>\n",
       "    </tr>\n",
       "  </tbody>\n",
       "</table>\n",
       "</div>"
      ],
      "text/plain": [
       "          chembl_id     IC50 units  \\\n",
       "1777   CHEMBL207869     77.0    nM   \n",
       "5785  CHEMBL3940060    330.0    nM   \n",
       "6373  CHEMBL3678951      1.0    nM   \n",
       "2442   CHEMBL504034     40.0    nM   \n",
       "1084   CHEMBL158797  43000.0    nM   \n",
       "6596  CHEMBL4069003      3.0    nM   \n",
       "\n",
       "                                       canonical_smiles     pIC50  \n",
       "1777  Clc1c(OCc2cc(F)ccc2)ccc(Nc2c(C#Cc3ncccn3)cncn2)c1  7.113509  \n",
       "5785  ClCC(=O)OCCN1C(=O)Oc2c1cc1c(Nc3cc(Cl)c(F)cc3)n...  6.481486  \n",
       "6373  FC(F)(F)c1cc(Nc2n(C(C)C)c3nc(Nc4ccc(N5CC[NH+](...  9.000000  \n",
       "2442  Clc1c(OCc2cc(F)ccc2)ccc(Nc2ncnc3c2sc(C#C[C@H]2...  7.397940  \n",
       "1084  S(Sc1n(C)c2c(c1C(=O)NCC(O)CO)cccc2)c1n(C)c2c(c...  4.366531  \n",
       "6596  Brc1cc(Nc2ncnc3c2cc(OCCCOP(=O)(N(CCCl)CCCl)N)c...  8.522879  "
      ]
     },
     "execution_count": 6,
     "metadata": {},
     "output_type": "execute_result"
    }
   ],
   "source": [
    "df.head(6)"
   ]
  },
  {
   "cell_type": "code",
   "execution_count": 7,
   "metadata": {},
   "outputs": [
    {
     "data": {
      "text/html": [
       "<div>\n",
       "<style scoped>\n",
       "    .dataframe tbody tr th:only-of-type {\n",
       "        vertical-align: middle;\n",
       "    }\n",
       "\n",
       "    .dataframe tbody tr th {\n",
       "        vertical-align: top;\n",
       "    }\n",
       "\n",
       "    .dataframe thead th {\n",
       "        text-align: right;\n",
       "    }\n",
       "</style>\n",
       "<table border=\"1\" class=\"dataframe\">\n",
       "  <thead>\n",
       "    <tr style=\"text-align: right;\">\n",
       "      <th></th>\n",
       "      <th>chembl_id</th>\n",
       "      <th>IC50</th>\n",
       "      <th>units</th>\n",
       "      <th>canonical_smiles</th>\n",
       "      <th>pIC50</th>\n",
       "    </tr>\n",
       "  </thead>\n",
       "  <tbody>\n",
       "    <tr>\n",
       "      <th>5673</th>\n",
       "      <td>CHEMBL3806213</td>\n",
       "      <td>24.100000</td>\n",
       "      <td>nM</td>\n",
       "      <td>Clc1c(F)ccc(Nc2ncnc3c2c2OCCOc2c(OCC2OCCC2)c3)c1</td>\n",
       "      <td>7.617983</td>\n",
       "    </tr>\n",
       "    <tr>\n",
       "      <th>1560</th>\n",
       "      <td>CHEMBL309937</td>\n",
       "      <td>77500.000000</td>\n",
       "      <td>nM</td>\n",
       "      <td>N(c1ncnc2[nH]c(C)c(C)c12)c1ccc(CC)cc1</td>\n",
       "      <td>4.110698</td>\n",
       "    </tr>\n",
       "    <tr>\n",
       "      <th>3780</th>\n",
       "      <td>CHEMBL1829271</td>\n",
       "      <td>24680.000000</td>\n",
       "      <td>nM</td>\n",
       "      <td>Brc1cc(CC(=O)NS(=O)(=O)c2ccccc2)ccc1</td>\n",
       "      <td>4.607655</td>\n",
       "    </tr>\n",
       "    <tr>\n",
       "      <th>6207</th>\n",
       "      <td>CHEMBL3671533</td>\n",
       "      <td>9.000000</td>\n",
       "      <td>nM</td>\n",
       "      <td>Brc1cc(F)c(Nc2ncnc3c2cc(NC(=O)C=C)c(OCCNC(=O)C...</td>\n",
       "      <td>8.045757</td>\n",
       "    </tr>\n",
       "    <tr>\n",
       "      <th>3011</th>\n",
       "      <td>CHEMBL589826</td>\n",
       "      <td>32.599998</td>\n",
       "      <td>nM</td>\n",
       "      <td>Clc1c(F)ccc(Nc2ncnc3c2cc(OCCCCC=C)c(OC)c3)c1</td>\n",
       "      <td>7.486783</td>\n",
       "    </tr>\n",
       "    <tr>\n",
       "      <th>2783</th>\n",
       "      <td>CHEMBL473437</td>\n",
       "      <td>4.000000</td>\n",
       "      <td>nM</td>\n",
       "      <td>Clc1c(OCc2cc(F)ccc2)ccc(Nc2ncnc3c2sc(-c2[nH]c(...</td>\n",
       "      <td>8.397940</td>\n",
       "    </tr>\n",
       "  </tbody>\n",
       "</table>\n",
       "</div>"
      ],
      "text/plain": [
       "          chembl_id          IC50 units  \\\n",
       "5673  CHEMBL3806213     24.100000    nM   \n",
       "1560   CHEMBL309937  77500.000000    nM   \n",
       "3780  CHEMBL1829271  24680.000000    nM   \n",
       "6207  CHEMBL3671533      9.000000    nM   \n",
       "3011   CHEMBL589826     32.599998    nM   \n",
       "2783   CHEMBL473437      4.000000    nM   \n",
       "\n",
       "                                       canonical_smiles     pIC50  \n",
       "5673    Clc1c(F)ccc(Nc2ncnc3c2c2OCCOc2c(OCC2OCCC2)c3)c1  7.617983  \n",
       "1560              N(c1ncnc2[nH]c(C)c(C)c12)c1ccc(CC)cc1  4.110698  \n",
       "3780               Brc1cc(CC(=O)NS(=O)(=O)c2ccccc2)ccc1  4.607655  \n",
       "6207  Brc1cc(F)c(Nc2ncnc3c2cc(NC(=O)C=C)c(OCCNC(=O)C...  8.045757  \n",
       "3011       Clc1c(F)ccc(Nc2ncnc3c2cc(OCCCCC=C)c(OC)c3)c1  7.486783  \n",
       "2783  Clc1c(OCc2cc(F)ccc2)ccc(Nc2ncnc3c2sc(-c2[nH]c(...  8.397940  "
      ]
     },
     "execution_count": 7,
     "metadata": {},
     "output_type": "execute_result"
    }
   ],
   "source": [
    "df.tail(6)"
   ]
  },
  {
   "cell_type": "markdown",
   "metadata": {},
   "source": [
    "### Draw the molecules"
   ]
  },
  {
   "cell_type": "code",
   "execution_count": 8,
   "metadata": {},
   "outputs": [
    {
     "data": {
      "image/png": "[encoded data removed]",
      "text/plain": [
       "<PIL.PngImagePlugin.PngImageFile image mode=RGB size=1000x400 at 0x7F651A87DA90>"
      ]
     },
     "execution_count": 8,
     "metadata": {},
     "output_type": "execute_result"
    }
   ],
   "source": [
    "# Using pandas tools and Draw method we can visualize our molecules\n",
    "PandasTools.AddMoleculeColumnToFrame(df, smilesCol='canonical_smiles')\n",
    "Draw.MolsToGridImage(list(df.ROMol[0:10]),\n",
    "                     legends=list(df.chembl_id[0:20]), molsPerRow=5)"
   ]
  },
  {
   "cell_type": "markdown",
   "metadata": {},
   "source": [
    "## Transform the pIC50 values into binary values.\n",
    "\n",
    "###  Classify data\n",
    "\n",
    "Classification of the compound as active or inactive, by transforming them to binary therefore, using the pIC50 values.\n",
    "\n",
    "* pIC50 = -log10(IC50)\n",
    "* IC50 describes the molar concentration (mol/L) that will result in 50 percent of inhibition in-vitro.\n",
    "* A common cut-off value to discretize pIC50 data is 6,3, which is used for this experiment.\n",
    "\n",
    "Using the functions defined above to generate the molecules and their fingerprints as well as specifying which molecule is active and which is not.\n"
   ]
  },
  {
   "cell_type": "code",
   "execution_count": 9,
   "metadata": {},
   "outputs": [],
   "source": [
    "# Drop unnecessary columns\n",
    "df_new = df.drop(['units', 'IC50'], axis=1)"
   ]
  },
  {
   "cell_type": "code",
   "execution_count": 10,
   "metadata": {},
   "outputs": [
    {
     "name": "stdout",
     "output_type": "stream",
     "text": [
      "actives: 2214, inactives: 1692\n"
     ]
    }
   ],
   "source": [
    "# Mark every molecule as active with an pIC50 of > 6.3\n",
    "df_new.loc[df_new[df_new.pIC50 >= 6.3].index, 'state'] = 1.0\n",
    "print('actives: %d, inactives: %d' % (df_new.state.sum(),\n",
    "                                      len(df_new)-df_new.state.sum()))"
   ]
  },
  {
   "cell_type": "code",
   "execution_count": 11,
   "metadata": {},
   "outputs": [],
   "source": [
    "df_new[\"state\"] = df_new[\"state\"].fillna(0)"
   ]
  },
  {
   "cell_type": "code",
   "execution_count": 12,
   "metadata": {
    "scrolled": false
   },
   "outputs": [
    {
     "data": {
      "text/html": [
       "<div>\n",
       "<style scoped>\n",
       "    .dataframe tbody tr th:only-of-type {\n",
       "        vertical-align: middle;\n",
       "    }\n",
       "\n",
       "    .dataframe tbody tr th {\n",
       "        vertical-align: top;\n",
       "    }\n",
       "\n",
       "    .dataframe thead th {\n",
       "        text-align: right;\n",
       "    }\n",
       "</style>\n",
       "<table border=\"1\" class=\"dataframe\">\n",
       "  <thead>\n",
       "    <tr style=\"text-align: right;\">\n",
       "      <th></th>\n",
       "      <th>chembl_id</th>\n",
       "      <th>canonical_smiles</th>\n",
       "      <th>pIC50</th>\n",
       "      <th>ROMol</th>\n",
       "      <th>state</th>\n",
       "    </tr>\n",
       "  </thead>\n",
       "  <tbody>\n",
       "    <tr>\n",
       "      <th>1777</th>\n",
       "      <td>CHEMBL207869</td>\n",
       "      <td>Clc1c(OCc2cc(F)ccc2)ccc(Nc2c(C#Cc3ncccn3)cncn2)c1</td>\n",
       "      <td>7.113509</td>\n",
       "      <td><img data-content=\"rdkit/molecule\" src=\"data:image/png;base64,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\" alt=\"Mol\"/></td>\n",
       "      <td>1.0</td>\n",
       "    </tr>\n",
       "    <tr>\n",
       "      <th>5785</th>\n",
       "      <td>CHEMBL3940060</td>\n",
       "      <td>ClCC(=O)OCCN1C(=O)Oc2c1cc1c(Nc3cc(Cl)c(F)cc3)n...</td>\n",
       "      <td>6.481486</td>\n",
       "      <td><img data-content=\"rdkit/molecule\" src=\"data:image/png;base64,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\" alt=\"Mol\"/></td>\n",
       "      <td>1.0</td>\n",
       "    </tr>\n",
       "    <tr>\n",
       "      <th>6373</th>\n",
       "      <td>CHEMBL3678951</td>\n",
       "      <td>FC(F)(F)c1cc(Nc2n(C(C)C)c3nc(Nc4ccc(N5CC[NH+](...</td>\n",
       "      <td>9.000000</td>\n",
       "      <td><img data-content=\"rdkit/molecule\" src=\"data:image/png;base64,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\" alt=\"Mol\"/></td>\n",
       "      <td>1.0</td>\n",
       "    </tr>\n",
       "    <tr>\n",
       "      <th>2442</th>\n",
       "      <td>CHEMBL504034</td>\n",
       "      <td>Clc1c(OCc2cc(F)ccc2)ccc(Nc2ncnc3c2sc(C#C[C@H]2...</td>\n",
       "      <td>7.397940</td>\n",
       "      <td><img data-content=\"rdkit/molecule\" src=\"data:image/png;base64,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\" alt=\"Mol\"/></td>\n",
       "      <td>1.0</td>\n",
       "    </tr>\n",
       "    <tr>\n",
       "      <th>1084</th>\n",
       "      <td>CHEMBL158797</td>\n",
       "      <td>S(Sc1n(C)c2c(c1C(=O)NCC(O)CO)cccc2)c1n(C)c2c(c...</td>\n",
       "      <td>4.366531</td>\n",
       "      <td><img data-content=\"rdkit/molecule\" src=\"data:image/png;base64,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\" alt=\"Mol\"/></td>\n",
       "      <td>0.0</td>\n",
       "    </tr>\n",
       "  </tbody>\n",
       "</table>\n",
       "</div>"
      ],
      "text/plain": [
       "          chembl_id                                   canonical_smiles  \\\n",
       "1777   CHEMBL207869  Clc1c(OCc2cc(F)ccc2)ccc(Nc2c(C#Cc3ncccn3)cncn2)c1   \n",
       "5785  CHEMBL3940060  ClCC(=O)OCCN1C(=O)Oc2c1cc1c(Nc3cc(Cl)c(F)cc3)n...   \n",
       "6373  CHEMBL3678951  FC(F)(F)c1cc(Nc2n(C(C)C)c3nc(Nc4ccc(N5CC[NH+](...   \n",
       "2442   CHEMBL504034  Clc1c(OCc2cc(F)ccc2)ccc(Nc2ncnc3c2sc(C#C[C@H]2...   \n",
       "1084   CHEMBL158797  S(Sc1n(C)c2c(c1C(=O)NCC(O)CO)cccc2)c1n(C)c2c(c...   \n",
       "\n",
       "         pIC50                                              ROMol  state  \n",
       "1777  7.113509  <img data-content=\"rdkit/molecule\" src=\"data:i...    1.0  \n",
       "5785  6.481486  <img data-content=\"rdkit/molecule\" src=\"data:i...    1.0  \n",
       "6373  9.000000  <img data-content=\"rdkit/molecule\" src=\"data:i...    1.0  \n",
       "2442  7.397940  <img data-content=\"rdkit/molecule\" src=\"data:i...    1.0  \n",
       "1084  4.366531  <img data-content=\"rdkit/molecule\" src=\"data:i...    0.0  "
      ]
     },
     "execution_count": 12,
     "metadata": {},
     "output_type": "execute_result"
    }
   ],
   "source": [
    "df_new.head(5)"
   ]
  },
  {
   "cell_type": "markdown",
   "metadata": {},
   "source": [
    "## Transform the SMILES into a fingerprint composed of RDKit's physchem descriptors.\n",
    "\n",
    "Fingerprints are generated from the Canonical SMILES by using the RDkit"
   ]
  },
  {
   "cell_type": "code",
   "execution_count": 13,
   "metadata": {},
   "outputs": [],
   "source": [
    "mol = Chem.MolFromSmiles('Clc1c(OCc2cc(F)ccc2)ccc(Nc2c(C#Cc3ncccn3)cncn2)c1')"
   ]
  },
  {
   "cell_type": "code",
   "execution_count": 14,
   "metadata": {},
   "outputs": [
    {
     "data": {
      "text/plain": [
       "[431.8580000000001]"
      ]
     },
     "execution_count": 14,
     "metadata": {},
     "output_type": "execute_result"
    }
   ],
   "source": [
    "mol_weights = [Descriptors.MolWt(mol)]\n",
    "mol_weights"
   ]
  },
  {
   "cell_type": "code",
   "execution_count": 15,
   "metadata": {},
   "outputs": [
    {
     "name": "stdout",
     "output_type": "stream",
     "text": [
      "\n"
     ]
    }
   ],
   "source": [
    "# make a list of SMILES\n",
    "df_smiles = df_new['canonical_smiles']\n",
    "c_smiles = []\n",
    "for ds in df_smiles:\n",
    "    try:\n",
    "        cs = Chem.CanonSmiles(ds)\n",
    "        c_smiles.append(cs)\n",
    "    except Exception:\n",
    "        print('Invalid SMILES:', ds)\n",
    "print()"
   ]
  },
  {
   "cell_type": "code",
   "execution_count": 16,
   "metadata": {},
   "outputs": [],
   "source": [
    "# make a list of mols\n",
    "mols = [Chem.MolFromSmiles(x) for x in c_smiles]"
   ]
  },
  {
   "cell_type": "code",
   "execution_count": 17,
   "metadata": {},
   "outputs": [],
   "source": [
    "# Calculate values for the all the phys chem descriptors\n",
    "mol_weights = [Descriptors.MolWt(mol) for mol in mols]\n",
    "Exact_mol_weights = [Descriptors.ExactMolWt(mol) for mol in mols]\n",
    "HeavyAtomMolWt = [Descriptors.HeavyAtomMolWt(mol) for mol in mols]\n",
    "FpDensityMorgan1 = [Descriptors.FpDensityMorgan1(mol) for mol in mols]\n",
    "FpDensityMorgan2 = [Descriptors.FpDensityMorgan2(mol) for mol in mols]\n",
    "FpDensityMorgan3 = [Descriptors.FpDensityMorgan3(mol) for mol in mols]\n",
    "MaxAbsPartialCharge = [Descriptors.MaxAbsPartialCharge(mol, force=False)\n",
    "                       for mol in mols]\n",
    "MaxPartialCharge = [Descriptors.MaxPartialCharge(mol, force=False)\n",
    "                    for mol in mols]\n",
    "MinAbsPartialCharge = [Descriptors.MinAbsPartialCharge(mol, force=False)\n",
    "                       for mol in mols]\n",
    "MinPartialCharge = [Descriptors.MinPartialCharge(mol, force=False)\n",
    "                    for mol in mols]\n",
    "NumRadicalElectrons = [Descriptors.NumRadicalElectrons(mol) for mol in mols]\n",
    "NumValenceElectrons = [Descriptors.NumRadicalElectrons(mol) for mol in mols]"
   ]
  },
  {
   "cell_type": "code",
   "execution_count": 18,
   "metadata": {},
   "outputs": [
    {
     "data": {
      "text/html": [
       "<div>\n",
       "<style scoped>\n",
       "    .dataframe tbody tr th:only-of-type {\n",
       "        vertical-align: middle;\n",
       "    }\n",
       "\n",
       "    .dataframe tbody tr th {\n",
       "        vertical-align: top;\n",
       "    }\n",
       "\n",
       "    .dataframe thead th {\n",
       "        text-align: right;\n",
       "    }\n",
       "</style>\n",
       "<table border=\"1\" class=\"dataframe\">\n",
       "  <thead>\n",
       "    <tr style=\"text-align: right;\">\n",
       "      <th></th>\n",
       "      <th>mw</th>\n",
       "      <th>Exact_mw</th>\n",
       "      <th>Heavyatom_mw</th>\n",
       "      <th>Fp_densityM1</th>\n",
       "      <th>Fp_densityM2</th>\n",
       "      <th>Fp_densityM3</th>\n",
       "      <th>MaxAbs_ParCharge</th>\n",
       "      <th>Max_ParCharge</th>\n",
       "      <th>MinAbs_ParCharge</th>\n",
       "      <th>Min_ParCharge</th>\n",
       "      <th>NumRadEle</th>\n",
       "      <th>NumValEle</th>\n",
       "    </tr>\n",
       "  </thead>\n",
       "  <tbody>\n",
       "    <tr>\n",
       "      <th>2705</th>\n",
       "      <td>1422.720</td>\n",
       "      <td>1421.748941</td>\n",
       "      <td>1318.896</td>\n",
       "      <td>0.670000</td>\n",
       "      <td>1.270000</td>\n",
       "      <td>1.860000</td>\n",
       "      <td>0.550170</td>\n",
       "      <td>0.245853</td>\n",
       "      <td>0.245853</td>\n",
       "      <td>-0.550170</td>\n",
       "      <td>0</td>\n",
       "      <td>0</td>\n",
       "    </tr>\n",
       "    <tr>\n",
       "      <th>1466</th>\n",
       "      <td>1407.327</td>\n",
       "      <td>1400.775361</td>\n",
       "      <td>1368.015</td>\n",
       "      <td>0.440000</td>\n",
       "      <td>0.813333</td>\n",
       "      <td>1.240000</td>\n",
       "      <td>0.871276</td>\n",
       "      <td>0.141086</td>\n",
       "      <td>0.141086</td>\n",
       "      <td>-0.871276</td>\n",
       "      <td>0</td>\n",
       "      <td>0</td>\n",
       "    </tr>\n",
       "    <tr>\n",
       "      <th>3172</th>\n",
       "      <td>1160.495</td>\n",
       "      <td>1159.786309</td>\n",
       "      <td>1056.671</td>\n",
       "      <td>0.530864</td>\n",
       "      <td>0.962963</td>\n",
       "      <td>1.382716</td>\n",
       "      <td>0.390717</td>\n",
       "      <td>0.245423</td>\n",
       "      <td>0.245423</td>\n",
       "      <td>-0.390717</td>\n",
       "      <td>0</td>\n",
       "      <td>0</td>\n",
       "    </tr>\n",
       "    <tr>\n",
       "      <th>3132</th>\n",
       "      <td>1093.994</td>\n",
       "      <td>1087.655981</td>\n",
       "      <td>1071.818</td>\n",
       "      <td>0.500000</td>\n",
       "      <td>0.826923</td>\n",
       "      <td>1.250000</td>\n",
       "      <td>0.869189</td>\n",
       "      <td>0.155246</td>\n",
       "      <td>0.155246</td>\n",
       "      <td>-0.869189</td>\n",
       "      <td>0</td>\n",
       "      <td>0</td>\n",
       "    </tr>\n",
       "    <tr>\n",
       "      <th>1659</th>\n",
       "      <td>1032.251</td>\n",
       "      <td>1031.483314</td>\n",
       "      <td>966.731</td>\n",
       "      <td>0.506494</td>\n",
       "      <td>0.961039</td>\n",
       "      <td>1.441558</td>\n",
       "      <td>0.486117</td>\n",
       "      <td>0.337743</td>\n",
       "      <td>0.337743</td>\n",
       "      <td>-0.486117</td>\n",
       "      <td>0</td>\n",
       "      <td>0</td>\n",
       "    </tr>\n",
       "    <tr>\n",
       "      <th>...</th>\n",
       "      <td>...</td>\n",
       "      <td>...</td>\n",
       "      <td>...</td>\n",
       "      <td>...</td>\n",
       "      <td>...</td>\n",
       "      <td>...</td>\n",
       "      <td>...</td>\n",
       "      <td>...</td>\n",
       "      <td>...</td>\n",
       "      <td>...</td>\n",
       "      <td>...</td>\n",
       "      <td>...</td>\n",
       "    </tr>\n",
       "    <tr>\n",
       "      <th>3826</th>\n",
       "      <td>144.137</td>\n",
       "      <td>144.043596</td>\n",
       "      <td>140.105</td>\n",
       "      <td>1.545455</td>\n",
       "      <td>2.272727</td>\n",
       "      <td>2.727273</td>\n",
       "      <td>0.345071</td>\n",
       "      <td>0.132848</td>\n",
       "      <td>0.132848</td>\n",
       "      <td>-0.345071</td>\n",
       "      <td>0</td>\n",
       "      <td>0</td>\n",
       "    </tr>\n",
       "    <tr>\n",
       "      <th>1758</th>\n",
       "      <td>130.150</td>\n",
       "      <td>130.053098</td>\n",
       "      <td>124.102</td>\n",
       "      <td>1.100000</td>\n",
       "      <td>2.000000</td>\n",
       "      <td>2.900000</td>\n",
       "      <td>0.244153</td>\n",
       "      <td>0.115541</td>\n",
       "      <td>0.115541</td>\n",
       "      <td>-0.244153</td>\n",
       "      <td>0</td>\n",
       "      <td>0</td>\n",
       "    </tr>\n",
       "    <tr>\n",
       "      <th>1468</th>\n",
       "      <td>126.111</td>\n",
       "      <td>126.031694</td>\n",
       "      <td>120.063</td>\n",
       "      <td>0.888889</td>\n",
       "      <td>1.333333</td>\n",
       "      <td>1.666667</td>\n",
       "      <td>0.504161</td>\n",
       "      <td>0.199750</td>\n",
       "      <td>0.199750</td>\n",
       "      <td>-0.504161</td>\n",
       "      <td>0</td>\n",
       "      <td>0</td>\n",
       "    </tr>\n",
       "    <tr>\n",
       "      <th>3429</th>\n",
       "      <td>110.112</td>\n",
       "      <td>110.036779</td>\n",
       "      <td>104.064</td>\n",
       "      <td>0.875000</td>\n",
       "      <td>1.250000</td>\n",
       "      <td>1.500000</td>\n",
       "      <td>0.504260</td>\n",
       "      <td>0.156883</td>\n",
       "      <td>0.156883</td>\n",
       "      <td>-0.504260</td>\n",
       "      <td>0</td>\n",
       "      <td>0</td>\n",
       "    </tr>\n",
       "    <tr>\n",
       "      <th>1176</th>\n",
       "      <td>35.453</td>\n",
       "      <td>34.969401</td>\n",
       "      <td>35.453</td>\n",
       "      <td>1.000000</td>\n",
       "      <td>1.000000</td>\n",
       "      <td>1.000000</td>\n",
       "      <td>1.000000</td>\n",
       "      <td>-1.000000</td>\n",
       "      <td>1.000000</td>\n",
       "      <td>-1.000000</td>\n",
       "      <td>0</td>\n",
       "      <td>0</td>\n",
       "    </tr>\n",
       "  </tbody>\n",
       "</table>\n",
       "<p>3906 rows × 12 columns</p>\n",
       "</div>"
      ],
      "text/plain": [
       "            mw     Exact_mw  Heavyatom_mw  Fp_densityM1  Fp_densityM2  \\\n",
       "2705  1422.720  1421.748941      1318.896      0.670000      1.270000   \n",
       "1466  1407.327  1400.775361      1368.015      0.440000      0.813333   \n",
       "3172  1160.495  1159.786309      1056.671      0.530864      0.962963   \n",
       "3132  1093.994  1087.655981      1071.818      0.500000      0.826923   \n",
       "1659  1032.251  1031.483314       966.731      0.506494      0.961039   \n",
       "...        ...          ...           ...           ...           ...   \n",
       "3826   144.137   144.043596       140.105      1.545455      2.272727   \n",
       "1758   130.150   130.053098       124.102      1.100000      2.000000   \n",
       "1468   126.111   126.031694       120.063      0.888889      1.333333   \n",
       "3429   110.112   110.036779       104.064      0.875000      1.250000   \n",
       "1176    35.453    34.969401        35.453      1.000000      1.000000   \n",
       "\n",
       "      Fp_densityM3  MaxAbs_ParCharge  Max_ParCharge  MinAbs_ParCharge  \\\n",
       "2705      1.860000          0.550170       0.245853          0.245853   \n",
       "1466      1.240000          0.871276       0.141086          0.141086   \n",
       "3172      1.382716          0.390717       0.245423          0.245423   \n",
       "3132      1.250000          0.869189       0.155246          0.155246   \n",
       "1659      1.441558          0.486117       0.337743          0.337743   \n",
       "...            ...               ...            ...               ...   \n",
       "3826      2.727273          0.345071       0.132848          0.132848   \n",
       "1758      2.900000          0.244153       0.115541          0.115541   \n",
       "1468      1.666667          0.504161       0.199750          0.199750   \n",
       "3429      1.500000          0.504260       0.156883          0.156883   \n",
       "1176      1.000000          1.000000      -1.000000          1.000000   \n",
       "\n",
       "      Min_ParCharge  NumRadEle  NumValEle  \n",
       "2705      -0.550170          0          0  \n",
       "1466      -0.871276          0          0  \n",
       "3172      -0.390717          0          0  \n",
       "3132      -0.869189          0          0  \n",
       "1659      -0.486117          0          0  \n",
       "...             ...        ...        ...  \n",
       "3826      -0.345071          0          0  \n",
       "1758      -0.244153          0          0  \n",
       "1468      -0.504161          0          0  \n",
       "3429      -0.504260          0          0  \n",
       "1176      -1.000000          0          0  \n",
       "\n",
       "[3906 rows x 12 columns]"
      ]
     },
     "execution_count": 18,
     "metadata": {},
     "output_type": "execute_result"
    }
   ],
   "source": [
    "# Generate DataFrame for the results\n",
    "mw_df = pd.DataFrame({'mw': mol_weights,\n",
    "                      'Exact_mw': Exact_mol_weights,\n",
    "                      'Heavyatom_mw': HeavyAtomMolWt, 'Fp_densityM1':\n",
    "                      FpDensityMorgan1, 'Fp_densityM2':\n",
    "                      FpDensityMorgan2, 'Fp_densityM3': FpDensityMorgan3,\n",
    "                      'MaxAbs_ParCharge':\n",
    "                      MaxAbsPartialCharge, 'Max_ParCharge': MaxPartialCharge,\n",
    "                      'MinAbs_ParCharge': MinAbsPartialCharge, 'Min_ParCharge':\n",
    "                      MinPartialCharge, 'NumRadEle': NumRadicalElectrons,\n",
    "                      'NumValEle': NumValenceElectrons})\n",
    "\n",
    "# Sort by molecular weight\n",
    "mw_df.sort_values(['mw'], ascending=False, inplace=True)\n",
    "mw_df[[\"mw\", \"Exact_mw\", \"Heavyatom_mw\", \"Fp_densityM1\",\n",
    "       \"Fp_densityM2\", \"Fp_densityM3\",\n",
    "       \"MaxAbs_ParCharge\", \"Max_ParCharge\", \"MinAbs_ParCharge\",\n",
    "       \"Min_ParCharge\", \"NumRadEle\", \"NumValEle\"]]"
   ]
  },
  {
   "cell_type": "code",
   "execution_count": 19,
   "metadata": {},
   "outputs": [],
   "source": [
    "# make a list of fingerprints (fp)\n",
    "fps = [FingerprintMols.FingerprintMol(mol) for mol in mols]"
   ]
  },
  {
   "cell_type": "code",
   "execution_count": 20,
   "metadata": {},
   "outputs": [
    {
     "data": {
      "text/plain": [
       "[<rdkit.DataStructs.cDataStructs.ExplicitBitVect at 0x7f651a3599e0>,\n",
       " <rdkit.DataStructs.cDataStructs.ExplicitBitVect at 0x7f651a3598f0>,\n",
       " <rdkit.DataStructs.cDataStructs.ExplicitBitVect at 0x7f651a359b70>,\n",
       " <rdkit.DataStructs.cDataStructs.ExplicitBitVect at 0x7f651a359cb0>,\n",
       " <rdkit.DataStructs.cDataStructs.ExplicitBitVect at 0x7f651a359a80>,\n",
       " <rdkit.DataStructs.cDataStructs.ExplicitBitVect at 0x7f651a359c60>,\n",
       " <rdkit.DataStructs.cDataStructs.ExplicitBitVect at 0x7f651a3590d0>,\n",
       " <rdkit.DataStructs.cDataStructs.ExplicitBitVect at 0x7f651a359c10>,\n",
       " <rdkit.DataStructs.cDataStructs.ExplicitBitVect at 0x7f651a359bc0>,\n",
       " <rdkit.DataStructs.cDataStructs.ExplicitBitVect at 0x7f651a359a30>,\n",
       " <rdkit.DataStructs.cDataStructs.ExplicitBitVect at 0x7f651a359ad0>,\n",
       " <rdkit.DataStructs.cDataStructs.ExplicitBitVect at 0x7f651a359d00>,\n",
       " <rdkit.DataStructs.cDataStructs.ExplicitBitVect at 0x7f651a3593a0>,\n",
       " <rdkit.DataStructs.cDataStructs.ExplicitBitVect at 0x7f651a359490>,\n",
       " <rdkit.DataStructs.cDataStructs.ExplicitBitVect at 0x7f651a359760>,\n",
       " <rdkit.DataStructs.cDataStructs.ExplicitBitVect at 0x7f651a3595d0>,\n",
       " <rdkit.DataStructs.cDataStructs.ExplicitBitVect at 0x7f651a359620>,\n",
       " <rdkit.DataStructs.cDataStructs.ExplicitBitVect at 0x7f651a3596c0>,\n",
       " <rdkit.DataStructs.cDataStructs.ExplicitBitVect at 0x7f651a359580>,\n",
       " <rdkit.DataStructs.cDataStructs.ExplicitBitVect at 0x7f651a359530>,\n",
       " <rdkit.DataStructs.cDataStructs.ExplicitBitVect at 0x7f651a359800>,\n",
       " <rdkit.DataStructs.cDataStructs.ExplicitBitVect at 0x7f651a3598a0>,\n",
       " <rdkit.DataStructs.cDataStructs.ExplicitBitVect at 0x7f651a359850>,\n",
       " <rdkit.DataStructs.cDataStructs.ExplicitBitVect at 0x7f651a359d50>,\n",
       " <rdkit.DataStructs.cDataStructs.ExplicitBitVect at 0x7f651a359da0>,\n",
       " <rdkit.DataStructs.cDataStructs.ExplicitBitVect at 0x7f651a359df0>,\n",
       " <rdkit.DataStructs.cDataStructs.ExplicitBitVect at 0x7f651a359e40>,\n",
       " <rdkit.DataStructs.cDataStructs.ExplicitBitVect at 0x7f651a359e90>,\n",
       " <rdkit.DataStructs.cDataStructs.ExplicitBitVect at 0x7f651a359ee0>,\n",
       " <rdkit.DataStructs.cDataStructs.ExplicitBitVect at 0x7f651a359f30>,\n",
       " <rdkit.DataStructs.cDataStructs.ExplicitBitVect at 0x7f651a359f80>,\n",
       " <rdkit.DataStructs.cDataStructs.ExplicitBitVect at 0x7f651a359670>,\n",
       " <rdkit.DataStructs.cDataStructs.ExplicitBitVect at 0x7f651a373030>,\n",
       " <rdkit.DataStructs.cDataStructs.ExplicitBitVect at 0x7f651a373080>,\n",
       " <rdkit.DataStructs.cDataStructs.ExplicitBitVect at 0x7f651a3730d0>,\n",
       " <rdkit.DataStructs.cDataStructs.ExplicitBitVect at 0x7f651a373120>,\n",
       " <rdkit.DataStructs.cDataStructs.ExplicitBitVect at 0x7f651a373170>,\n",
       " <rdkit.DataStructs.cDataStructs.ExplicitBitVect at 0x7f651a3731c0>,\n",
       " <rdkit.DataStructs.cDataStructs.ExplicitBitVect at 0x7f651a373210>,\n",
       " <rdkit.DataStructs.cDataStructs.ExplicitBitVect at 0x7f651a373260>,\n",
       " <rdkit.DataStructs.cDataStructs.ExplicitBitVect at 0x7f651a3732b0>,\n",
       " <rdkit.DataStructs.cDataStructs.ExplicitBitVect at 0x7f651a373300>,\n",
       " <rdkit.DataStructs.cDataStructs.ExplicitBitVect at 0x7f651a373350>,\n",
       " <rdkit.DataStructs.cDataStructs.ExplicitBitVect at 0x7f651a3733a0>,\n",
       " <rdkit.DataStructs.cDataStructs.ExplicitBitVect at 0x7f651a3733f0>,\n",
       " <rdkit.DataStructs.cDataStructs.ExplicitBitVect at 0x7f651a373440>,\n",
       " <rdkit.DataStructs.cDataStructs.ExplicitBitVect at 0x7f651a373490>,\n",
       " <rdkit.DataStructs.cDataStructs.ExplicitBitVect at 0x7f651a3734e0>,\n",
       " <rdkit.DataStructs.cDataStructs.ExplicitBitVect at 0x7f651a373530>,\n",
       " <rdkit.DataStructs.cDataStructs.ExplicitBitVect at 0x7f651a373580>,\n",
       " <rdkit.DataStructs.cDataStructs.ExplicitBitVect at 0x7f651a3735d0>,\n",
       " <rdkit.DataStructs.cDataStructs.ExplicitBitVect at 0x7f651a373620>,\n",
       " <rdkit.DataStructs.cDataStructs.ExplicitBitVect at 0x7f651a373670>,\n",
       " <rdkit.DataStructs.cDataStructs.ExplicitBitVect at 0x7f651a3736c0>,\n",
       " <rdkit.DataStructs.cDataStructs.ExplicitBitVect at 0x7f651a373710>,\n",
       " <rdkit.DataStructs.cDataStructs.ExplicitBitVect at 0x7f651a373760>,\n",
       " <rdkit.DataStructs.cDataStructs.ExplicitBitVect at 0x7f651a3737b0>,\n",
       " <rdkit.DataStructs.cDataStructs.ExplicitBitVect at 0x7f651a373800>,\n",
       " <rdkit.DataStructs.cDataStructs.ExplicitBitVect at 0x7f651a373850>,\n",
       " <rdkit.DataStructs.cDataStructs.ExplicitBitVect at 0x7f651a3738a0>,\n",
       " <rdkit.DataStructs.cDataStructs.ExplicitBitVect at 0x7f651a3738f0>,\n",
       " <rdkit.DataStructs.cDataStructs.ExplicitBitVect at 0x7f651a373940>,\n",
       " <rdkit.DataStructs.cDataStructs.ExplicitBitVect at 0x7f651a373990>,\n",
       " <rdkit.DataStructs.cDataStructs.ExplicitBitVect at 0x7f651a3739e0>,\n",
       " <rdkit.DataStructs.cDataStructs.ExplicitBitVect at 0x7f651a373a30>,\n",
       " <rdkit.DataStructs.cDataStructs.ExplicitBitVect at 0x7f651a373a80>,\n",
       " <rdkit.DataStructs.cDataStructs.ExplicitBitVect at 0x7f651a373ad0>,\n",
       " <rdkit.DataStructs.cDataStructs.ExplicitBitVect at 0x7f651a373b20>,\n",
       " <rdkit.DataStructs.cDataStructs.ExplicitBitVect at 0x7f651a373b70>,\n",
       " <rdkit.DataStructs.cDataStructs.ExplicitBitVect at 0x7f651a373bc0>,\n",
       " <rdkit.DataStructs.cDataStructs.ExplicitBitVect at 0x7f651a373c10>,\n",
       " <rdkit.DataStructs.cDataStructs.ExplicitBitVect at 0x7f651a373c60>,\n",
       " <rdkit.DataStructs.cDataStructs.ExplicitBitVect at 0x7f651a373cb0>,\n",
       " <rdkit.DataStructs.cDataStructs.ExplicitBitVect at 0x7f651a373d00>,\n",
       " <rdkit.DataStructs.cDataStructs.ExplicitBitVect at 0x7f651a373d50>,\n",
       " <rdkit.DataStructs.cDataStructs.ExplicitBitVect at 0x7f651a373da0>,\n",
       " <rdkit.DataStructs.cDataStructs.ExplicitBitVect at 0x7f651a373df0>,\n",
       " <rdkit.DataStructs.cDataStructs.ExplicitBitVect at 0x7f651a373e40>,\n",
       " <rdkit.DataStructs.cDataStructs.ExplicitBitVect at 0x7f651a373e90>,\n",
       " <rdkit.DataStructs.cDataStructs.ExplicitBitVect at 0x7f651a373ee0>,\n",
       " <rdkit.DataStructs.cDataStructs.ExplicitBitVect at 0x7f651a373f30>,\n",
       " <rdkit.DataStructs.cDataStructs.ExplicitBitVect at 0x7f651a373f80>,\n",
       " <rdkit.DataStructs.cDataStructs.ExplicitBitVect at 0x7f651a36b030>,\n",
       " <rdkit.DataStructs.cDataStructs.ExplicitBitVect at 0x7f651a36b080>,\n",
       " <rdkit.DataStructs.cDataStructs.ExplicitBitVect at 0x7f651a36b0d0>,\n",
       " <rdkit.DataStructs.cDataStructs.ExplicitBitVect at 0x7f651a36b120>,\n",
       " <rdkit.DataStructs.cDataStructs.ExplicitBitVect at 0x7f651a36b170>,\n",
       " <rdkit.DataStructs.cDataStructs.ExplicitBitVect at 0x7f651a36b1c0>,\n",
       " <rdkit.DataStructs.cDataStructs.ExplicitBitVect at 0x7f651a36b210>,\n",
       " <rdkit.DataStructs.cDataStructs.ExplicitBitVect at 0x7f651a36b260>,\n",
       " <rdkit.DataStructs.cDataStructs.ExplicitBitVect at 0x7f651a36b2b0>,\n",
       " <rdkit.DataStructs.cDataStructs.ExplicitBitVect at 0x7f651a36b300>,\n",
       " <rdkit.DataStructs.cDataStructs.ExplicitBitVect at 0x7f651a36b350>,\n",
       " <rdkit.DataStructs.cDataStructs.ExplicitBitVect at 0x7f651a36b3a0>,\n",
       " <rdkit.DataStructs.cDataStructs.ExplicitBitVect at 0x7f651a36b3f0>,\n",
       " <rdkit.DataStructs.cDataStructs.ExplicitBitVect at 0x7f651a36b440>,\n",
       " <rdkit.DataStructs.cDataStructs.ExplicitBitVect at 0x7f651a36b490>,\n",
       " <rdkit.DataStructs.cDataStructs.ExplicitBitVect at 0x7f651a36b4e0>,\n",
       " <rdkit.DataStructs.cDataStructs.ExplicitBitVect at 0x7f651a36b530>,\n",
       " <rdkit.DataStructs.cDataStructs.ExplicitBitVect at 0x7f651a36b580>,\n",
       " <rdkit.DataStructs.cDataStructs.ExplicitBitVect at 0x7f651a36b5d0>,\n",
       " <rdkit.DataStructs.cDataStructs.ExplicitBitVect at 0x7f651a36b620>,\n",
       " <rdkit.DataStructs.cDataStructs.ExplicitBitVect at 0x7f651a36b670>,\n",
       " <rdkit.DataStructs.cDataStructs.ExplicitBitVect at 0x7f651a36b6c0>,\n",
       " <rdkit.DataStructs.cDataStructs.ExplicitBitVect at 0x7f651a36b710>,\n",
       " <rdkit.DataStructs.cDataStructs.ExplicitBitVect at 0x7f651a36b760>,\n",
       " <rdkit.DataStructs.cDataStructs.ExplicitBitVect at 0x7f651a36b7b0>,\n",
       " <rdkit.DataStructs.cDataStructs.ExplicitBitVect at 0x7f651a36b800>,\n",
       " <rdkit.DataStructs.cDataStructs.ExplicitBitVect at 0x7f651a36b850>,\n",
       " <rdkit.DataStructs.cDataStructs.ExplicitBitVect at 0x7f651a36b8a0>,\n",
       " <rdkit.DataStructs.cDataStructs.ExplicitBitVect at 0x7f651a36b8f0>,\n",
       " <rdkit.DataStructs.cDataStructs.ExplicitBitVect at 0x7f651a36b990>,\n",
       " <rdkit.DataStructs.cDataStructs.ExplicitBitVect at 0x7f651a36b9e0>,\n",
       " <rdkit.DataStructs.cDataStructs.ExplicitBitVect at 0x7f651a36ba30>,\n",
       " <rdkit.DataStructs.cDataStructs.ExplicitBitVect at 0x7f651a36ba80>,\n",
       " <rdkit.DataStructs.cDataStructs.ExplicitBitVect at 0x7f651a36bad0>,\n",
       " <rdkit.DataStructs.cDataStructs.ExplicitBitVect at 0x7f651a36bb20>,\n",
       " <rdkit.DataStructs.cDataStructs.ExplicitBitVect at 0x7f651a36bb70>,\n",
       " <rdkit.DataStructs.cDataStructs.ExplicitBitVect at 0x7f651a36bbc0>,\n",
       " <rdkit.DataStructs.cDataStructs.ExplicitBitVect at 0x7f651a36bc10>,\n",
       " <rdkit.DataStructs.cDataStructs.ExplicitBitVect at 0x7f651a36bc60>,\n",
       " <rdkit.DataStructs.cDataStructs.ExplicitBitVect at 0x7f651a36bcb0>,\n",
       " <rdkit.DataStructs.cDataStructs.ExplicitBitVect at 0x7f651a36bd00>,\n",
       " <rdkit.DataStructs.cDataStructs.ExplicitBitVect at 0x7f651a36bd50>,\n",
       " <rdkit.DataStructs.cDataStructs.ExplicitBitVect at 0x7f651a36bda0>,\n",
       " <rdkit.DataStructs.cDataStructs.ExplicitBitVect at 0x7f651a36bdf0>,\n",
       " <rdkit.DataStructs.cDataStructs.ExplicitBitVect at 0x7f651a36be40>,\n",
       " <rdkit.DataStructs.cDataStructs.ExplicitBitVect at 0x7f651a36be90>,\n",
       " <rdkit.DataStructs.cDataStructs.ExplicitBitVect at 0x7f651a36bee0>,\n",
       " <rdkit.DataStructs.cDataStructs.ExplicitBitVect at 0x7f651a36bf30>,\n",
       " <rdkit.DataStructs.cDataStructs.ExplicitBitVect at 0x7f651a36bf80>,\n",
       " <rdkit.DataStructs.cDataStructs.ExplicitBitVect at 0x7f651a366030>,\n",
       " <rdkit.DataStructs.cDataStructs.ExplicitBitVect at 0x7f651a366080>,\n",
       " <rdkit.DataStructs.cDataStructs.ExplicitBitVect at 0x7f651a3660d0>,\n",
       " <rdkit.DataStructs.cDataStructs.ExplicitBitVect at 0x7f651a366120>,\n",
       " <rdkit.DataStructs.cDataStructs.ExplicitBitVect at 0x7f651a366170>,\n",
       " <rdkit.DataStructs.cDataStructs.ExplicitBitVect at 0x7f651a3661c0>,\n",
       " <rdkit.DataStructs.cDataStructs.ExplicitBitVect at 0x7f651a366210>,\n",
       " <rdkit.DataStructs.cDataStructs.ExplicitBitVect at 0x7f651a366260>,\n",
       " <rdkit.DataStructs.cDataStructs.ExplicitBitVect at 0x7f651a3662b0>,\n",
       " <rdkit.DataStructs.cDataStructs.ExplicitBitVect at 0x7f651a366300>,\n",
       " <rdkit.DataStructs.cDataStructs.ExplicitBitVect at 0x7f651a366350>,\n",
       " <rdkit.DataStructs.cDataStructs.ExplicitBitVect at 0x7f651a3663a0>,\n",
       " <rdkit.DataStructs.cDataStructs.ExplicitBitVect at 0x7f651a3663f0>,\n",
       " <rdkit.DataStructs.cDataStructs.ExplicitBitVect at 0x7f651a366440>,\n",
       " <rdkit.DataStructs.cDataStructs.ExplicitBitVect at 0x7f651a366490>,\n",
       " <rdkit.DataStructs.cDataStructs.ExplicitBitVect at 0x7f651a3664e0>,\n",
       " <rdkit.DataStructs.cDataStructs.ExplicitBitVect at 0x7f651a366530>,\n",
       " <rdkit.DataStructs.cDataStructs.ExplicitBitVect at 0x7f651a366580>,\n",
       " <rdkit.DataStructs.cDataStructs.ExplicitBitVect at 0x7f651a3665d0>,\n",
       " <rdkit.DataStructs.cDataStructs.ExplicitBitVect at 0x7f651a366620>,\n",
       " <rdkit.DataStructs.cDataStructs.ExplicitBitVect at 0x7f651a366670>,\n",
       " <rdkit.DataStructs.cDataStructs.ExplicitBitVect at 0x7f651a3666c0>,\n",
       " <rdkit.DataStructs.cDataStructs.ExplicitBitVect at 0x7f651a366710>,\n",
       " <rdkit.DataStructs.cDataStructs.ExplicitBitVect at 0x7f651a366760>,\n",
       " <rdkit.DataStructs.cDataStructs.ExplicitBitVect at 0x7f651a3667b0>,\n",
       " <rdkit.DataStructs.cDataStructs.ExplicitBitVect at 0x7f651a366800>,\n",
       " <rdkit.DataStructs.cDataStructs.ExplicitBitVect at 0x7f651a366850>,\n",
       " <rdkit.DataStructs.cDataStructs.ExplicitBitVect at 0x7f651a3668a0>,\n",
       " <rdkit.DataStructs.cDataStructs.ExplicitBitVect at 0x7f651a3668f0>,\n",
       " <rdkit.DataStructs.cDataStructs.ExplicitBitVect at 0x7f651a366940>,\n",
       " <rdkit.DataStructs.cDataStructs.ExplicitBitVect at 0x7f651a366990>,\n",
       " <rdkit.DataStructs.cDataStructs.ExplicitBitVect at 0x7f651a3669e0>,\n",
       " <rdkit.DataStructs.cDataStructs.ExplicitBitVect at 0x7f651a366a30>,\n",
       " <rdkit.DataStructs.cDataStructs.ExplicitBitVect at 0x7f651a366a80>,\n",
       " <rdkit.DataStructs.cDataStructs.ExplicitBitVect at 0x7f651a366ad0>,\n",
       " <rdkit.DataStructs.cDataStructs.ExplicitBitVect at 0x7f651a366b20>,\n",
       " <rdkit.DataStructs.cDataStructs.ExplicitBitVect at 0x7f651a366b70>,\n",
       " <rdkit.DataStructs.cDataStructs.ExplicitBitVect at 0x7f651a366bc0>,\n",
       " <rdkit.DataStructs.cDataStructs.ExplicitBitVect at 0x7f651a366c10>,\n",
       " <rdkit.DataStructs.cDataStructs.ExplicitBitVect at 0x7f651a366c60>,\n",
       " <rdkit.DataStructs.cDataStructs.ExplicitBitVect at 0x7f651a366cb0>,\n",
       " <rdkit.DataStructs.cDataStructs.ExplicitBitVect at 0x7f651a366d00>,\n",
       " <rdkit.DataStructs.cDataStructs.ExplicitBitVect at 0x7f651a366d50>,\n",
       " <rdkit.DataStructs.cDataStructs.ExplicitBitVect at 0x7f651a366da0>,\n",
       " <rdkit.DataStructs.cDataStructs.ExplicitBitVect at 0x7f651a366df0>,\n",
       " <rdkit.DataStructs.cDataStructs.ExplicitBitVect at 0x7f651a366e40>,\n",
       " <rdkit.DataStructs.cDataStructs.ExplicitBitVect at 0x7f651a366e90>,\n",
       " <rdkit.DataStructs.cDataStructs.ExplicitBitVect at 0x7f651a366ee0>,\n",
       " <rdkit.DataStructs.cDataStructs.ExplicitBitVect at 0x7f651a366f30>,\n",
       " <rdkit.DataStructs.cDataStructs.ExplicitBitVect at 0x7f651a366f80>,\n",
       " <rdkit.DataStructs.cDataStructs.ExplicitBitVect at 0x7f651a36e030>,\n",
       " <rdkit.DataStructs.cDataStructs.ExplicitBitVect at 0x7f651a36e080>,\n",
       " <rdkit.DataStructs.cDataStructs.ExplicitBitVect at 0x7f651a36e0d0>,\n",
       " <rdkit.DataStructs.cDataStructs.ExplicitBitVect at 0x7f651a36e120>,\n",
       " <rdkit.DataStructs.cDataStructs.ExplicitBitVect at 0x7f651a36e170>,\n",
       " <rdkit.DataStructs.cDataStructs.ExplicitBitVect at 0x7f651a36e1c0>,\n",
       " <rdkit.DataStructs.cDataStructs.ExplicitBitVect at 0x7f651a36e210>,\n",
       " <rdkit.DataStructs.cDataStructs.ExplicitBitVect at 0x7f651a36e260>,\n",
       " <rdkit.DataStructs.cDataStructs.ExplicitBitVect at 0x7f651a36e2b0>,\n",
       " <rdkit.DataStructs.cDataStructs.ExplicitBitVect at 0x7f651a36e300>,\n",
       " <rdkit.DataStructs.cDataStructs.ExplicitBitVect at 0x7f651a36e350>,\n",
       " <rdkit.DataStructs.cDataStructs.ExplicitBitVect at 0x7f651a36e3a0>,\n",
       " <rdkit.DataStructs.cDataStructs.ExplicitBitVect at 0x7f651a36e3f0>,\n",
       " <rdkit.DataStructs.cDataStructs.ExplicitBitVect at 0x7f651a36e440>,\n",
       " <rdkit.DataStructs.cDataStructs.ExplicitBitVect at 0x7f651a36e490>,\n",
       " <rdkit.DataStructs.cDataStructs.ExplicitBitVect at 0x7f651a36e4e0>,\n",
       " <rdkit.DataStructs.cDataStructs.ExplicitBitVect at 0x7f651a36e530>,\n",
       " <rdkit.DataStructs.cDataStructs.ExplicitBitVect at 0x7f651a36e580>,\n",
       " <rdkit.DataStructs.cDataStructs.ExplicitBitVect at 0x7f651a36e5d0>,\n",
       " <rdkit.DataStructs.cDataStructs.ExplicitBitVect at 0x7f651a36e620>,\n",
       " <rdkit.DataStructs.cDataStructs.ExplicitBitVect at 0x7f651a36e670>,\n",
       " <rdkit.DataStructs.cDataStructs.ExplicitBitVect at 0x7f651a36e6c0>,\n",
       " <rdkit.DataStructs.cDataStructs.ExplicitBitVect at 0x7f651a36e710>,\n",
       " <rdkit.DataStructs.cDataStructs.ExplicitBitVect at 0x7f651a36e760>,\n",
       " <rdkit.DataStructs.cDataStructs.ExplicitBitVect at 0x7f651a36e7b0>,\n",
       " <rdkit.DataStructs.cDataStructs.ExplicitBitVect at 0x7f651a36e800>,\n",
       " <rdkit.DataStructs.cDataStructs.ExplicitBitVect at 0x7f651a36e850>,\n",
       " <rdkit.DataStructs.cDataStructs.ExplicitBitVect at 0x7f651a36e8a0>,\n",
       " <rdkit.DataStructs.cDataStructs.ExplicitBitVect at 0x7f651a36e8f0>,\n",
       " <rdkit.DataStructs.cDataStructs.ExplicitBitVect at 0x7f651a36e940>,\n",
       " <rdkit.DataStructs.cDataStructs.ExplicitBitVect at 0x7f651a36e990>,\n",
       " <rdkit.DataStructs.cDataStructs.ExplicitBitVect at 0x7f651a36e9e0>,\n",
       " <rdkit.DataStructs.cDataStructs.ExplicitBitVect at 0x7f651a36ea30>,\n",
       " <rdkit.DataStructs.cDataStructs.ExplicitBitVect at 0x7f651a36ea80>,\n",
       " <rdkit.DataStructs.cDataStructs.ExplicitBitVect at 0x7f651a36ead0>,\n",
       " <rdkit.DataStructs.cDataStructs.ExplicitBitVect at 0x7f651a36eb20>,\n",
       " <rdkit.DataStructs.cDataStructs.ExplicitBitVect at 0x7f651a36eb70>,\n",
       " <rdkit.DataStructs.cDataStructs.ExplicitBitVect at 0x7f651a36ebc0>,\n",
       " <rdkit.DataStructs.cDataStructs.ExplicitBitVect at 0x7f651a36ec10>,\n",
       " <rdkit.DataStructs.cDataStructs.ExplicitBitVect at 0x7f651a36ec60>,\n",
       " <rdkit.DataStructs.cDataStructs.ExplicitBitVect at 0x7f651a36ecb0>,\n",
       " <rdkit.DataStructs.cDataStructs.ExplicitBitVect at 0x7f651a36ed00>,\n",
       " <rdkit.DataStructs.cDataStructs.ExplicitBitVect at 0x7f651a36ed50>,\n",
       " <rdkit.DataStructs.cDataStructs.ExplicitBitVect at 0x7f651a36eda0>,\n",
       " <rdkit.DataStructs.cDataStructs.ExplicitBitVect at 0x7f651a36edf0>,\n",
       " <rdkit.DataStructs.cDataStructs.ExplicitBitVect at 0x7f651a36ee40>,\n",
       " <rdkit.DataStructs.cDataStructs.ExplicitBitVect at 0x7f651a36ee90>,\n",
       " <rdkit.DataStructs.cDataStructs.ExplicitBitVect at 0x7f651a36eee0>,\n",
       " <rdkit.DataStructs.cDataStructs.ExplicitBitVect at 0x7f651a36ef30>,\n",
       " <rdkit.DataStructs.cDataStructs.ExplicitBitVect at 0x7f651a36ef80>,\n",
       " <rdkit.DataStructs.cDataStructs.ExplicitBitVect at 0x7f651a36a030>,\n",
       " <rdkit.DataStructs.cDataStructs.ExplicitBitVect at 0x7f651a36a080>,\n",
       " <rdkit.DataStructs.cDataStructs.ExplicitBitVect at 0x7f651a36a0d0>,\n",
       " <rdkit.DataStructs.cDataStructs.ExplicitBitVect at 0x7f651a36a120>,\n",
       " <rdkit.DataStructs.cDataStructs.ExplicitBitVect at 0x7f651a36a170>,\n",
       " <rdkit.DataStructs.cDataStructs.ExplicitBitVect at 0x7f651a36a1c0>,\n",
       " <rdkit.DataStructs.cDataStructs.ExplicitBitVect at 0x7f651a36a210>,\n",
       " <rdkit.DataStructs.cDataStructs.ExplicitBitVect at 0x7f651a36a260>,\n",
       " <rdkit.DataStructs.cDataStructs.ExplicitBitVect at 0x7f651a36a2b0>,\n",
       " <rdkit.DataStructs.cDataStructs.ExplicitBitVect at 0x7f651a36a300>,\n",
       " <rdkit.DataStructs.cDataStructs.ExplicitBitVect at 0x7f651a36a350>,\n",
       " <rdkit.DataStructs.cDataStructs.ExplicitBitVect at 0x7f651a36a3a0>,\n",
       " <rdkit.DataStructs.cDataStructs.ExplicitBitVect at 0x7f651a36a3f0>,\n",
       " <rdkit.DataStructs.cDataStructs.ExplicitBitVect at 0x7f651a36a440>,\n",
       " <rdkit.DataStructs.cDataStructs.ExplicitBitVect at 0x7f651a36a490>,\n",
       " <rdkit.DataStructs.cDataStructs.ExplicitBitVect at 0x7f651a36a4e0>,\n",
       " <rdkit.DataStructs.cDataStructs.ExplicitBitVect at 0x7f651a36a530>,\n",
       " <rdkit.DataStructs.cDataStructs.ExplicitBitVect at 0x7f651a36a580>,\n",
       " <rdkit.DataStructs.cDataStructs.ExplicitBitVect at 0x7f651a36a5d0>,\n",
       " <rdkit.DataStructs.cDataStructs.ExplicitBitVect at 0x7f651a36a620>,\n",
       " <rdkit.DataStructs.cDataStructs.ExplicitBitVect at 0x7f651a36a670>,\n",
       " <rdkit.DataStructs.cDataStructs.ExplicitBitVect at 0x7f651a36a6c0>,\n",
       " <rdkit.DataStructs.cDataStructs.ExplicitBitVect at 0x7f651a36a710>,\n",
       " <rdkit.DataStructs.cDataStructs.ExplicitBitVect at 0x7f651a36a760>,\n",
       " <rdkit.DataStructs.cDataStructs.ExplicitBitVect at 0x7f651a36a7b0>,\n",
       " <rdkit.DataStructs.cDataStructs.ExplicitBitVect at 0x7f651a36a800>,\n",
       " <rdkit.DataStructs.cDataStructs.ExplicitBitVect at 0x7f651a36a850>,\n",
       " <rdkit.DataStructs.cDataStructs.ExplicitBitVect at 0x7f651a36a8a0>,\n",
       " <rdkit.DataStructs.cDataStructs.ExplicitBitVect at 0x7f651a36a8f0>,\n",
       " <rdkit.DataStructs.cDataStructs.ExplicitBitVect at 0x7f651a36a940>,\n",
       " <rdkit.DataStructs.cDataStructs.ExplicitBitVect at 0x7f651a36a990>,\n",
       " <rdkit.DataStructs.cDataStructs.ExplicitBitVect at 0x7f651a36a9e0>,\n",
       " <rdkit.DataStructs.cDataStructs.ExplicitBitVect at 0x7f651a36aa30>,\n",
       " <rdkit.DataStructs.cDataStructs.ExplicitBitVect at 0x7f651a36aa80>,\n",
       " <rdkit.DataStructs.cDataStructs.ExplicitBitVect at 0x7f651a36aad0>,\n",
       " <rdkit.DataStructs.cDataStructs.ExplicitBitVect at 0x7f651a36ab20>,\n",
       " <rdkit.DataStructs.cDataStructs.ExplicitBitVect at 0x7f651a36ab70>,\n",
       " <rdkit.DataStructs.cDataStructs.ExplicitBitVect at 0x7f651a36abc0>,\n",
       " <rdkit.DataStructs.cDataStructs.ExplicitBitVect at 0x7f651a36ac10>,\n",
       " <rdkit.DataStructs.cDataStructs.ExplicitBitVect at 0x7f651a36ac60>,\n",
       " <rdkit.DataStructs.cDataStructs.ExplicitBitVect at 0x7f651a36acb0>,\n",
       " <rdkit.DataStructs.cDataStructs.ExplicitBitVect at 0x7f651a36ad00>,\n",
       " <rdkit.DataStructs.cDataStructs.ExplicitBitVect at 0x7f651a36ad50>,\n",
       " <rdkit.DataStructs.cDataStructs.ExplicitBitVect at 0x7f651a36ada0>,\n",
       " <rdkit.DataStructs.cDataStructs.ExplicitBitVect at 0x7f651a36adf0>,\n",
       " <rdkit.DataStructs.cDataStructs.ExplicitBitVect at 0x7f651a36ae40>,\n",
       " <rdkit.DataStructs.cDataStructs.ExplicitBitVect at 0x7f651a36ae90>,\n",
       " <rdkit.DataStructs.cDataStructs.ExplicitBitVect at 0x7f651a36aee0>,\n",
       " <rdkit.DataStructs.cDataStructs.ExplicitBitVect at 0x7f651a36af30>,\n",
       " <rdkit.DataStructs.cDataStructs.ExplicitBitVect at 0x7f651a36af80>,\n",
       " <rdkit.DataStructs.cDataStructs.ExplicitBitVect at 0x7f651a375030>,\n",
       " <rdkit.DataStructs.cDataStructs.ExplicitBitVect at 0x7f651a375080>,\n",
       " <rdkit.DataStructs.cDataStructs.ExplicitBitVect at 0x7f651a3750d0>,\n",
       " <rdkit.DataStructs.cDataStructs.ExplicitBitVect at 0x7f651a375120>,\n",
       " <rdkit.DataStructs.cDataStructs.ExplicitBitVect at 0x7f651a375170>,\n",
       " <rdkit.DataStructs.cDataStructs.ExplicitBitVect at 0x7f651a3751c0>,\n",
       " <rdkit.DataStructs.cDataStructs.ExplicitBitVect at 0x7f651a375210>,\n",
       " <rdkit.DataStructs.cDataStructs.ExplicitBitVect at 0x7f651a375260>,\n",
       " <rdkit.DataStructs.cDataStructs.ExplicitBitVect at 0x7f651a3752b0>,\n",
       " <rdkit.DataStructs.cDataStructs.ExplicitBitVect at 0x7f651a375300>,\n",
       " <rdkit.DataStructs.cDataStructs.ExplicitBitVect at 0x7f651a375350>,\n",
       " <rdkit.DataStructs.cDataStructs.ExplicitBitVect at 0x7f651a3753a0>,\n",
       " <rdkit.DataStructs.cDataStructs.ExplicitBitVect at 0x7f651a3753f0>,\n",
       " <rdkit.DataStructs.cDataStructs.ExplicitBitVect at 0x7f651a375440>,\n",
       " <rdkit.DataStructs.cDataStructs.ExplicitBitVect at 0x7f651a375490>,\n",
       " <rdkit.DataStructs.cDataStructs.ExplicitBitVect at 0x7f651a3754e0>,\n",
       " <rdkit.DataStructs.cDataStructs.ExplicitBitVect at 0x7f651a375530>,\n",
       " <rdkit.DataStructs.cDataStructs.ExplicitBitVect at 0x7f651a375580>,\n",
       " <rdkit.DataStructs.cDataStructs.ExplicitBitVect at 0x7f651a3755d0>,\n",
       " <rdkit.DataStructs.cDataStructs.ExplicitBitVect at 0x7f651a375620>,\n",
       " <rdkit.DataStructs.cDataStructs.ExplicitBitVect at 0x7f651a375670>,\n",
       " <rdkit.DataStructs.cDataStructs.ExplicitBitVect at 0x7f651a3756c0>,\n",
       " <rdkit.DataStructs.cDataStructs.ExplicitBitVect at 0x7f651a375710>,\n",
       " <rdkit.DataStructs.cDataStructs.ExplicitBitVect at 0x7f651a375760>,\n",
       " <rdkit.DataStructs.cDataStructs.ExplicitBitVect at 0x7f651a3757b0>,\n",
       " <rdkit.DataStructs.cDataStructs.ExplicitBitVect at 0x7f651a375800>,\n",
       " <rdkit.DataStructs.cDataStructs.ExplicitBitVect at 0x7f651a375850>,\n",
       " <rdkit.DataStructs.cDataStructs.ExplicitBitVect at 0x7f651a3758a0>,\n",
       " <rdkit.DataStructs.cDataStructs.ExplicitBitVect at 0x7f651a3758f0>,\n",
       " <rdkit.DataStructs.cDataStructs.ExplicitBitVect at 0x7f651a375940>,\n",
       " <rdkit.DataStructs.cDataStructs.ExplicitBitVect at 0x7f651a375990>,\n",
       " <rdkit.DataStructs.cDataStructs.ExplicitBitVect at 0x7f651a3759e0>,\n",
       " <rdkit.DataStructs.cDataStructs.ExplicitBitVect at 0x7f651a375a30>,\n",
       " <rdkit.DataStructs.cDataStructs.ExplicitBitVect at 0x7f651a375a80>,\n",
       " <rdkit.DataStructs.cDataStructs.ExplicitBitVect at 0x7f651a375ad0>,\n",
       " <rdkit.DataStructs.cDataStructs.ExplicitBitVect at 0x7f651a375b20>,\n",
       " <rdkit.DataStructs.cDataStructs.ExplicitBitVect at 0x7f651a375b70>,\n",
       " <rdkit.DataStructs.cDataStructs.ExplicitBitVect at 0x7f651a375bc0>,\n",
       " <rdkit.DataStructs.cDataStructs.ExplicitBitVect at 0x7f651a375c10>,\n",
       " <rdkit.DataStructs.cDataStructs.ExplicitBitVect at 0x7f651a375c60>,\n",
       " <rdkit.DataStructs.cDataStructs.ExplicitBitVect at 0x7f651a375cb0>,\n",
       " <rdkit.DataStructs.cDataStructs.ExplicitBitVect at 0x7f651a375d00>,\n",
       " <rdkit.DataStructs.cDataStructs.ExplicitBitVect at 0x7f651a375d50>,\n",
       " <rdkit.DataStructs.cDataStructs.ExplicitBitVect at 0x7f651a375da0>,\n",
       " <rdkit.DataStructs.cDataStructs.ExplicitBitVect at 0x7f651a375df0>,\n",
       " <rdkit.DataStructs.cDataStructs.ExplicitBitVect at 0x7f651a375e40>,\n",
       " <rdkit.DataStructs.cDataStructs.ExplicitBitVect at 0x7f651a375e90>,\n",
       " <rdkit.DataStructs.cDataStructs.ExplicitBitVect at 0x7f651a375ee0>,\n",
       " <rdkit.DataStructs.cDataStructs.ExplicitBitVect at 0x7f651a375f30>,\n",
       " <rdkit.DataStructs.cDataStructs.ExplicitBitVect at 0x7f651a375f80>,\n",
       " <rdkit.DataStructs.cDataStructs.ExplicitBitVect at 0x7f651a311030>,\n",
       " <rdkit.DataStructs.cDataStructs.ExplicitBitVect at 0x7f651a311080>,\n",
       " <rdkit.DataStructs.cDataStructs.ExplicitBitVect at 0x7f651a3110d0>,\n",
       " <rdkit.DataStructs.cDataStructs.ExplicitBitVect at 0x7f651a311120>,\n",
       " <rdkit.DataStructs.cDataStructs.ExplicitBitVect at 0x7f651a311170>,\n",
       " <rdkit.DataStructs.cDataStructs.ExplicitBitVect at 0x7f651a3111c0>,\n",
       " <rdkit.DataStructs.cDataStructs.ExplicitBitVect at 0x7f651a311210>,\n",
       " <rdkit.DataStructs.cDataStructs.ExplicitBitVect at 0x7f651a311260>,\n",
       " <rdkit.DataStructs.cDataStructs.ExplicitBitVect at 0x7f651a3112b0>,\n",
       " <rdkit.DataStructs.cDataStructs.ExplicitBitVect at 0x7f651a311300>,\n",
       " <rdkit.DataStructs.cDataStructs.ExplicitBitVect at 0x7f651a311350>,\n",
       " <rdkit.DataStructs.cDataStructs.ExplicitBitVect at 0x7f651a3113a0>,\n",
       " <rdkit.DataStructs.cDataStructs.ExplicitBitVect at 0x7f651a3113f0>,\n",
       " <rdkit.DataStructs.cDataStructs.ExplicitBitVect at 0x7f651a311440>,\n",
       " <rdkit.DataStructs.cDataStructs.ExplicitBitVect at 0x7f651a311490>,\n",
       " <rdkit.DataStructs.cDataStructs.ExplicitBitVect at 0x7f651a3114e0>,\n",
       " <rdkit.DataStructs.cDataStructs.ExplicitBitVect at 0x7f651a311530>,\n",
       " <rdkit.DataStructs.cDataStructs.ExplicitBitVect at 0x7f651a311580>,\n",
       " <rdkit.DataStructs.cDataStructs.ExplicitBitVect at 0x7f651a3115d0>,\n",
       " <rdkit.DataStructs.cDataStructs.ExplicitBitVect at 0x7f651a311620>,\n",
       " <rdkit.DataStructs.cDataStructs.ExplicitBitVect at 0x7f651a311670>,\n",
       " <rdkit.DataStructs.cDataStructs.ExplicitBitVect at 0x7f651a3116c0>,\n",
       " <rdkit.DataStructs.cDataStructs.ExplicitBitVect at 0x7f651a311710>,\n",
       " <rdkit.DataStructs.cDataStructs.ExplicitBitVect at 0x7f651a311760>,\n",
       " <rdkit.DataStructs.cDataStructs.ExplicitBitVect at 0x7f651a3117b0>,\n",
       " <rdkit.DataStructs.cDataStructs.ExplicitBitVect at 0x7f651a311800>,\n",
       " <rdkit.DataStructs.cDataStructs.ExplicitBitVect at 0x7f651a311850>,\n",
       " <rdkit.DataStructs.cDataStructs.ExplicitBitVect at 0x7f651a3118a0>,\n",
       " <rdkit.DataStructs.cDataStructs.ExplicitBitVect at 0x7f651a3118f0>,\n",
       " <rdkit.DataStructs.cDataStructs.ExplicitBitVect at 0x7f651a311940>,\n",
       " <rdkit.DataStructs.cDataStructs.ExplicitBitVect at 0x7f651a311990>,\n",
       " <rdkit.DataStructs.cDataStructs.ExplicitBitVect at 0x7f651a3119e0>,\n",
       " <rdkit.DataStructs.cDataStructs.ExplicitBitVect at 0x7f651a311a30>,\n",
       " <rdkit.DataStructs.cDataStructs.ExplicitBitVect at 0x7f651a311a80>,\n",
       " <rdkit.DataStructs.cDataStructs.ExplicitBitVect at 0x7f651a311ad0>,\n",
       " <rdkit.DataStructs.cDataStructs.ExplicitBitVect at 0x7f651a311b20>,\n",
       " <rdkit.DataStructs.cDataStructs.ExplicitBitVect at 0x7f651a311b70>,\n",
       " <rdkit.DataStructs.cDataStructs.ExplicitBitVect at 0x7f651a311bc0>,\n",
       " <rdkit.DataStructs.cDataStructs.ExplicitBitVect at 0x7f651a311c10>,\n",
       " <rdkit.DataStructs.cDataStructs.ExplicitBitVect at 0x7f651a311c60>,\n",
       " <rdkit.DataStructs.cDataStructs.ExplicitBitVect at 0x7f651a311cb0>,\n",
       " <rdkit.DataStructs.cDataStructs.ExplicitBitVect at 0x7f651a311d00>,\n",
       " <rdkit.DataStructs.cDataStructs.ExplicitBitVect at 0x7f651a311d50>,\n",
       " <rdkit.DataStructs.cDataStructs.ExplicitBitVect at 0x7f651a311da0>,\n",
       " <rdkit.DataStructs.cDataStructs.ExplicitBitVect at 0x7f651a311df0>,\n",
       " <rdkit.DataStructs.cDataStructs.ExplicitBitVect at 0x7f651a311e40>,\n",
       " <rdkit.DataStructs.cDataStructs.ExplicitBitVect at 0x7f651a311e90>,\n",
       " <rdkit.DataStructs.cDataStructs.ExplicitBitVect at 0x7f651a311ee0>,\n",
       " <rdkit.DataStructs.cDataStructs.ExplicitBitVect at 0x7f651a311f30>,\n",
       " <rdkit.DataStructs.cDataStructs.ExplicitBitVect at 0x7f651a311f80>,\n",
       " <rdkit.DataStructs.cDataStructs.ExplicitBitVect at 0x7f651a313030>,\n",
       " <rdkit.DataStructs.cDataStructs.ExplicitBitVect at 0x7f651a313080>,\n",
       " <rdkit.DataStructs.cDataStructs.ExplicitBitVect at 0x7f651a3130d0>,\n",
       " <rdkit.DataStructs.cDataStructs.ExplicitBitVect at 0x7f651a313120>,\n",
       " <rdkit.DataStructs.cDataStructs.ExplicitBitVect at 0x7f651a313170>,\n",
       " <rdkit.DataStructs.cDataStructs.ExplicitBitVect at 0x7f651a3131c0>,\n",
       " <rdkit.DataStructs.cDataStructs.ExplicitBitVect at 0x7f651a313210>,\n",
       " <rdkit.DataStructs.cDataStructs.ExplicitBitVect at 0x7f651a313260>,\n",
       " <rdkit.DataStructs.cDataStructs.ExplicitBitVect at 0x7f651a3132b0>,\n",
       " <rdkit.DataStructs.cDataStructs.ExplicitBitVect at 0x7f651a313300>,\n",
       " <rdkit.DataStructs.cDataStructs.ExplicitBitVect at 0x7f651a313350>,\n",
       " <rdkit.DataStructs.cDataStructs.ExplicitBitVect at 0x7f651a3133a0>,\n",
       " <rdkit.DataStructs.cDataStructs.ExplicitBitVect at 0x7f651a3133f0>,\n",
       " <rdkit.DataStructs.cDataStructs.ExplicitBitVect at 0x7f651a313440>,\n",
       " <rdkit.DataStructs.cDataStructs.ExplicitBitVect at 0x7f651a313490>,\n",
       " <rdkit.DataStructs.cDataStructs.ExplicitBitVect at 0x7f651a3134e0>,\n",
       " <rdkit.DataStructs.cDataStructs.ExplicitBitVect at 0x7f651a313530>,\n",
       " <rdkit.DataStructs.cDataStructs.ExplicitBitVect at 0x7f651a313580>,\n",
       " <rdkit.DataStructs.cDataStructs.ExplicitBitVect at 0x7f651a3135d0>,\n",
       " <rdkit.DataStructs.cDataStructs.ExplicitBitVect at 0x7f651a313620>,\n",
       " <rdkit.DataStructs.cDataStructs.ExplicitBitVect at 0x7f651a313670>,\n",
       " <rdkit.DataStructs.cDataStructs.ExplicitBitVect at 0x7f651a3136c0>,\n",
       " <rdkit.DataStructs.cDataStructs.ExplicitBitVect at 0x7f651a313710>,\n",
       " <rdkit.DataStructs.cDataStructs.ExplicitBitVect at 0x7f651a313760>,\n",
       " <rdkit.DataStructs.cDataStructs.ExplicitBitVect at 0x7f651a3137b0>,\n",
       " <rdkit.DataStructs.cDataStructs.ExplicitBitVect at 0x7f651a313800>,\n",
       " <rdkit.DataStructs.cDataStructs.ExplicitBitVect at 0x7f651a313850>,\n",
       " <rdkit.DataStructs.cDataStructs.ExplicitBitVect at 0x7f651a3138a0>,\n",
       " <rdkit.DataStructs.cDataStructs.ExplicitBitVect at 0x7f651a3138f0>,\n",
       " <rdkit.DataStructs.cDataStructs.ExplicitBitVect at 0x7f651a313940>,\n",
       " <rdkit.DataStructs.cDataStructs.ExplicitBitVect at 0x7f651a313990>,\n",
       " <rdkit.DataStructs.cDataStructs.ExplicitBitVect at 0x7f651a3139e0>,\n",
       " <rdkit.DataStructs.cDataStructs.ExplicitBitVect at 0x7f651a313a30>,\n",
       " <rdkit.DataStructs.cDataStructs.ExplicitBitVect at 0x7f651a313a80>,\n",
       " <rdkit.DataStructs.cDataStructs.ExplicitBitVect at 0x7f651a313ad0>,\n",
       " <rdkit.DataStructs.cDataStructs.ExplicitBitVect at 0x7f651a313b20>,\n",
       " <rdkit.DataStructs.cDataStructs.ExplicitBitVect at 0x7f651a313b70>,\n",
       " <rdkit.DataStructs.cDataStructs.ExplicitBitVect at 0x7f651a313bc0>,\n",
       " <rdkit.DataStructs.cDataStructs.ExplicitBitVect at 0x7f651a313c10>,\n",
       " <rdkit.DataStructs.cDataStructs.ExplicitBitVect at 0x7f651a313c60>,\n",
       " <rdkit.DataStructs.cDataStructs.ExplicitBitVect at 0x7f651a313cb0>,\n",
       " <rdkit.DataStructs.cDataStructs.ExplicitBitVect at 0x7f651a313d00>,\n",
       " <rdkit.DataStructs.cDataStructs.ExplicitBitVect at 0x7f651a313d50>,\n",
       " <rdkit.DataStructs.cDataStructs.ExplicitBitVect at 0x7f651a313da0>,\n",
       " <rdkit.DataStructs.cDataStructs.ExplicitBitVect at 0x7f651a313df0>,\n",
       " <rdkit.DataStructs.cDataStructs.ExplicitBitVect at 0x7f651a313e40>,\n",
       " <rdkit.DataStructs.cDataStructs.ExplicitBitVect at 0x7f651a313e90>,\n",
       " <rdkit.DataStructs.cDataStructs.ExplicitBitVect at 0x7f651a313ee0>,\n",
       " <rdkit.DataStructs.cDataStructs.ExplicitBitVect at 0x7f651a313f30>,\n",
       " <rdkit.DataStructs.cDataStructs.ExplicitBitVect at 0x7f651a313f80>,\n",
       " <rdkit.DataStructs.cDataStructs.ExplicitBitVect at 0x7f651a314030>,\n",
       " <rdkit.DataStructs.cDataStructs.ExplicitBitVect at 0x7f651a314080>,\n",
       " <rdkit.DataStructs.cDataStructs.ExplicitBitVect at 0x7f651a3140d0>,\n",
       " <rdkit.DataStructs.cDataStructs.ExplicitBitVect at 0x7f651a314120>,\n",
       " <rdkit.DataStructs.cDataStructs.ExplicitBitVect at 0x7f651a314170>,\n",
       " <rdkit.DataStructs.cDataStructs.ExplicitBitVect at 0x7f651a3141c0>,\n",
       " <rdkit.DataStructs.cDataStructs.ExplicitBitVect at 0x7f651a314210>,\n",
       " <rdkit.DataStructs.cDataStructs.ExplicitBitVect at 0x7f651a314260>,\n",
       " <rdkit.DataStructs.cDataStructs.ExplicitBitVect at 0x7f651a3142b0>,\n",
       " <rdkit.DataStructs.cDataStructs.ExplicitBitVect at 0x7f651a314300>,\n",
       " <rdkit.DataStructs.cDataStructs.ExplicitBitVect at 0x7f651a314350>,\n",
       " <rdkit.DataStructs.cDataStructs.ExplicitBitVect at 0x7f651a3143a0>,\n",
       " <rdkit.DataStructs.cDataStructs.ExplicitBitVect at 0x7f651a3143f0>,\n",
       " <rdkit.DataStructs.cDataStructs.ExplicitBitVect at 0x7f651a314440>,\n",
       " <rdkit.DataStructs.cDataStructs.ExplicitBitVect at 0x7f651a314490>,\n",
       " <rdkit.DataStructs.cDataStructs.ExplicitBitVect at 0x7f651a3144e0>,\n",
       " <rdkit.DataStructs.cDataStructs.ExplicitBitVect at 0x7f651a314530>,\n",
       " <rdkit.DataStructs.cDataStructs.ExplicitBitVect at 0x7f651a314580>,\n",
       " <rdkit.DataStructs.cDataStructs.ExplicitBitVect at 0x7f651a3145d0>,\n",
       " <rdkit.DataStructs.cDataStructs.ExplicitBitVect at 0x7f651a314620>,\n",
       " <rdkit.DataStructs.cDataStructs.ExplicitBitVect at 0x7f651a314670>,\n",
       " <rdkit.DataStructs.cDataStructs.ExplicitBitVect at 0x7f651a3146c0>,\n",
       " <rdkit.DataStructs.cDataStructs.ExplicitBitVect at 0x7f651a314710>,\n",
       " <rdkit.DataStructs.cDataStructs.ExplicitBitVect at 0x7f651a314760>,\n",
       " <rdkit.DataStructs.cDataStructs.ExplicitBitVect at 0x7f651a3147b0>,\n",
       " <rdkit.DataStructs.cDataStructs.ExplicitBitVect at 0x7f651a314800>,\n",
       " <rdkit.DataStructs.cDataStructs.ExplicitBitVect at 0x7f651a314850>,\n",
       " <rdkit.DataStructs.cDataStructs.ExplicitBitVect at 0x7f651a3148a0>,\n",
       " <rdkit.DataStructs.cDataStructs.ExplicitBitVect at 0x7f651a3148f0>,\n",
       " <rdkit.DataStructs.cDataStructs.ExplicitBitVect at 0x7f651a314940>,\n",
       " <rdkit.DataStructs.cDataStructs.ExplicitBitVect at 0x7f651a314990>,\n",
       " <rdkit.DataStructs.cDataStructs.ExplicitBitVect at 0x7f651a3149e0>,\n",
       " <rdkit.DataStructs.cDataStructs.ExplicitBitVect at 0x7f651a314a30>,\n",
       " <rdkit.DataStructs.cDataStructs.ExplicitBitVect at 0x7f651a314a80>,\n",
       " <rdkit.DataStructs.cDataStructs.ExplicitBitVect at 0x7f651a314ad0>,\n",
       " <rdkit.DataStructs.cDataStructs.ExplicitBitVect at 0x7f651a314b20>,\n",
       " <rdkit.DataStructs.cDataStructs.ExplicitBitVect at 0x7f651a314b70>,\n",
       " <rdkit.DataStructs.cDataStructs.ExplicitBitVect at 0x7f651a314bc0>,\n",
       " <rdkit.DataStructs.cDataStructs.ExplicitBitVect at 0x7f651a314c10>,\n",
       " <rdkit.DataStructs.cDataStructs.ExplicitBitVect at 0x7f651a314c60>,\n",
       " <rdkit.DataStructs.cDataStructs.ExplicitBitVect at 0x7f651a314cb0>,\n",
       " <rdkit.DataStructs.cDataStructs.ExplicitBitVect at 0x7f651a314d00>,\n",
       " <rdkit.DataStructs.cDataStructs.ExplicitBitVect at 0x7f651a314d50>,\n",
       " <rdkit.DataStructs.cDataStructs.ExplicitBitVect at 0x7f651a314da0>,\n",
       " <rdkit.DataStructs.cDataStructs.ExplicitBitVect at 0x7f651a314df0>,\n",
       " <rdkit.DataStructs.cDataStructs.ExplicitBitVect at 0x7f651a314e40>,\n",
       " <rdkit.DataStructs.cDataStructs.ExplicitBitVect at 0x7f651a314e90>,\n",
       " <rdkit.DataStructs.cDataStructs.ExplicitBitVect at 0x7f651a314ee0>,\n",
       " <rdkit.DataStructs.cDataStructs.ExplicitBitVect at 0x7f651a314f30>,\n",
       " <rdkit.DataStructs.cDataStructs.ExplicitBitVect at 0x7f651a314f80>,\n",
       " <rdkit.DataStructs.cDataStructs.ExplicitBitVect at 0x7f651a315030>,\n",
       " <rdkit.DataStructs.cDataStructs.ExplicitBitVect at 0x7f651a315080>,\n",
       " <rdkit.DataStructs.cDataStructs.ExplicitBitVect at 0x7f651a3150d0>,\n",
       " <rdkit.DataStructs.cDataStructs.ExplicitBitVect at 0x7f651a315120>,\n",
       " <rdkit.DataStructs.cDataStructs.ExplicitBitVect at 0x7f651a315170>,\n",
       " <rdkit.DataStructs.cDataStructs.ExplicitBitVect at 0x7f651a3151c0>,\n",
       " <rdkit.DataStructs.cDataStructs.ExplicitBitVect at 0x7f651a315210>,\n",
       " <rdkit.DataStructs.cDataStructs.ExplicitBitVect at 0x7f651a315260>,\n",
       " <rdkit.DataStructs.cDataStructs.ExplicitBitVect at 0x7f651a3152b0>,\n",
       " <rdkit.DataStructs.cDataStructs.ExplicitBitVect at 0x7f651a315300>,\n",
       " <rdkit.DataStructs.cDataStructs.ExplicitBitVect at 0x7f651a315350>,\n",
       " <rdkit.DataStructs.cDataStructs.ExplicitBitVect at 0x7f651a3153a0>,\n",
       " <rdkit.DataStructs.cDataStructs.ExplicitBitVect at 0x7f651a3153f0>,\n",
       " <rdkit.DataStructs.cDataStructs.ExplicitBitVect at 0x7f651a315440>,\n",
       " <rdkit.DataStructs.cDataStructs.ExplicitBitVect at 0x7f651a315490>,\n",
       " <rdkit.DataStructs.cDataStructs.ExplicitBitVect at 0x7f651a3154e0>,\n",
       " <rdkit.DataStructs.cDataStructs.ExplicitBitVect at 0x7f651a315530>,\n",
       " <rdkit.DataStructs.cDataStructs.ExplicitBitVect at 0x7f651a315580>,\n",
       " <rdkit.DataStructs.cDataStructs.ExplicitBitVect at 0x7f651a3155d0>,\n",
       " <rdkit.DataStructs.cDataStructs.ExplicitBitVect at 0x7f651a315620>,\n",
       " <rdkit.DataStructs.cDataStructs.ExplicitBitVect at 0x7f651a315670>,\n",
       " <rdkit.DataStructs.cDataStructs.ExplicitBitVect at 0x7f651a3156c0>,\n",
       " <rdkit.DataStructs.cDataStructs.ExplicitBitVect at 0x7f651a315710>,\n",
       " <rdkit.DataStructs.cDataStructs.ExplicitBitVect at 0x7f651a315760>,\n",
       " <rdkit.DataStructs.cDataStructs.ExplicitBitVect at 0x7f651a3157b0>,\n",
       " <rdkit.DataStructs.cDataStructs.ExplicitBitVect at 0x7f651a315800>,\n",
       " <rdkit.DataStructs.cDataStructs.ExplicitBitVect at 0x7f651a315850>,\n",
       " <rdkit.DataStructs.cDataStructs.ExplicitBitVect at 0x7f651a3158a0>,\n",
       " <rdkit.DataStructs.cDataStructs.ExplicitBitVect at 0x7f651a3158f0>,\n",
       " <rdkit.DataStructs.cDataStructs.ExplicitBitVect at 0x7f651a315940>,\n",
       " <rdkit.DataStructs.cDataStructs.ExplicitBitVect at 0x7f651a315990>,\n",
       " <rdkit.DataStructs.cDataStructs.ExplicitBitVect at 0x7f651a3159e0>,\n",
       " <rdkit.DataStructs.cDataStructs.ExplicitBitVect at 0x7f651a315a30>,\n",
       " <rdkit.DataStructs.cDataStructs.ExplicitBitVect at 0x7f651a315a80>,\n",
       " <rdkit.DataStructs.cDataStructs.ExplicitBitVect at 0x7f651a315ad0>,\n",
       " <rdkit.DataStructs.cDataStructs.ExplicitBitVect at 0x7f651a315b20>,\n",
       " <rdkit.DataStructs.cDataStructs.ExplicitBitVect at 0x7f651a315b70>,\n",
       " <rdkit.DataStructs.cDataStructs.ExplicitBitVect at 0x7f651a315bc0>,\n",
       " <rdkit.DataStructs.cDataStructs.ExplicitBitVect at 0x7f651a315c10>,\n",
       " <rdkit.DataStructs.cDataStructs.ExplicitBitVect at 0x7f651a315c60>,\n",
       " <rdkit.DataStructs.cDataStructs.ExplicitBitVect at 0x7f651a315cb0>,\n",
       " <rdkit.DataStructs.cDataStructs.ExplicitBitVect at 0x7f651a315d00>,\n",
       " <rdkit.DataStructs.cDataStructs.ExplicitBitVect at 0x7f651a315d50>,\n",
       " <rdkit.DataStructs.cDataStructs.ExplicitBitVect at 0x7f651a315da0>,\n",
       " <rdkit.DataStructs.cDataStructs.ExplicitBitVect at 0x7f651a315df0>,\n",
       " <rdkit.DataStructs.cDataStructs.ExplicitBitVect at 0x7f651a315e40>,\n",
       " <rdkit.DataStructs.cDataStructs.ExplicitBitVect at 0x7f651a315e90>,\n",
       " <rdkit.DataStructs.cDataStructs.ExplicitBitVect at 0x7f651a315ee0>,\n",
       " <rdkit.DataStructs.cDataStructs.ExplicitBitVect at 0x7f651a315f30>,\n",
       " <rdkit.DataStructs.cDataStructs.ExplicitBitVect at 0x7f651a315f80>,\n",
       " <rdkit.DataStructs.cDataStructs.ExplicitBitVect at 0x7f651a316030>,\n",
       " <rdkit.DataStructs.cDataStructs.ExplicitBitVect at 0x7f651a316080>,\n",
       " <rdkit.DataStructs.cDataStructs.ExplicitBitVect at 0x7f651a3160d0>,\n",
       " <rdkit.DataStructs.cDataStructs.ExplicitBitVect at 0x7f651a316120>,\n",
       " <rdkit.DataStructs.cDataStructs.ExplicitBitVect at 0x7f651a316170>,\n",
       " <rdkit.DataStructs.cDataStructs.ExplicitBitVect at 0x7f651a3161c0>,\n",
       " <rdkit.DataStructs.cDataStructs.ExplicitBitVect at 0x7f651a316210>,\n",
       " <rdkit.DataStructs.cDataStructs.ExplicitBitVect at 0x7f651a316260>,\n",
       " <rdkit.DataStructs.cDataStructs.ExplicitBitVect at 0x7f651a3162b0>,\n",
       " <rdkit.DataStructs.cDataStructs.ExplicitBitVect at 0x7f651a316300>,\n",
       " <rdkit.DataStructs.cDataStructs.ExplicitBitVect at 0x7f651a316350>,\n",
       " <rdkit.DataStructs.cDataStructs.ExplicitBitVect at 0x7f651a3163a0>,\n",
       " <rdkit.DataStructs.cDataStructs.ExplicitBitVect at 0x7f651a3163f0>,\n",
       " <rdkit.DataStructs.cDataStructs.ExplicitBitVect at 0x7f651a316440>,\n",
       " <rdkit.DataStructs.cDataStructs.ExplicitBitVect at 0x7f651a316490>,\n",
       " <rdkit.DataStructs.cDataStructs.ExplicitBitVect at 0x7f651a3164e0>,\n",
       " <rdkit.DataStructs.cDataStructs.ExplicitBitVect at 0x7f651a316530>,\n",
       " <rdkit.DataStructs.cDataStructs.ExplicitBitVect at 0x7f651a316580>,\n",
       " <rdkit.DataStructs.cDataStructs.ExplicitBitVect at 0x7f651a3165d0>,\n",
       " <rdkit.DataStructs.cDataStructs.ExplicitBitVect at 0x7f651a316620>,\n",
       " <rdkit.DataStructs.cDataStructs.ExplicitBitVect at 0x7f651a316670>,\n",
       " <rdkit.DataStructs.cDataStructs.ExplicitBitVect at 0x7f651a3166c0>,\n",
       " <rdkit.DataStructs.cDataStructs.ExplicitBitVect at 0x7f651a316710>,\n",
       " <rdkit.DataStructs.cDataStructs.ExplicitBitVect at 0x7f651a316760>,\n",
       " <rdkit.DataStructs.cDataStructs.ExplicitBitVect at 0x7f651a3167b0>,\n",
       " <rdkit.DataStructs.cDataStructs.ExplicitBitVect at 0x7f651a316800>,\n",
       " <rdkit.DataStructs.cDataStructs.ExplicitBitVect at 0x7f651a316850>,\n",
       " <rdkit.DataStructs.cDataStructs.ExplicitBitVect at 0x7f651a3168a0>,\n",
       " <rdkit.DataStructs.cDataStructs.ExplicitBitVect at 0x7f651a3168f0>,\n",
       " <rdkit.DataStructs.cDataStructs.ExplicitBitVect at 0x7f651a316940>,\n",
       " <rdkit.DataStructs.cDataStructs.ExplicitBitVect at 0x7f651a316990>,\n",
       " <rdkit.DataStructs.cDataStructs.ExplicitBitVect at 0x7f651a3169e0>,\n",
       " <rdkit.DataStructs.cDataStructs.ExplicitBitVect at 0x7f651a316a30>,\n",
       " <rdkit.DataStructs.cDataStructs.ExplicitBitVect at 0x7f651a316a80>,\n",
       " <rdkit.DataStructs.cDataStructs.ExplicitBitVect at 0x7f651a316ad0>,\n",
       " <rdkit.DataStructs.cDataStructs.ExplicitBitVect at 0x7f651a316b20>,\n",
       " <rdkit.DataStructs.cDataStructs.ExplicitBitVect at 0x7f651a316b70>,\n",
       " <rdkit.DataStructs.cDataStructs.ExplicitBitVect at 0x7f651a316bc0>,\n",
       " <rdkit.DataStructs.cDataStructs.ExplicitBitVect at 0x7f651a316c10>,\n",
       " <rdkit.DataStructs.cDataStructs.ExplicitBitVect at 0x7f651a316c60>,\n",
       " <rdkit.DataStructs.cDataStructs.ExplicitBitVect at 0x7f651a316cb0>,\n",
       " <rdkit.DataStructs.cDataStructs.ExplicitBitVect at 0x7f651a316d00>,\n",
       " <rdkit.DataStructs.cDataStructs.ExplicitBitVect at 0x7f651a316d50>,\n",
       " <rdkit.DataStructs.cDataStructs.ExplicitBitVect at 0x7f651a316da0>,\n",
       " <rdkit.DataStructs.cDataStructs.ExplicitBitVect at 0x7f651a316df0>,\n",
       " <rdkit.DataStructs.cDataStructs.ExplicitBitVect at 0x7f651a316e40>,\n",
       " <rdkit.DataStructs.cDataStructs.ExplicitBitVect at 0x7f651a316e90>,\n",
       " <rdkit.DataStructs.cDataStructs.ExplicitBitVect at 0x7f651a316ee0>,\n",
       " <rdkit.DataStructs.cDataStructs.ExplicitBitVect at 0x7f651a316f30>,\n",
       " <rdkit.DataStructs.cDataStructs.ExplicitBitVect at 0x7f651a316f80>,\n",
       " <rdkit.DataStructs.cDataStructs.ExplicitBitVect at 0x7f651a317030>,\n",
       " <rdkit.DataStructs.cDataStructs.ExplicitBitVect at 0x7f651a317080>,\n",
       " <rdkit.DataStructs.cDataStructs.ExplicitBitVect at 0x7f651a3170d0>,\n",
       " <rdkit.DataStructs.cDataStructs.ExplicitBitVect at 0x7f651a317120>,\n",
       " <rdkit.DataStructs.cDataStructs.ExplicitBitVect at 0x7f651a317170>,\n",
       " <rdkit.DataStructs.cDataStructs.ExplicitBitVect at 0x7f651a3171c0>,\n",
       " <rdkit.DataStructs.cDataStructs.ExplicitBitVect at 0x7f651a317210>,\n",
       " <rdkit.DataStructs.cDataStructs.ExplicitBitVect at 0x7f651a317260>,\n",
       " <rdkit.DataStructs.cDataStructs.ExplicitBitVect at 0x7f651a3172b0>,\n",
       " <rdkit.DataStructs.cDataStructs.ExplicitBitVect at 0x7f651a317300>,\n",
       " <rdkit.DataStructs.cDataStructs.ExplicitBitVect at 0x7f651a317350>,\n",
       " <rdkit.DataStructs.cDataStructs.ExplicitBitVect at 0x7f651a3173a0>,\n",
       " <rdkit.DataStructs.cDataStructs.ExplicitBitVect at 0x7f651a3173f0>,\n",
       " <rdkit.DataStructs.cDataStructs.ExplicitBitVect at 0x7f651a317440>,\n",
       " <rdkit.DataStructs.cDataStructs.ExplicitBitVect at 0x7f651a317490>,\n",
       " <rdkit.DataStructs.cDataStructs.ExplicitBitVect at 0x7f651a3174e0>,\n",
       " <rdkit.DataStructs.cDataStructs.ExplicitBitVect at 0x7f651a317530>,\n",
       " <rdkit.DataStructs.cDataStructs.ExplicitBitVect at 0x7f651a317580>,\n",
       " <rdkit.DataStructs.cDataStructs.ExplicitBitVect at 0x7f651a3175d0>,\n",
       " <rdkit.DataStructs.cDataStructs.ExplicitBitVect at 0x7f651a317620>,\n",
       " <rdkit.DataStructs.cDataStructs.ExplicitBitVect at 0x7f651a317670>,\n",
       " <rdkit.DataStructs.cDataStructs.ExplicitBitVect at 0x7f651a3176c0>,\n",
       " <rdkit.DataStructs.cDataStructs.ExplicitBitVect at 0x7f651a317710>,\n",
       " <rdkit.DataStructs.cDataStructs.ExplicitBitVect at 0x7f651a317760>,\n",
       " <rdkit.DataStructs.cDataStructs.ExplicitBitVect at 0x7f651a3177b0>,\n",
       " <rdkit.DataStructs.cDataStructs.ExplicitBitVect at 0x7f651a317800>,\n",
       " <rdkit.DataStructs.cDataStructs.ExplicitBitVect at 0x7f651a317850>,\n",
       " <rdkit.DataStructs.cDataStructs.ExplicitBitVect at 0x7f651a3178a0>,\n",
       " <rdkit.DataStructs.cDataStructs.ExplicitBitVect at 0x7f651a3178f0>,\n",
       " <rdkit.DataStructs.cDataStructs.ExplicitBitVect at 0x7f651a317940>,\n",
       " <rdkit.DataStructs.cDataStructs.ExplicitBitVect at 0x7f651a317990>,\n",
       " <rdkit.DataStructs.cDataStructs.ExplicitBitVect at 0x7f651a3179e0>,\n",
       " <rdkit.DataStructs.cDataStructs.ExplicitBitVect at 0x7f651a317a30>,\n",
       " <rdkit.DataStructs.cDataStructs.ExplicitBitVect at 0x7f651a317a80>,\n",
       " <rdkit.DataStructs.cDataStructs.ExplicitBitVect at 0x7f651a317ad0>,\n",
       " <rdkit.DataStructs.cDataStructs.ExplicitBitVect at 0x7f651a317b20>,\n",
       " <rdkit.DataStructs.cDataStructs.ExplicitBitVect at 0x7f651a317b70>,\n",
       " <rdkit.DataStructs.cDataStructs.ExplicitBitVect at 0x7f651a317bc0>,\n",
       " <rdkit.DataStructs.cDataStructs.ExplicitBitVect at 0x7f651a317c10>,\n",
       " <rdkit.DataStructs.cDataStructs.ExplicitBitVect at 0x7f651a317c60>,\n",
       " <rdkit.DataStructs.cDataStructs.ExplicitBitVect at 0x7f651a317cb0>,\n",
       " <rdkit.DataStructs.cDataStructs.ExplicitBitVect at 0x7f651a317d00>,\n",
       " <rdkit.DataStructs.cDataStructs.ExplicitBitVect at 0x7f651a317d50>,\n",
       " <rdkit.DataStructs.cDataStructs.ExplicitBitVect at 0x7f651a317da0>,\n",
       " <rdkit.DataStructs.cDataStructs.ExplicitBitVect at 0x7f651a317df0>,\n",
       " <rdkit.DataStructs.cDataStructs.ExplicitBitVect at 0x7f651a317e40>,\n",
       " <rdkit.DataStructs.cDataStructs.ExplicitBitVect at 0x7f651a317e90>,\n",
       " <rdkit.DataStructs.cDataStructs.ExplicitBitVect at 0x7f651a317ee0>,\n",
       " <rdkit.DataStructs.cDataStructs.ExplicitBitVect at 0x7f651a317f30>,\n",
       " <rdkit.DataStructs.cDataStructs.ExplicitBitVect at 0x7f651a317f80>,\n",
       " <rdkit.DataStructs.cDataStructs.ExplicitBitVect at 0x7f651a318030>,\n",
       " <rdkit.DataStructs.cDataStructs.ExplicitBitVect at 0x7f651a318080>,\n",
       " <rdkit.DataStructs.cDataStructs.ExplicitBitVect at 0x7f651a3180d0>,\n",
       " <rdkit.DataStructs.cDataStructs.ExplicitBitVect at 0x7f651a318120>,\n",
       " <rdkit.DataStructs.cDataStructs.ExplicitBitVect at 0x7f651a318170>,\n",
       " <rdkit.DataStructs.cDataStructs.ExplicitBitVect at 0x7f651a3181c0>,\n",
       " <rdkit.DataStructs.cDataStructs.ExplicitBitVect at 0x7f651a318210>,\n",
       " <rdkit.DataStructs.cDataStructs.ExplicitBitVect at 0x7f651a318260>,\n",
       " <rdkit.DataStructs.cDataStructs.ExplicitBitVect at 0x7f651a3182b0>,\n",
       " <rdkit.DataStructs.cDataStructs.ExplicitBitVect at 0x7f651a318300>,\n",
       " <rdkit.DataStructs.cDataStructs.ExplicitBitVect at 0x7f651a318350>,\n",
       " <rdkit.DataStructs.cDataStructs.ExplicitBitVect at 0x7f651a3183a0>,\n",
       " <rdkit.DataStructs.cDataStructs.ExplicitBitVect at 0x7f651a3183f0>,\n",
       " <rdkit.DataStructs.cDataStructs.ExplicitBitVect at 0x7f651a318440>,\n",
       " <rdkit.DataStructs.cDataStructs.ExplicitBitVect at 0x7f651a318490>,\n",
       " <rdkit.DataStructs.cDataStructs.ExplicitBitVect at 0x7f651a3184e0>,\n",
       " <rdkit.DataStructs.cDataStructs.ExplicitBitVect at 0x7f651a318530>,\n",
       " <rdkit.DataStructs.cDataStructs.ExplicitBitVect at 0x7f651a318580>,\n",
       " <rdkit.DataStructs.cDataStructs.ExplicitBitVect at 0x7f651a3185d0>,\n",
       " <rdkit.DataStructs.cDataStructs.ExplicitBitVect at 0x7f651a318620>,\n",
       " <rdkit.DataStructs.cDataStructs.ExplicitBitVect at 0x7f651a318670>,\n",
       " <rdkit.DataStructs.cDataStructs.ExplicitBitVect at 0x7f651a3186c0>,\n",
       " <rdkit.DataStructs.cDataStructs.ExplicitBitVect at 0x7f651a318710>,\n",
       " <rdkit.DataStructs.cDataStructs.ExplicitBitVect at 0x7f651a318760>,\n",
       " <rdkit.DataStructs.cDataStructs.ExplicitBitVect at 0x7f651a3187b0>,\n",
       " <rdkit.DataStructs.cDataStructs.ExplicitBitVect at 0x7f651a318800>,\n",
       " <rdkit.DataStructs.cDataStructs.ExplicitBitVect at 0x7f651a318850>,\n",
       " <rdkit.DataStructs.cDataStructs.ExplicitBitVect at 0x7f651a3188a0>,\n",
       " <rdkit.DataStructs.cDataStructs.ExplicitBitVect at 0x7f651a3188f0>,\n",
       " <rdkit.DataStructs.cDataStructs.ExplicitBitVect at 0x7f651a318940>,\n",
       " <rdkit.DataStructs.cDataStructs.ExplicitBitVect at 0x7f651a318990>,\n",
       " <rdkit.DataStructs.cDataStructs.ExplicitBitVect at 0x7f651a3189e0>,\n",
       " <rdkit.DataStructs.cDataStructs.ExplicitBitVect at 0x7f651a318a30>,\n",
       " <rdkit.DataStructs.cDataStructs.ExplicitBitVect at 0x7f651a318a80>,\n",
       " <rdkit.DataStructs.cDataStructs.ExplicitBitVect at 0x7f651a318ad0>,\n",
       " <rdkit.DataStructs.cDataStructs.ExplicitBitVect at 0x7f651a318b20>,\n",
       " <rdkit.DataStructs.cDataStructs.ExplicitBitVect at 0x7f651a318b70>,\n",
       " <rdkit.DataStructs.cDataStructs.ExplicitBitVect at 0x7f651a318bc0>,\n",
       " <rdkit.DataStructs.cDataStructs.ExplicitBitVect at 0x7f651a318c10>,\n",
       " <rdkit.DataStructs.cDataStructs.ExplicitBitVect at 0x7f651a318c60>,\n",
       " <rdkit.DataStructs.cDataStructs.ExplicitBitVect at 0x7f651a318cb0>,\n",
       " <rdkit.DataStructs.cDataStructs.ExplicitBitVect at 0x7f651a318d00>,\n",
       " <rdkit.DataStructs.cDataStructs.ExplicitBitVect at 0x7f651a318d50>,\n",
       " <rdkit.DataStructs.cDataStructs.ExplicitBitVect at 0x7f651a318da0>,\n",
       " <rdkit.DataStructs.cDataStructs.ExplicitBitVect at 0x7f651a318df0>,\n",
       " <rdkit.DataStructs.cDataStructs.ExplicitBitVect at 0x7f651a318e40>,\n",
       " <rdkit.DataStructs.cDataStructs.ExplicitBitVect at 0x7f651a318e90>,\n",
       " <rdkit.DataStructs.cDataStructs.ExplicitBitVect at 0x7f651a318ee0>,\n",
       " <rdkit.DataStructs.cDataStructs.ExplicitBitVect at 0x7f651a318f30>,\n",
       " <rdkit.DataStructs.cDataStructs.ExplicitBitVect at 0x7f651a318f80>,\n",
       " <rdkit.DataStructs.cDataStructs.ExplicitBitVect at 0x7f651a319030>,\n",
       " <rdkit.DataStructs.cDataStructs.ExplicitBitVect at 0x7f651a319080>,\n",
       " <rdkit.DataStructs.cDataStructs.ExplicitBitVect at 0x7f651a3190d0>,\n",
       " <rdkit.DataStructs.cDataStructs.ExplicitBitVect at 0x7f651a319120>,\n",
       " <rdkit.DataStructs.cDataStructs.ExplicitBitVect at 0x7f651a319170>,\n",
       " <rdkit.DataStructs.cDataStructs.ExplicitBitVect at 0x7f651a3191c0>,\n",
       " <rdkit.DataStructs.cDataStructs.ExplicitBitVect at 0x7f651a319210>,\n",
       " <rdkit.DataStructs.cDataStructs.ExplicitBitVect at 0x7f651a319260>,\n",
       " <rdkit.DataStructs.cDataStructs.ExplicitBitVect at 0x7f651a3192b0>,\n",
       " <rdkit.DataStructs.cDataStructs.ExplicitBitVect at 0x7f651a319300>,\n",
       " <rdkit.DataStructs.cDataStructs.ExplicitBitVect at 0x7f651a319350>,\n",
       " <rdkit.DataStructs.cDataStructs.ExplicitBitVect at 0x7f651a3193a0>,\n",
       " <rdkit.DataStructs.cDataStructs.ExplicitBitVect at 0x7f651a3193f0>,\n",
       " <rdkit.DataStructs.cDataStructs.ExplicitBitVect at 0x7f651a319440>,\n",
       " <rdkit.DataStructs.cDataStructs.ExplicitBitVect at 0x7f651a319490>,\n",
       " <rdkit.DataStructs.cDataStructs.ExplicitBitVect at 0x7f651a3194e0>,\n",
       " <rdkit.DataStructs.cDataStructs.ExplicitBitVect at 0x7f651a319530>,\n",
       " <rdkit.DataStructs.cDataStructs.ExplicitBitVect at 0x7f651a319580>,\n",
       " <rdkit.DataStructs.cDataStructs.ExplicitBitVect at 0x7f651a3195d0>,\n",
       " <rdkit.DataStructs.cDataStructs.ExplicitBitVect at 0x7f651a319620>,\n",
       " <rdkit.DataStructs.cDataStructs.ExplicitBitVect at 0x7f651a319670>,\n",
       " <rdkit.DataStructs.cDataStructs.ExplicitBitVect at 0x7f651a3196c0>,\n",
       " <rdkit.DataStructs.cDataStructs.ExplicitBitVect at 0x7f651a319710>,\n",
       " <rdkit.DataStructs.cDataStructs.ExplicitBitVect at 0x7f651a319760>,\n",
       " <rdkit.DataStructs.cDataStructs.ExplicitBitVect at 0x7f651a3197b0>,\n",
       " <rdkit.DataStructs.cDataStructs.ExplicitBitVect at 0x7f651a319800>,\n",
       " <rdkit.DataStructs.cDataStructs.ExplicitBitVect at 0x7f651a319850>,\n",
       " <rdkit.DataStructs.cDataStructs.ExplicitBitVect at 0x7f651a3198a0>,\n",
       " <rdkit.DataStructs.cDataStructs.ExplicitBitVect at 0x7f651a3198f0>,\n",
       " <rdkit.DataStructs.cDataStructs.ExplicitBitVect at 0x7f651a319940>,\n",
       " <rdkit.DataStructs.cDataStructs.ExplicitBitVect at 0x7f651a319990>,\n",
       " <rdkit.DataStructs.cDataStructs.ExplicitBitVect at 0x7f651a3199e0>,\n",
       " <rdkit.DataStructs.cDataStructs.ExplicitBitVect at 0x7f651a319a30>,\n",
       " <rdkit.DataStructs.cDataStructs.ExplicitBitVect at 0x7f651a319a80>,\n",
       " <rdkit.DataStructs.cDataStructs.ExplicitBitVect at 0x7f651a319ad0>,\n",
       " <rdkit.DataStructs.cDataStructs.ExplicitBitVect at 0x7f651a319b20>,\n",
       " <rdkit.DataStructs.cDataStructs.ExplicitBitVect at 0x7f651a319b70>,\n",
       " <rdkit.DataStructs.cDataStructs.ExplicitBitVect at 0x7f651a319bc0>,\n",
       " <rdkit.DataStructs.cDataStructs.ExplicitBitVect at 0x7f651a319c10>,\n",
       " <rdkit.DataStructs.cDataStructs.ExplicitBitVect at 0x7f651a319c60>,\n",
       " <rdkit.DataStructs.cDataStructs.ExplicitBitVect at 0x7f651a319cb0>,\n",
       " <rdkit.DataStructs.cDataStructs.ExplicitBitVect at 0x7f651a319d00>,\n",
       " <rdkit.DataStructs.cDataStructs.ExplicitBitVect at 0x7f651a319d50>,\n",
       " <rdkit.DataStructs.cDataStructs.ExplicitBitVect at 0x7f651a319da0>,\n",
       " <rdkit.DataStructs.cDataStructs.ExplicitBitVect at 0x7f651a319df0>,\n",
       " <rdkit.DataStructs.cDataStructs.ExplicitBitVect at 0x7f651a319e40>,\n",
       " <rdkit.DataStructs.cDataStructs.ExplicitBitVect at 0x7f651a319e90>,\n",
       " <rdkit.DataStructs.cDataStructs.ExplicitBitVect at 0x7f651a319ee0>,\n",
       " <rdkit.DataStructs.cDataStructs.ExplicitBitVect at 0x7f651a319f30>,\n",
       " <rdkit.DataStructs.cDataStructs.ExplicitBitVect at 0x7f651a319f80>,\n",
       " <rdkit.DataStructs.cDataStructs.ExplicitBitVect at 0x7f651a31a030>,\n",
       " <rdkit.DataStructs.cDataStructs.ExplicitBitVect at 0x7f651a31a080>,\n",
       " <rdkit.DataStructs.cDataStructs.ExplicitBitVect at 0x7f651a31a0d0>,\n",
       " <rdkit.DataStructs.cDataStructs.ExplicitBitVect at 0x7f651a31a120>,\n",
       " <rdkit.DataStructs.cDataStructs.ExplicitBitVect at 0x7f651a31a170>,\n",
       " <rdkit.DataStructs.cDataStructs.ExplicitBitVect at 0x7f651a31a1c0>,\n",
       " <rdkit.DataStructs.cDataStructs.ExplicitBitVect at 0x7f651a31a210>,\n",
       " <rdkit.DataStructs.cDataStructs.ExplicitBitVect at 0x7f651a31a260>,\n",
       " <rdkit.DataStructs.cDataStructs.ExplicitBitVect at 0x7f651a31a2b0>,\n",
       " <rdkit.DataStructs.cDataStructs.ExplicitBitVect at 0x7f651a31a300>,\n",
       " <rdkit.DataStructs.cDataStructs.ExplicitBitVect at 0x7f651a31a350>,\n",
       " <rdkit.DataStructs.cDataStructs.ExplicitBitVect at 0x7f651a31a3a0>,\n",
       " <rdkit.DataStructs.cDataStructs.ExplicitBitVect at 0x7f651a31a3f0>,\n",
       " <rdkit.DataStructs.cDataStructs.ExplicitBitVect at 0x7f651a31a440>,\n",
       " <rdkit.DataStructs.cDataStructs.ExplicitBitVect at 0x7f651a31a490>,\n",
       " <rdkit.DataStructs.cDataStructs.ExplicitBitVect at 0x7f651a31a4e0>,\n",
       " <rdkit.DataStructs.cDataStructs.ExplicitBitVect at 0x7f651a31a530>,\n",
       " <rdkit.DataStructs.cDataStructs.ExplicitBitVect at 0x7f651a31a580>,\n",
       " <rdkit.DataStructs.cDataStructs.ExplicitBitVect at 0x7f651a31a5d0>,\n",
       " <rdkit.DataStructs.cDataStructs.ExplicitBitVect at 0x7f651a31a620>,\n",
       " <rdkit.DataStructs.cDataStructs.ExplicitBitVect at 0x7f651a31a670>,\n",
       " <rdkit.DataStructs.cDataStructs.ExplicitBitVect at 0x7f651a31a6c0>,\n",
       " <rdkit.DataStructs.cDataStructs.ExplicitBitVect at 0x7f651a31a710>,\n",
       " <rdkit.DataStructs.cDataStructs.ExplicitBitVect at 0x7f651a31a760>,\n",
       " <rdkit.DataStructs.cDataStructs.ExplicitBitVect at 0x7f651a31a7b0>,\n",
       " <rdkit.DataStructs.cDataStructs.ExplicitBitVect at 0x7f651a31a800>,\n",
       " <rdkit.DataStructs.cDataStructs.ExplicitBitVect at 0x7f651a31a850>,\n",
       " <rdkit.DataStructs.cDataStructs.ExplicitBitVect at 0x7f651a31a8a0>,\n",
       " <rdkit.DataStructs.cDataStructs.ExplicitBitVect at 0x7f651a31a8f0>,\n",
       " <rdkit.DataStructs.cDataStructs.ExplicitBitVect at 0x7f651a31a940>,\n",
       " <rdkit.DataStructs.cDataStructs.ExplicitBitVect at 0x7f651a31a990>,\n",
       " <rdkit.DataStructs.cDataStructs.ExplicitBitVect at 0x7f651a31a9e0>,\n",
       " <rdkit.DataStructs.cDataStructs.ExplicitBitVect at 0x7f651a31aa30>,\n",
       " <rdkit.DataStructs.cDataStructs.ExplicitBitVect at 0x7f651a31aa80>,\n",
       " <rdkit.DataStructs.cDataStructs.ExplicitBitVect at 0x7f651a31aad0>,\n",
       " <rdkit.DataStructs.cDataStructs.ExplicitBitVect at 0x7f651a31ab20>,\n",
       " <rdkit.DataStructs.cDataStructs.ExplicitBitVect at 0x7f651a31ab70>,\n",
       " <rdkit.DataStructs.cDataStructs.ExplicitBitVect at 0x7f651a31abc0>,\n",
       " <rdkit.DataStructs.cDataStructs.ExplicitBitVect at 0x7f651a31ac10>,\n",
       " <rdkit.DataStructs.cDataStructs.ExplicitBitVect at 0x7f651a31ac60>,\n",
       " <rdkit.DataStructs.cDataStructs.ExplicitBitVect at 0x7f651a31acb0>,\n",
       " <rdkit.DataStructs.cDataStructs.ExplicitBitVect at 0x7f651a31ad00>,\n",
       " <rdkit.DataStructs.cDataStructs.ExplicitBitVect at 0x7f651a31ad50>,\n",
       " <rdkit.DataStructs.cDataStructs.ExplicitBitVect at 0x7f651a31ada0>,\n",
       " <rdkit.DataStructs.cDataStructs.ExplicitBitVect at 0x7f651a31adf0>,\n",
       " <rdkit.DataStructs.cDataStructs.ExplicitBitVect at 0x7f651a31ae40>,\n",
       " <rdkit.DataStructs.cDataStructs.ExplicitBitVect at 0x7f651a31ae90>,\n",
       " <rdkit.DataStructs.cDataStructs.ExplicitBitVect at 0x7f651a31aee0>,\n",
       " <rdkit.DataStructs.cDataStructs.ExplicitBitVect at 0x7f651a31af30>,\n",
       " <rdkit.DataStructs.cDataStructs.ExplicitBitVect at 0x7f651a31af80>,\n",
       " <rdkit.DataStructs.cDataStructs.ExplicitBitVect at 0x7f651a31b030>,\n",
       " <rdkit.DataStructs.cDataStructs.ExplicitBitVect at 0x7f651a31b080>,\n",
       " <rdkit.DataStructs.cDataStructs.ExplicitBitVect at 0x7f651a31b0d0>,\n",
       " <rdkit.DataStructs.cDataStructs.ExplicitBitVect at 0x7f651a31b120>,\n",
       " <rdkit.DataStructs.cDataStructs.ExplicitBitVect at 0x7f651a31b170>,\n",
       " <rdkit.DataStructs.cDataStructs.ExplicitBitVect at 0x7f651a31b1c0>,\n",
       " <rdkit.DataStructs.cDataStructs.ExplicitBitVect at 0x7f651a31b210>,\n",
       " <rdkit.DataStructs.cDataStructs.ExplicitBitVect at 0x7f651a31b260>,\n",
       " <rdkit.DataStructs.cDataStructs.ExplicitBitVect at 0x7f651a31b2b0>,\n",
       " <rdkit.DataStructs.cDataStructs.ExplicitBitVect at 0x7f651a31b300>,\n",
       " <rdkit.DataStructs.cDataStructs.ExplicitBitVect at 0x7f651a31b350>,\n",
       " <rdkit.DataStructs.cDataStructs.ExplicitBitVect at 0x7f651a31b3a0>,\n",
       " <rdkit.DataStructs.cDataStructs.ExplicitBitVect at 0x7f651a31b3f0>,\n",
       " <rdkit.DataStructs.cDataStructs.ExplicitBitVect at 0x7f651a31b440>,\n",
       " <rdkit.DataStructs.cDataStructs.ExplicitBitVect at 0x7f651a31b490>,\n",
       " <rdkit.DataStructs.cDataStructs.ExplicitBitVect at 0x7f651a31b4e0>,\n",
       " <rdkit.DataStructs.cDataStructs.ExplicitBitVect at 0x7f651a31b530>,\n",
       " <rdkit.DataStructs.cDataStructs.ExplicitBitVect at 0x7f651a31b580>,\n",
       " <rdkit.DataStructs.cDataStructs.ExplicitBitVect at 0x7f651a31b5d0>,\n",
       " <rdkit.DataStructs.cDataStructs.ExplicitBitVect at 0x7f651a31b620>,\n",
       " <rdkit.DataStructs.cDataStructs.ExplicitBitVect at 0x7f651a31b670>,\n",
       " <rdkit.DataStructs.cDataStructs.ExplicitBitVect at 0x7f651a31b6c0>,\n",
       " <rdkit.DataStructs.cDataStructs.ExplicitBitVect at 0x7f651a31b710>,\n",
       " <rdkit.DataStructs.cDataStructs.ExplicitBitVect at 0x7f651a31b760>,\n",
       " <rdkit.DataStructs.cDataStructs.ExplicitBitVect at 0x7f651a31b7b0>,\n",
       " <rdkit.DataStructs.cDataStructs.ExplicitBitVect at 0x7f651a31b800>,\n",
       " <rdkit.DataStructs.cDataStructs.ExplicitBitVect at 0x7f651a31b850>,\n",
       " <rdkit.DataStructs.cDataStructs.ExplicitBitVect at 0x7f651a31b8a0>,\n",
       " <rdkit.DataStructs.cDataStructs.ExplicitBitVect at 0x7f651a31b8f0>,\n",
       " <rdkit.DataStructs.cDataStructs.ExplicitBitVect at 0x7f651a31b940>,\n",
       " <rdkit.DataStructs.cDataStructs.ExplicitBitVect at 0x7f651a31b990>,\n",
       " <rdkit.DataStructs.cDataStructs.ExplicitBitVect at 0x7f651a31b9e0>,\n",
       " <rdkit.DataStructs.cDataStructs.ExplicitBitVect at 0x7f651a31ba30>,\n",
       " <rdkit.DataStructs.cDataStructs.ExplicitBitVect at 0x7f651a31ba80>,\n",
       " <rdkit.DataStructs.cDataStructs.ExplicitBitVect at 0x7f651a31bad0>,\n",
       " <rdkit.DataStructs.cDataStructs.ExplicitBitVect at 0x7f651a31bb20>,\n",
       " <rdkit.DataStructs.cDataStructs.ExplicitBitVect at 0x7f651a31bb70>,\n",
       " <rdkit.DataStructs.cDataStructs.ExplicitBitVect at 0x7f651a31bbc0>,\n",
       " <rdkit.DataStructs.cDataStructs.ExplicitBitVect at 0x7f651a31bc10>,\n",
       " <rdkit.DataStructs.cDataStructs.ExplicitBitVect at 0x7f651a31bc60>,\n",
       " <rdkit.DataStructs.cDataStructs.ExplicitBitVect at 0x7f651a31bcb0>,\n",
       " <rdkit.DataStructs.cDataStructs.ExplicitBitVect at 0x7f651a31bd00>,\n",
       " <rdkit.DataStructs.cDataStructs.ExplicitBitVect at 0x7f651a31bd50>,\n",
       " <rdkit.DataStructs.cDataStructs.ExplicitBitVect at 0x7f651a31bda0>,\n",
       " <rdkit.DataStructs.cDataStructs.ExplicitBitVect at 0x7f651a31bdf0>,\n",
       " <rdkit.DataStructs.cDataStructs.ExplicitBitVect at 0x7f651a31be40>,\n",
       " <rdkit.DataStructs.cDataStructs.ExplicitBitVect at 0x7f651a31be90>,\n",
       " <rdkit.DataStructs.cDataStructs.ExplicitBitVect at 0x7f651a31bee0>,\n",
       " <rdkit.DataStructs.cDataStructs.ExplicitBitVect at 0x7f651a31bf30>,\n",
       " <rdkit.DataStructs.cDataStructs.ExplicitBitVect at 0x7f651a31bf80>,\n",
       " <rdkit.DataStructs.cDataStructs.ExplicitBitVect at 0x7f651a31c030>,\n",
       " <rdkit.DataStructs.cDataStructs.ExplicitBitVect at 0x7f651a31c080>,\n",
       " <rdkit.DataStructs.cDataStructs.ExplicitBitVect at 0x7f651a31c0d0>,\n",
       " <rdkit.DataStructs.cDataStructs.ExplicitBitVect at 0x7f651a31c120>,\n",
       " <rdkit.DataStructs.cDataStructs.ExplicitBitVect at 0x7f651a31c170>,\n",
       " <rdkit.DataStructs.cDataStructs.ExplicitBitVect at 0x7f651a31c1c0>,\n",
       " <rdkit.DataStructs.cDataStructs.ExplicitBitVect at 0x7f651a31c210>,\n",
       " <rdkit.DataStructs.cDataStructs.ExplicitBitVect at 0x7f651a31c260>,\n",
       " <rdkit.DataStructs.cDataStructs.ExplicitBitVect at 0x7f651a31c2b0>,\n",
       " <rdkit.DataStructs.cDataStructs.ExplicitBitVect at 0x7f651a31c300>,\n",
       " <rdkit.DataStructs.cDataStructs.ExplicitBitVect at 0x7f651a31c350>,\n",
       " <rdkit.DataStructs.cDataStructs.ExplicitBitVect at 0x7f651a31c3a0>,\n",
       " <rdkit.DataStructs.cDataStructs.ExplicitBitVect at 0x7f651a31c3f0>,\n",
       " <rdkit.DataStructs.cDataStructs.ExplicitBitVect at 0x7f651a31c440>,\n",
       " <rdkit.DataStructs.cDataStructs.ExplicitBitVect at 0x7f651a31c490>,\n",
       " <rdkit.DataStructs.cDataStructs.ExplicitBitVect at 0x7f651a31c4e0>,\n",
       " <rdkit.DataStructs.cDataStructs.ExplicitBitVect at 0x7f651a31c530>,\n",
       " <rdkit.DataStructs.cDataStructs.ExplicitBitVect at 0x7f651a31c580>,\n",
       " <rdkit.DataStructs.cDataStructs.ExplicitBitVect at 0x7f651a31c5d0>,\n",
       " <rdkit.DataStructs.cDataStructs.ExplicitBitVect at 0x7f651a31c620>,\n",
       " <rdkit.DataStructs.cDataStructs.ExplicitBitVect at 0x7f651a31c670>,\n",
       " <rdkit.DataStructs.cDataStructs.ExplicitBitVect at 0x7f651a31c6c0>,\n",
       " <rdkit.DataStructs.cDataStructs.ExplicitBitVect at 0x7f651a31c710>,\n",
       " <rdkit.DataStructs.cDataStructs.ExplicitBitVect at 0x7f651a31c760>,\n",
       " <rdkit.DataStructs.cDataStructs.ExplicitBitVect at 0x7f651a31c7b0>,\n",
       " <rdkit.DataStructs.cDataStructs.ExplicitBitVect at 0x7f651a31c800>,\n",
       " <rdkit.DataStructs.cDataStructs.ExplicitBitVect at 0x7f651a31c850>,\n",
       " <rdkit.DataStructs.cDataStructs.ExplicitBitVect at 0x7f651a31c8a0>,\n",
       " <rdkit.DataStructs.cDataStructs.ExplicitBitVect at 0x7f651a31c8f0>,\n",
       " <rdkit.DataStructs.cDataStructs.ExplicitBitVect at 0x7f651a31c940>,\n",
       " <rdkit.DataStructs.cDataStructs.ExplicitBitVect at 0x7f651a31c990>,\n",
       " <rdkit.DataStructs.cDataStructs.ExplicitBitVect at 0x7f651a31c9e0>,\n",
       " <rdkit.DataStructs.cDataStructs.ExplicitBitVect at 0x7f651a31ca30>,\n",
       " <rdkit.DataStructs.cDataStructs.ExplicitBitVect at 0x7f651a31ca80>,\n",
       " <rdkit.DataStructs.cDataStructs.ExplicitBitVect at 0x7f651a31cad0>,\n",
       " <rdkit.DataStructs.cDataStructs.ExplicitBitVect at 0x7f651a31cb20>,\n",
       " <rdkit.DataStructs.cDataStructs.ExplicitBitVect at 0x7f651a31cb70>,\n",
       " <rdkit.DataStructs.cDataStructs.ExplicitBitVect at 0x7f651a31cbc0>,\n",
       " <rdkit.DataStructs.cDataStructs.ExplicitBitVect at 0x7f651a31cc10>,\n",
       " <rdkit.DataStructs.cDataStructs.ExplicitBitVect at 0x7f651a31cc60>,\n",
       " <rdkit.DataStructs.cDataStructs.ExplicitBitVect at 0x7f651a31ccb0>,\n",
       " <rdkit.DataStructs.cDataStructs.ExplicitBitVect at 0x7f651a31cd00>,\n",
       " <rdkit.DataStructs.cDataStructs.ExplicitBitVect at 0x7f651a31cd50>,\n",
       " <rdkit.DataStructs.cDataStructs.ExplicitBitVect at 0x7f651a31cda0>,\n",
       " <rdkit.DataStructs.cDataStructs.ExplicitBitVect at 0x7f651a31cdf0>,\n",
       " <rdkit.DataStructs.cDataStructs.ExplicitBitVect at 0x7f651a31ce40>,\n",
       " <rdkit.DataStructs.cDataStructs.ExplicitBitVect at 0x7f651a31ce90>,\n",
       " <rdkit.DataStructs.cDataStructs.ExplicitBitVect at 0x7f651a31cee0>,\n",
       " <rdkit.DataStructs.cDataStructs.ExplicitBitVect at 0x7f651a31cf30>,\n",
       " <rdkit.DataStructs.cDataStructs.ExplicitBitVect at 0x7f651a31cf80>,\n",
       " <rdkit.DataStructs.cDataStructs.ExplicitBitVect at 0x7f651a31d030>,\n",
       " <rdkit.DataStructs.cDataStructs.ExplicitBitVect at 0x7f651a31d080>,\n",
       " <rdkit.DataStructs.cDataStructs.ExplicitBitVect at 0x7f651a31d0d0>,\n",
       " <rdkit.DataStructs.cDataStructs.ExplicitBitVect at 0x7f651a31d120>,\n",
       " <rdkit.DataStructs.cDataStructs.ExplicitBitVect at 0x7f651a31d170>,\n",
       " <rdkit.DataStructs.cDataStructs.ExplicitBitVect at 0x7f651a31d1c0>,\n",
       " <rdkit.DataStructs.cDataStructs.ExplicitBitVect at 0x7f651a31d210>,\n",
       " <rdkit.DataStructs.cDataStructs.ExplicitBitVect at 0x7f651a31d260>,\n",
       " <rdkit.DataStructs.cDataStructs.ExplicitBitVect at 0x7f651a31d2b0>,\n",
       " <rdkit.DataStructs.cDataStructs.ExplicitBitVect at 0x7f651a31d300>,\n",
       " <rdkit.DataStructs.cDataStructs.ExplicitBitVect at 0x7f651a31d350>,\n",
       " <rdkit.DataStructs.cDataStructs.ExplicitBitVect at 0x7f651a31d3a0>,\n",
       " <rdkit.DataStructs.cDataStructs.ExplicitBitVect at 0x7f651a31d3f0>,\n",
       " <rdkit.DataStructs.cDataStructs.ExplicitBitVect at 0x7f651a31d440>,\n",
       " <rdkit.DataStructs.cDataStructs.ExplicitBitVect at 0x7f651a31d490>,\n",
       " <rdkit.DataStructs.cDataStructs.ExplicitBitVect at 0x7f651a31d4e0>,\n",
       " <rdkit.DataStructs.cDataStructs.ExplicitBitVect at 0x7f651a31d530>,\n",
       " <rdkit.DataStructs.cDataStructs.ExplicitBitVect at 0x7f651a31d580>,\n",
       " <rdkit.DataStructs.cDataStructs.ExplicitBitVect at 0x7f651a31d5d0>,\n",
       " <rdkit.DataStructs.cDataStructs.ExplicitBitVect at 0x7f651a31d620>,\n",
       " <rdkit.DataStructs.cDataStructs.ExplicitBitVect at 0x7f651a31d670>,\n",
       " <rdkit.DataStructs.cDataStructs.ExplicitBitVect at 0x7f651a31d6c0>,\n",
       " <rdkit.DataStructs.cDataStructs.ExplicitBitVect at 0x7f651a31d710>,\n",
       " <rdkit.DataStructs.cDataStructs.ExplicitBitVect at 0x7f651a31d760>,\n",
       " <rdkit.DataStructs.cDataStructs.ExplicitBitVect at 0x7f651a31d7b0>,\n",
       " <rdkit.DataStructs.cDataStructs.ExplicitBitVect at 0x7f651a31d800>,\n",
       " <rdkit.DataStructs.cDataStructs.ExplicitBitVect at 0x7f651a31d850>,\n",
       " <rdkit.DataStructs.cDataStructs.ExplicitBitVect at 0x7f651a31d8a0>,\n",
       " <rdkit.DataStructs.cDataStructs.ExplicitBitVect at 0x7f651a31d8f0>,\n",
       " <rdkit.DataStructs.cDataStructs.ExplicitBitVect at 0x7f651a31d940>,\n",
       " <rdkit.DataStructs.cDataStructs.ExplicitBitVect at 0x7f651a31d990>,\n",
       " <rdkit.DataStructs.cDataStructs.ExplicitBitVect at 0x7f651a31d9e0>,\n",
       " <rdkit.DataStructs.cDataStructs.ExplicitBitVect at 0x7f651a31da30>,\n",
       " <rdkit.DataStructs.cDataStructs.ExplicitBitVect at 0x7f651a31da80>,\n",
       " <rdkit.DataStructs.cDataStructs.ExplicitBitVect at 0x7f651a31dad0>,\n",
       " <rdkit.DataStructs.cDataStructs.ExplicitBitVect at 0x7f651a31db20>,\n",
       " <rdkit.DataStructs.cDataStructs.ExplicitBitVect at 0x7f651a31db70>,\n",
       " <rdkit.DataStructs.cDataStructs.ExplicitBitVect at 0x7f651a31dbc0>,\n",
       " <rdkit.DataStructs.cDataStructs.ExplicitBitVect at 0x7f651a31dc10>,\n",
       " <rdkit.DataStructs.cDataStructs.ExplicitBitVect at 0x7f651a31dc60>,\n",
       " <rdkit.DataStructs.cDataStructs.ExplicitBitVect at 0x7f651a31dcb0>,\n",
       " <rdkit.DataStructs.cDataStructs.ExplicitBitVect at 0x7f651a31dd00>,\n",
       " <rdkit.DataStructs.cDataStructs.ExplicitBitVect at 0x7f651a31dd50>,\n",
       " <rdkit.DataStructs.cDataStructs.ExplicitBitVect at 0x7f651a31dda0>,\n",
       " <rdkit.DataStructs.cDataStructs.ExplicitBitVect at 0x7f651a31ddf0>,\n",
       " <rdkit.DataStructs.cDataStructs.ExplicitBitVect at 0x7f651a31de40>,\n",
       " <rdkit.DataStructs.cDataStructs.ExplicitBitVect at 0x7f651a31de90>,\n",
       " <rdkit.DataStructs.cDataStructs.ExplicitBitVect at 0x7f651a31dee0>,\n",
       " <rdkit.DataStructs.cDataStructs.ExplicitBitVect at 0x7f651a31df30>,\n",
       " <rdkit.DataStructs.cDataStructs.ExplicitBitVect at 0x7f651a31df80>,\n",
       " <rdkit.DataStructs.cDataStructs.ExplicitBitVect at 0x7f651a31e030>,\n",
       " <rdkit.DataStructs.cDataStructs.ExplicitBitVect at 0x7f651a31e080>,\n",
       " <rdkit.DataStructs.cDataStructs.ExplicitBitVect at 0x7f651a31e0d0>,\n",
       " <rdkit.DataStructs.cDataStructs.ExplicitBitVect at 0x7f651a31e120>,\n",
       " <rdkit.DataStructs.cDataStructs.ExplicitBitVect at 0x7f651a31e170>,\n",
       " <rdkit.DataStructs.cDataStructs.ExplicitBitVect at 0x7f651a31e1c0>,\n",
       " <rdkit.DataStructs.cDataStructs.ExplicitBitVect at 0x7f651a31e210>,\n",
       " <rdkit.DataStructs.cDataStructs.ExplicitBitVect at 0x7f651a31e260>,\n",
       " <rdkit.DataStructs.cDataStructs.ExplicitBitVect at 0x7f651a31e2b0>,\n",
       " <rdkit.DataStructs.cDataStructs.ExplicitBitVect at 0x7f651a31e300>,\n",
       " <rdkit.DataStructs.cDataStructs.ExplicitBitVect at 0x7f651a31e350>,\n",
       " <rdkit.DataStructs.cDataStructs.ExplicitBitVect at 0x7f651a31e3a0>,\n",
       " <rdkit.DataStructs.cDataStructs.ExplicitBitVect at 0x7f651a31e3f0>,\n",
       " <rdkit.DataStructs.cDataStructs.ExplicitBitVect at 0x7f651a31e440>,\n",
       " <rdkit.DataStructs.cDataStructs.ExplicitBitVect at 0x7f651a31e490>,\n",
       " <rdkit.DataStructs.cDataStructs.ExplicitBitVect at 0x7f651a31e4e0>,\n",
       " <rdkit.DataStructs.cDataStructs.ExplicitBitVect at 0x7f651a31e530>,\n",
       " <rdkit.DataStructs.cDataStructs.ExplicitBitVect at 0x7f651a31e580>,\n",
       " <rdkit.DataStructs.cDataStructs.ExplicitBitVect at 0x7f651a31e5d0>,\n",
       " <rdkit.DataStructs.cDataStructs.ExplicitBitVect at 0x7f651a31e620>,\n",
       " <rdkit.DataStructs.cDataStructs.ExplicitBitVect at 0x7f651a31e670>,\n",
       " <rdkit.DataStructs.cDataStructs.ExplicitBitVect at 0x7f651a31e6c0>,\n",
       " <rdkit.DataStructs.cDataStructs.ExplicitBitVect at 0x7f651a31e710>,\n",
       " <rdkit.DataStructs.cDataStructs.ExplicitBitVect at 0x7f651a31e760>,\n",
       " <rdkit.DataStructs.cDataStructs.ExplicitBitVect at 0x7f651a31e7b0>,\n",
       " <rdkit.DataStructs.cDataStructs.ExplicitBitVect at 0x7f651a31e800>,\n",
       " <rdkit.DataStructs.cDataStructs.ExplicitBitVect at 0x7f651a31e850>,\n",
       " <rdkit.DataStructs.cDataStructs.ExplicitBitVect at 0x7f651a31e8a0>,\n",
       " <rdkit.DataStructs.cDataStructs.ExplicitBitVect at 0x7f651a31e8f0>,\n",
       " <rdkit.DataStructs.cDataStructs.ExplicitBitVect at 0x7f651a31e940>,\n",
       " <rdkit.DataStructs.cDataStructs.ExplicitBitVect at 0x7f651a31e990>,\n",
       " <rdkit.DataStructs.cDataStructs.ExplicitBitVect at 0x7f651a31e9e0>,\n",
       " <rdkit.DataStructs.cDataStructs.ExplicitBitVect at 0x7f651a31ea30>,\n",
       " <rdkit.DataStructs.cDataStructs.ExplicitBitVect at 0x7f651a31ea80>,\n",
       " <rdkit.DataStructs.cDataStructs.ExplicitBitVect at 0x7f651a31ead0>,\n",
       " <rdkit.DataStructs.cDataStructs.ExplicitBitVect at 0x7f651a31eb20>,\n",
       " <rdkit.DataStructs.cDataStructs.ExplicitBitVect at 0x7f651a31eb70>,\n",
       " <rdkit.DataStructs.cDataStructs.ExplicitBitVect at 0x7f651a31ebc0>,\n",
       " <rdkit.DataStructs.cDataStructs.ExplicitBitVect at 0x7f651a31ec10>,\n",
       " <rdkit.DataStructs.cDataStructs.ExplicitBitVect at 0x7f651a31ec60>,\n",
       " <rdkit.DataStructs.cDataStructs.ExplicitBitVect at 0x7f651a31ecb0>,\n",
       " <rdkit.DataStructs.cDataStructs.ExplicitBitVect at 0x7f651a31ed00>,\n",
       " <rdkit.DataStructs.cDataStructs.ExplicitBitVect at 0x7f651a31ed50>,\n",
       " <rdkit.DataStructs.cDataStructs.ExplicitBitVect at 0x7f651a31eda0>,\n",
       " <rdkit.DataStructs.cDataStructs.ExplicitBitVect at 0x7f651a31edf0>,\n",
       " <rdkit.DataStructs.cDataStructs.ExplicitBitVect at 0x7f651a31ee40>,\n",
       " <rdkit.DataStructs.cDataStructs.ExplicitBitVect at 0x7f651a31ee90>,\n",
       " <rdkit.DataStructs.cDataStructs.ExplicitBitVect at 0x7f651a31eee0>,\n",
       " <rdkit.DataStructs.cDataStructs.ExplicitBitVect at 0x7f651a31ef30>,\n",
       " <rdkit.DataStructs.cDataStructs.ExplicitBitVect at 0x7f651a31ef80>,\n",
       " <rdkit.DataStructs.cDataStructs.ExplicitBitVect at 0x7f651a31f030>,\n",
       " <rdkit.DataStructs.cDataStructs.ExplicitBitVect at 0x7f651a31f080>,\n",
       " <rdkit.DataStructs.cDataStructs.ExplicitBitVect at 0x7f651a31f0d0>,\n",
       " <rdkit.DataStructs.cDataStructs.ExplicitBitVect at 0x7f651a31f120>,\n",
       " <rdkit.DataStructs.cDataStructs.ExplicitBitVect at 0x7f651a31f170>,\n",
       " <rdkit.DataStructs.cDataStructs.ExplicitBitVect at 0x7f651a31f1c0>,\n",
       " <rdkit.DataStructs.cDataStructs.ExplicitBitVect at 0x7f651a31f210>,\n",
       " <rdkit.DataStructs.cDataStructs.ExplicitBitVect at 0x7f651a31f260>,\n",
       " <rdkit.DataStructs.cDataStructs.ExplicitBitVect at 0x7f651a31f2b0>,\n",
       " <rdkit.DataStructs.cDataStructs.ExplicitBitVect at 0x7f651a31f300>,\n",
       " <rdkit.DataStructs.cDataStructs.ExplicitBitVect at 0x7f651a31f350>,\n",
       " <rdkit.DataStructs.cDataStructs.ExplicitBitVect at 0x7f651a31f3a0>,\n",
       " <rdkit.DataStructs.cDataStructs.ExplicitBitVect at 0x7f651a31f3f0>,\n",
       " <rdkit.DataStructs.cDataStructs.ExplicitBitVect at 0x7f651a31f440>,\n",
       " <rdkit.DataStructs.cDataStructs.ExplicitBitVect at 0x7f651a31f490>,\n",
       " <rdkit.DataStructs.cDataStructs.ExplicitBitVect at 0x7f651a31f4e0>,\n",
       " <rdkit.DataStructs.cDataStructs.ExplicitBitVect at 0x7f651a31f530>,\n",
       " <rdkit.DataStructs.cDataStructs.ExplicitBitVect at 0x7f651a31f580>,\n",
       " <rdkit.DataStructs.cDataStructs.ExplicitBitVect at 0x7f651a31f5d0>,\n",
       " ...]"
      ]
     },
     "execution_count": 20,
     "metadata": {},
     "output_type": "execute_result"
    }
   ],
   "source": [
    "fps"
   ]
  },
  {
   "cell_type": "code",
   "execution_count": 21,
   "metadata": {},
   "outputs": [],
   "source": [
    "# Generate fingerprints for all molecules\n",
    "fp_list = []\n",
    "for i in range(len(mols)):\n",
    "    fp_list.append(FingerprintMols.FingerprintMol(mols[i]))"
   ]
  },
  {
   "cell_type": "code",
   "execution_count": 22,
   "metadata": {},
   "outputs": [
    {
     "data": {
      "text/plain": [
       "[[1, 30, 29, 14, 13],\n",
       " [4, 31, 10, 9, 5],\n",
       " [4, 31, 5, 6, 8],\n",
       " [11, 12, 13, 29, 14]]"
      ]
     },
     "execution_count": 22,
     "metadata": {},
     "output_type": "execute_result"
    }
   ],
   "source": [
    "rdkbi = {}\n",
    "rdkfp = Chem.RDKFingerprint(mol, maxPath=5, bitInfo=rdkbi)\n",
    "rdkbi[1553]"
   ]
  },
  {
   "cell_type": "markdown",
   "metadata": {},
   "source": [
    "## Perform PCA with 2 components and plot both active and non-active points \n",
    "\n",
    "Initailly check the data with the NaN, infinity values and preprocessed them to obtain the required input values,\n",
    "Took the generated vector array and used it for PCA, Here the standard scalar funtion is used to scale down the values by using standard deviation=1 and mean=0, Additionally transform object is done and fit the data.\n",
    "The formed array has the values converted based on mean and standard deviation.Finally the PCA is formed with 2 components and plotted both active and inactive points of the compounds and check to the covariance score."
   ]
  },
  {
   "cell_type": "code",
   "execution_count": 23,
   "metadata": {},
   "outputs": [],
   "source": [
    "col_mask = mw_df.isnull().any(axis=0)"
   ]
  },
  {
   "cell_type": "code",
   "execution_count": 24,
   "metadata": {},
   "outputs": [],
   "source": [
    "row_mask = mw_df.isnull().any(axis=1)"
   ]
  },
  {
   "cell_type": "code",
   "execution_count": 25,
   "metadata": {},
   "outputs": [
    {
     "data": {
      "text/html": [
       "<div>\n",
       "<style scoped>\n",
       "    .dataframe tbody tr th:only-of-type {\n",
       "        vertical-align: middle;\n",
       "    }\n",
       "\n",
       "    .dataframe tbody tr th {\n",
       "        vertical-align: top;\n",
       "    }\n",
       "\n",
       "    .dataframe thead th {\n",
       "        text-align: right;\n",
       "    }\n",
       "</style>\n",
       "<table border=\"1\" class=\"dataframe\">\n",
       "  <thead>\n",
       "    <tr style=\"text-align: right;\">\n",
       "      <th></th>\n",
       "      <th>MaxAbs_ParCharge</th>\n",
       "      <th>Max_ParCharge</th>\n",
       "      <th>MinAbs_ParCharge</th>\n",
       "      <th>Min_ParCharge</th>\n",
       "    </tr>\n",
       "  </thead>\n",
       "  <tbody>\n",
       "    <tr>\n",
       "      <th>40</th>\n",
       "      <td>NaN</td>\n",
       "      <td>NaN</td>\n",
       "      <td>NaN</td>\n",
       "      <td>NaN</td>\n",
       "    </tr>\n",
       "    <tr>\n",
       "      <th>785</th>\n",
       "      <td>NaN</td>\n",
       "      <td>NaN</td>\n",
       "      <td>NaN</td>\n",
       "      <td>NaN</td>\n",
       "    </tr>\n",
       "    <tr>\n",
       "      <th>349</th>\n",
       "      <td>NaN</td>\n",
       "      <td>NaN</td>\n",
       "      <td>NaN</td>\n",
       "      <td>NaN</td>\n",
       "    </tr>\n",
       "    <tr>\n",
       "      <th>2603</th>\n",
       "      <td>NaN</td>\n",
       "      <td>NaN</td>\n",
       "      <td>NaN</td>\n",
       "      <td>NaN</td>\n",
       "    </tr>\n",
       "    <tr>\n",
       "      <th>2836</th>\n",
       "      <td>NaN</td>\n",
       "      <td>NaN</td>\n",
       "      <td>NaN</td>\n",
       "      <td>NaN</td>\n",
       "    </tr>\n",
       "    <tr>\n",
       "      <th>1237</th>\n",
       "      <td>NaN</td>\n",
       "      <td>NaN</td>\n",
       "      <td>NaN</td>\n",
       "      <td>NaN</td>\n",
       "    </tr>\n",
       "  </tbody>\n",
       "</table>\n",
       "</div>"
      ],
      "text/plain": [
       "      MaxAbs_ParCharge  Max_ParCharge  MinAbs_ParCharge  Min_ParCharge\n",
       "40                 NaN            NaN               NaN            NaN\n",
       "785                NaN            NaN               NaN            NaN\n",
       "349                NaN            NaN               NaN            NaN\n",
       "2603               NaN            NaN               NaN            NaN\n",
       "2836               NaN            NaN               NaN            NaN\n",
       "1237               NaN            NaN               NaN            NaN"
      ]
     },
     "execution_count": 25,
     "metadata": {},
     "output_type": "execute_result"
    }
   ],
   "source": [
    "mw_df.loc[row_mask, col_mask]"
   ]
  },
  {
   "cell_type": "code",
   "execution_count": 26,
   "metadata": {},
   "outputs": [],
   "source": [
    "mw_df[mw_df == np.inf] = np.nan\n",
    "mw_df.fillna(mw_df.mean(), inplace=True)"
   ]
  },
  {
   "cell_type": "code",
   "execution_count": 27,
   "metadata": {},
   "outputs": [
    {
     "data": {
      "text/plain": [
       "array([[ 1.42272000e+03,  1.42174894e+03,  1.31889600e+03, ...,\n",
       "        -5.50170228e-01,  0.00000000e+00,  0.00000000e+00],\n",
       "       [ 1.40732700e+03,  1.40077536e+03,  1.36801500e+03, ...,\n",
       "        -8.71276226e-01,  0.00000000e+00,  0.00000000e+00],\n",
       "       [ 1.16049500e+03,  1.15978631e+03,  1.05667100e+03, ...,\n",
       "        -3.90716900e-01,  0.00000000e+00,  0.00000000e+00],\n",
       "       ...,\n",
       "       [ 1.26111000e+02,  1.26031694e+02,  1.20063000e+02, ...,\n",
       "        -5.04161340e-01,  0.00000000e+00,  0.00000000e+00],\n",
       "       [ 1.10112000e+02,  1.10036779e+02,  1.04064000e+02, ...,\n",
       "        -5.04260125e-01,  0.00000000e+00,  0.00000000e+00],\n",
       "       [ 3.54530000e+01,  3.49694013e+01,  3.54530000e+01, ...,\n",
       "        -1.00000000e+00,  0.00000000e+00,  0.00000000e+00]])"
      ]
     },
     "execution_count": 27,
     "metadata": {},
     "output_type": "execute_result"
    }
   ],
   "source": [
    "Array = np.array(mw_df)\n",
    "Array"
   ]
  },
  {
   "cell_type": "markdown",
   "metadata": {},
   "source": [
    "### Standardization\n",
    "\n",
    "When performing PCA, it is typically a good idea to standardize the data first. Because PCA seeks to identify the principal components with the highest variance, if the data is not properly standardized, attributes with large values and large variances (in absolute terms) will end up dominating the first principal component when they should not. Standardizing the data gets each attribute onto more or less the same scale so that each attribute has an opportunity to contribute to the principal component analysis."
   ]
  },
  {
   "cell_type": "code",
   "execution_count": 28,
   "metadata": {},
   "outputs": [],
   "source": [
    "pca = PCA(n_components=2)\n",
    "pca.fit(Array)\n",
    "x_pca = pca.transform(Array)"
   ]
  },
  {
   "cell_type": "code",
   "execution_count": 29,
   "metadata": {},
   "outputs": [
    {
     "data": {
      "text/plain": [
       "array([9.99461843e-01, 5.30792097e-04])"
      ]
     },
     "execution_count": 29,
     "metadata": {},
     "output_type": "execute_result"
    }
   ],
   "source": [
    "pca.explained_variance_ratio_"
   ]
  },
  {
   "cell_type": "code",
   "execution_count": 30,
   "metadata": {},
   "outputs": [
    {
     "data": {
      "text/plain": [
       "<matplotlib.legend.Legend at 0x7f65189bd208>"
      ]
     },
     "execution_count": 30,
     "metadata": {},
     "output_type": "execute_result"
    },
    {
     "data": {
      "image/png": "[encoded data removed]",
      "text/plain": [
       "<Figure size 432x288 with 1 Axes>"
      ]
     },
     "metadata": {
      "needs_background": "light"
     },
     "output_type": "display_data"
    }
   ],
   "source": [
    "plt.figure(figsize=(6, 4))\n",
    "plt.xlabel('First principle component')\n",
    "plt.ylabel('Second principle component')\n",
    "plt.title(\"PCA for chemical descriptors\")\n",
    "\n",
    "classes = ['Non active', 'Active']\n",
    "\n",
    "scatter = plt.scatter(x_pca[:, 0], x_pca[:, 1], c=df_new['state'])\n",
    "plt.legend(handles=scatter.legend_elements()[0], labels=classes)"
   ]
  },
  {
   "cell_type": "code",
   "execution_count": 31,
   "metadata": {},
   "outputs": [
    {
     "data": {
      "text/plain": [
       "StandardScaler()"
      ]
     },
     "execution_count": 31,
     "metadata": {},
     "output_type": "execute_result"
    }
   ],
   "source": [
    "scaler = StandardScaler()\n",
    "scaler.fit(mw_df)"
   ]
  },
  {
   "cell_type": "code",
   "execution_count": 32,
   "metadata": {},
   "outputs": [],
   "source": [
    "scaled_data = scaler.transform(mw_df)"
   ]
  },
  {
   "cell_type": "code",
   "execution_count": 33,
   "metadata": {},
   "outputs": [
    {
     "data": {
      "text/plain": [
       "array([[ 8.90027996,  8.91242085,  8.63647156, ..., -0.82700634,\n",
       "         0.        ,  0.        ],\n",
       "       [ 8.76157272,  8.72311463,  9.1050739 , ..., -3.69119364,\n",
       "         0.        ,  0.        ],\n",
       "       [ 6.53735487,  6.54796264,  6.13480726, ...,  0.59527851,\n",
       "         0.        ,  0.        ],\n",
       "       ...,\n",
       "       [-2.78354098, -2.78264139, -2.80056806, ..., -0.41661826,\n",
       "         0.        ,  0.        ],\n",
       "       [-2.92770893, -2.92701048, -2.95320083, ..., -0.4174994 ,\n",
       "         0.        ,  0.        ],\n",
       "       [-3.60046562, -3.60456391, -3.60775966, ..., -4.83937835,\n",
       "         0.        ,  0.        ]])"
      ]
     },
     "execution_count": 33,
     "metadata": {},
     "output_type": "execute_result"
    }
   ],
   "source": [
    "scaled_data"
   ]
  },
  {
   "cell_type": "code",
   "execution_count": 34,
   "metadata": {},
   "outputs": [],
   "source": [
    "pca = PCA(n_components=12)"
   ]
  },
  {
   "cell_type": "code",
   "execution_count": 35,
   "metadata": {},
   "outputs": [
    {
     "data": {
      "text/plain": [
       "PCA(n_components=12)"
      ]
     },
     "execution_count": 35,
     "metadata": {},
     "output_type": "execute_result"
    }
   ],
   "source": [
    "pca.fit(scaled_data)"
   ]
  },
  {
   "cell_type": "code",
   "execution_count": 36,
   "metadata": {},
   "outputs": [],
   "source": [
    "x_pca = pca.transform(scaled_data)"
   ]
  },
  {
   "cell_type": "code",
   "execution_count": 37,
   "metadata": {},
   "outputs": [
    {
     "data": {
      "text/plain": [
       "(3906, 12)"
      ]
     },
     "execution_count": 37,
     "metadata": {},
     "output_type": "execute_result"
    }
   ],
   "source": [
    "scaled_data.shape"
   ]
  },
  {
   "cell_type": "code",
   "execution_count": 38,
   "metadata": {},
   "outputs": [
    {
     "data": {
      "text/plain": [
       "array([3.74822614e-01, 2.61766023e-01, 1.99932438e-01, 1.33756237e-01,\n",
       "       2.03656637e-02, 8.29037968e-03, 4.90724127e-04, 4.15369915e-04,\n",
       "       1.60096108e-04, 4.55476658e-07, 0.00000000e+00, 0.00000000e+00])"
      ]
     },
     "execution_count": 38,
     "metadata": {},
     "output_type": "execute_result"
    }
   ],
   "source": [
    "pca.explained_variance_ratio_"
   ]
  },
  {
   "cell_type": "code",
   "execution_count": 39,
   "metadata": {},
   "outputs": [],
   "source": [
    "pca = PCA(n_components=2)"
   ]
  },
  {
   "cell_type": "code",
   "execution_count": 40,
   "metadata": {},
   "outputs": [
    {
     "data": {
      "text/plain": [
       "PCA(n_components=2)"
      ]
     },
     "execution_count": 40,
     "metadata": {},
     "output_type": "execute_result"
    }
   ],
   "source": [
    "pca.fit(scaled_data)"
   ]
  },
  {
   "cell_type": "code",
   "execution_count": 41,
   "metadata": {},
   "outputs": [
    {
     "data": {
      "text/plain": [
       "<matplotlib.legend.Legend at 0x7f6518996550>"
      ]
     },
     "execution_count": 41,
     "metadata": {},
     "output_type": "execute_result"
    },
    {
     "data": {
      "image/png": "[encoded data removed]",
      "text/plain": [
       "<Figure size 576x432 with 1 Axes>"
      ]
     },
     "metadata": {
      "needs_background": "light"
     },
     "output_type": "display_data"
    }
   ],
   "source": [
    "plt.figure(figsize=(8, 6))\n",
    "plt.xlabel('First principle component')\n",
    "plt.ylabel('Second principle component')\n",
    "plt.title(\"PCA for chemical descriptors\")\n",
    "\n",
    "classes = ['Non active', 'Active']\n",
    "\n",
    "plt.scatter(x_pca[:, 0], x_pca[:, 1], c=df_new['state'])\n",
    "plt.legend(handles=scatter.legend_elements()[0], labels=classes)"
   ]
  },
  {
   "cell_type": "code",
   "execution_count": 42,
   "metadata": {},
   "outputs": [
    {
     "data": {
      "text/plain": [
       "array([[ 0.4667227 ,  0.46694339,  0.46662613, -0.23737428, -0.23885343,\n",
       "        -0.22166298,  0.08602903,  0.29044683,  0.29289027, -0.07947827,\n",
       "         0.        ,  0.        ],\n",
       "       [-0.14732336, -0.14709716, -0.14931804, -0.49629059, -0.53762168,\n",
       "        -0.5090857 ,  0.01188086, -0.26785521, -0.26034426, -0.01363827,\n",
       "         0.        ,  0.        ]])"
      ]
     },
     "execution_count": 42,
     "metadata": {},
     "output_type": "execute_result"
    }
   ],
   "source": [
    "pca.components_"
   ]
  },
  {
   "cell_type": "markdown",
   "metadata": {},
   "source": [
    "## PCA with 3 components\n",
    "\n",
    "Here the same procedure but with 3 components are considered."
   ]
  },
  {
   "cell_type": "code",
   "execution_count": 43,
   "metadata": {},
   "outputs": [],
   "source": [
    "pca = PCA(n_components=3)"
   ]
  },
  {
   "cell_type": "code",
   "execution_count": 44,
   "metadata": {},
   "outputs": [
    {
     "data": {
      "text/plain": [
       "PCA(n_components=3)"
      ]
     },
     "execution_count": 44,
     "metadata": {},
     "output_type": "execute_result"
    }
   ],
   "source": [
    "pca.fit(scaled_data)"
   ]
  },
  {
   "cell_type": "code",
   "execution_count": 45,
   "metadata": {},
   "outputs": [],
   "source": [
    "x1_pca = pca.transform(scaled_data)"
   ]
  },
  {
   "cell_type": "code",
   "execution_count": 46,
   "metadata": {},
   "outputs": [
    {
     "data": {
      "text/plain": [
       "(3906, 12)"
      ]
     },
     "execution_count": 46,
     "metadata": {},
     "output_type": "execute_result"
    }
   ],
   "source": [
    "scaled_data.shape"
   ]
  },
  {
   "cell_type": "code",
   "execution_count": 47,
   "metadata": {},
   "outputs": [
    {
     "data": {
      "text/plain": [
       "(3906, 3)"
      ]
     },
     "execution_count": 47,
     "metadata": {},
     "output_type": "execute_result"
    }
   ],
   "source": [
    "x1_pca.shape"
   ]
  },
  {
   "cell_type": "code",
   "execution_count": 48,
   "metadata": {},
   "outputs": [
    {
     "data": {
      "text/plain": [
       "array([[ 8.90027996,  8.91242085,  8.63647156, ..., -0.82700634,\n",
       "         0.        ,  0.        ],\n",
       "       [ 8.76157272,  8.72311463,  9.1050739 , ..., -3.69119364,\n",
       "         0.        ,  0.        ],\n",
       "       [ 6.53735487,  6.54796264,  6.13480726, ...,  0.59527851,\n",
       "         0.        ,  0.        ],\n",
       "       ...,\n",
       "       [-2.78354098, -2.78264139, -2.80056806, ..., -0.41661826,\n",
       "         0.        ,  0.        ],\n",
       "       [-2.92770893, -2.92701048, -2.95320083, ..., -0.4174994 ,\n",
       "         0.        ,  0.        ],\n",
       "       [-3.60046562, -3.60456391, -3.60775966, ..., -4.83937835,\n",
       "         0.        ,  0.        ]])"
      ]
     },
     "execution_count": 48,
     "metadata": {},
     "output_type": "execute_result"
    }
   ],
   "source": [
    "scaled_data"
   ]
  },
  {
   "cell_type": "code",
   "execution_count": 49,
   "metadata": {},
   "outputs": [
    {
     "data": {
      "text/plain": [
       "array([[14.34973563,  0.11998577, -1.04089879],\n",
       "       [15.4383972 ,  3.72174715,  2.80005277],\n",
       "       [11.62770849,  3.1455206 , -2.53153814],\n",
       "       ...,\n",
       "       [-2.54527375,  5.05606084,  1.14536534],\n",
       "       [-2.82164483,  5.9269538 ,  1.17564576],\n",
       "       [-3.45544979,  8.32564079,  7.99031155]])"
      ]
     },
     "execution_count": 49,
     "metadata": {},
     "output_type": "execute_result"
    }
   ],
   "source": [
    "x1_pca"
   ]
  },
  {
   "cell_type": "code",
   "execution_count": 50,
   "metadata": {},
   "outputs": [
    {
     "data": {
      "text/plain": [
       "array([0.37482261, 0.26176602, 0.19993244])"
      ]
     },
     "execution_count": 50,
     "metadata": {},
     "output_type": "execute_result"
    }
   ],
   "source": [
    "pca.explained_variance_ratio_"
   ]
  },
  {
   "cell_type": "code",
   "execution_count": 51,
   "metadata": {},
   "outputs": [
    {
     "data": {
      "text/plain": [
       "array([120.99822853, 101.11666945,  88.37058913])"
      ]
     },
     "execution_count": 51,
     "metadata": {},
     "output_type": "execute_result"
    }
   ],
   "source": [
    "pca.singular_values_"
   ]
  },
  {
   "cell_type": "code",
   "execution_count": 52,
   "metadata": {},
   "outputs": [
    {
     "data": {
      "image/png": "[encoded data removed]",
      "text/plain": [
       "<Figure size 432x288 with 1 Axes>"
      ]
     },
     "metadata": {
      "needs_background": "light"
     },
     "output_type": "display_data"
    }
   ],
   "source": [
    "my_color = df_new['state']\n",
    "\n",
    "\n",
    "# Run The PCA\n",
    "pca = PCA(n_components=3)\n",
    "pca.fit(scaled_data)\n",
    "\n",
    "# Store results of PCA in a data frame\n",
    "result = pd.DataFrame(pca.transform(scaled_data),\n",
    "                      columns=['PCA%i' % i for i in range(3)],\n",
    "                      index=df.index)\n",
    "\n",
    "\n",
    "# Plot initialisation\n",
    "fig = plt.figure()\n",
    "ax = fig.add_subplot(111, projection='3d')\n",
    "ax.scatter(result['PCA0'], result['PCA1'],\n",
    "           result['PCA2'], c=my_color, cmap=\"Accent\", s=10)\n",
    "\n",
    "\n",
    "# make simple, bare axis lines through space:\n",
    "xAxisLine = ((min(result['PCA0']), max(result['PCA0'])), (0, 0), (0, 0))\n",
    "ax.plot(xAxisLine[0], xAxisLine[1], xAxisLine[2], 'r')\n",
    "yAxisLine = ((0, 0), (min(result['PCA1']), max(result['PCA1'])), (0, 0))\n",
    "ax.plot(yAxisLine[0], yAxisLine[1], yAxisLine[2], 'r')\n",
    "zAxisLine = ((0, 0), (0, 0), (min(result['PCA2']), max(result['PCA2'])))\n",
    "ax.plot(zAxisLine[0], zAxisLine[1], zAxisLine[2], 'r')\n",
    "\n",
    "# label the axes\n",
    "ax.set_xlabel(\"PC1\")\n",
    "ax.set_ylabel(\"PC2\")\n",
    "ax.set_zlabel(\"PC3\")\n",
    "ax.set_title(\"PCA for chemical descriptors\")\n",
    "plt.show()"
   ]
  },
  {
   "cell_type": "markdown",
   "metadata": {},
   "source": [
    "## PCA with varying the parameters in the fingerprints "
   ]
  },
  {
   "cell_type": "code",
   "execution_count": 53,
   "metadata": {},
   "outputs": [],
   "source": [
    "mols = [Chem.MolFromSmiles(x) for x in c_smiles]"
   ]
  },
  {
   "cell_type": "code",
   "execution_count": 54,
   "metadata": {},
   "outputs": [],
   "source": [
    "# Varying the parameters by considering 29 phys chem descriptors\n",
    "CalcKappa1 = [rdMolDescriptors.CalcKappa1(mol) for mol in mols]\n",
    "CalcFractionCSP3 = [rdMolDescriptors.CalcFractionCSP3(mol) for mol in mols]\n",
    "CalcKappa2 = [rdMolDescriptors.CalcKappa2(mol) for mol in mols]\n",
    "CalcKappa3 = [rdMolDescriptors.CalcKappa3(mol) for mol in mols]\n",
    "CalcNumAliphaticCarbocycles = [rdMolDescriptors.CalcNumAliphaticCarbocycles(mol)\n",
    "                               for mol in mols]\n",
    "CalcNumAliphaticHeterocycles = [rdMolDescriptors.CalcNumAliphaticHeterocycles(mol)\n",
    "                                for mol in mols]\n",
    "CalcNumAliphaticRings = [rdMolDescriptors.CalcNumAliphaticRings(mol) for mol in mols]\n",
    "CalcNumAmideBonds = [rdMolDescriptors.CalcNumAmideBonds(mol) for mol in mols]\n",
    "CalcNumAromaticHeterocycles = [rdMolDescriptors.CalcNumAromaticHeterocycles(mol)\n",
    "                               for mol in mols]\n",
    "CalcNumAromaticCarbocycles = [rdMolDescriptors.CalcNumAromaticCarbocycles(mol)\n",
    "                              for mol in mols]\n",
    "CalcNumAromaticRings = [rdMolDescriptors.CalcNumAromaticRings(mol) for mol in mols]\n",
    "CalcNumAtomStereoCenters = [rdMolDescriptors.CalcNumAtomStereoCenters(mol)\n",
    "                            for mol in mols]\n",
    "CalcNumBridgeheadAtoms = [rdMolDescriptors.CalcNumBridgeheadAtoms(mol) for mol in mols]\n",
    "CalcNumHBA = [rdMolDescriptors.CalcNumHBA(mol) for mol in mols]\n",
    "CalcNumHBD = [rdMolDescriptors.CalcNumHBD(mol) for mol in mols]\n",
    "CalcNumHeteroatoms = [rdMolDescriptors.CalcNumHeteroatoms(mol) for mol in mols]\n",
    "CalcNumHeterocycles = [rdMolDescriptors.CalcNumHeterocycles(mol) for mol in mols]\n",
    "CalcNumLipinskiHBA = [rdMolDescriptors.CalcNumLipinskiHBA(mol) for mol in mols]\n",
    "CalcNumLipinskiHBD = [rdMolDescriptors.CalcNumLipinskiHBD(mol) for mol in mols]\n",
    "CalcNumRotatableBonds = [rdMolDescriptors.CalcNumRotatableBonds(mol) for mol in mols]\n",
    "CalcNumSaturatedCarbocycles = [rdMolDescriptors.CalcNumSaturatedCarbocycles(mol)\n",
    "                               for mol in mols]\n",
    "CalcNumRings = [rdMolDescriptors.CalcNumRings(mol) for mol in mols]\n",
    "CalcNumSaturatedHeterocycles = [rdMolDescriptors.CalcNumSaturatedHeterocycles(mol)\n",
    "                                for mol in mols]\n",
    "CalcNumSaturatedRings = [rdMolDescriptors.CalcNumSaturatedRings(mol) for mol in mols]\n",
    "CalcNumSpiroAtoms = [rdMolDescriptors.CalcNumSpiroAtoms(mol) for mol in mols]\n",
    "CalcNumUnspecifiedAtomStereoCenters = [rdMolDescriptors.\n",
    "                                       CalcNumUnspecifiedAtomStereoCenters\n",
    "                                       (mol) for mol in mols]\n",
    "MolLogP = [Descriptors.MolLogP(mol) for mol in mols]\n",
    "Ipc = [Descriptors.Ipc(mol) for mol in mols]\n",
    "MolMR = [Descriptors.MolMR(mol) for mol in mols]"
   ]
  },
  {
   "cell_type": "code",
   "execution_count": 55,
   "metadata": {},
   "outputs": [
    {
     "data": {
      "text/html": [
       "<div>\n",
       "<style scoped>\n",
       "    .dataframe tbody tr th:only-of-type {\n",
       "        vertical-align: middle;\n",
       "    }\n",
       "\n",
       "    .dataframe tbody tr th {\n",
       "        vertical-align: top;\n",
       "    }\n",
       "\n",
       "    .dataframe thead th {\n",
       "        text-align: right;\n",
       "    }\n",
       "</style>\n",
       "<table border=\"1\" class=\"dataframe\">\n",
       "  <thead>\n",
       "    <tr style=\"text-align: right;\">\n",
       "      <th></th>\n",
       "      <th>MolLogP</th>\n",
       "      <th>Mol_MR</th>\n",
       "      <th>Frac_CSP3</th>\n",
       "      <th>Kappa1</th>\n",
       "      <th>Kappa2</th>\n",
       "      <th>Kappa3</th>\n",
       "      <th>Num_AliHeterocyc</th>\n",
       "      <th>Num_AliCarbocyc</th>\n",
       "      <th>Num_AliRings</th>\n",
       "      <th>Num_Amidebonds</th>\n",
       "      <th>...</th>\n",
       "      <th>Num_Heterocyc</th>\n",
       "      <th>Num_Lipinski_HBA</th>\n",
       "      <th>Num_Lipinski_HBD</th>\n",
       "      <th>Num_Rings</th>\n",
       "      <th>Num_Rot_bonds</th>\n",
       "      <th>Num_Sat_Carbocyc</th>\n",
       "      <th>Num_Sat_Heterocyc</th>\n",
       "      <th>Num_Sat_Rings</th>\n",
       "      <th>Num_Spiroatoms</th>\n",
       "      <th>Num_UnspeAtomSC</th>\n",
       "    </tr>\n",
       "  </thead>\n",
       "  <tbody>\n",
       "    <tr>\n",
       "      <th>2705</th>\n",
       "      <td>-5.78060</td>\n",
       "      <td>361.4480</td>\n",
       "      <td>0.636364</td>\n",
       "      <td>83.370320</td>\n",
       "      <td>42.144461</td>\n",
       "      <td>27.578991</td>\n",
       "      <td>2</td>\n",
       "      <td>0</td>\n",
       "      <td>2</td>\n",
       "      <td>12</td>\n",
       "      <td>...</td>\n",
       "      <td>3</td>\n",
       "      <td>33</td>\n",
       "      <td>20</td>\n",
       "      <td>4</td>\n",
       "      <td>31</td>\n",
       "      <td>0</td>\n",
       "      <td>1</td>\n",
       "      <td>1</td>\n",
       "      <td>0</td>\n",
       "      <td>0</td>\n",
       "    </tr>\n",
       "    <tr>\n",
       "      <th>1659</th>\n",
       "      <td>13.02890</td>\n",
       "      <td>300.9991</td>\n",
       "      <td>0.312500</td>\n",
       "      <td>53.330450</td>\n",
       "      <td>21.620779</td>\n",
       "      <td>11.976381</td>\n",
       "      <td>0</td>\n",
       "      <td>2</td>\n",
       "      <td>2</td>\n",
       "      <td>2</td>\n",
       "      <td>...</td>\n",
       "      <td>1</td>\n",
       "      <td>13</td>\n",
       "      <td>3</td>\n",
       "      <td>9</td>\n",
       "      <td>16</td>\n",
       "      <td>0</td>\n",
       "      <td>0</td>\n",
       "      <td>0</td>\n",
       "      <td>0</td>\n",
       "      <td>0</td>\n",
       "    </tr>\n",
       "    <tr>\n",
       "      <th>3172</th>\n",
       "      <td>-9.41550</td>\n",
       "      <td>294.3718</td>\n",
       "      <td>0.788462</td>\n",
       "      <td>72.903353</td>\n",
       "      <td>38.567841</td>\n",
       "      <td>27.016680</td>\n",
       "      <td>1</td>\n",
       "      <td>0</td>\n",
       "      <td>1</td>\n",
       "      <td>11</td>\n",
       "      <td>...</td>\n",
       "      <td>1</td>\n",
       "      <td>29</td>\n",
       "      <td>28</td>\n",
       "      <td>1</td>\n",
       "      <td>28</td>\n",
       "      <td>0</td>\n",
       "      <td>1</td>\n",
       "      <td>1</td>\n",
       "      <td>0</td>\n",
       "      <td>1</td>\n",
       "    </tr>\n",
       "    <tr>\n",
       "      <th>1466</th>\n",
       "      <td>8.99670</td>\n",
       "      <td>292.5015</td>\n",
       "      <td>0.176471</td>\n",
       "      <td>58.087429</td>\n",
       "      <td>27.041776</td>\n",
       "      <td>15.695472</td>\n",
       "      <td>0</td>\n",
       "      <td>0</td>\n",
       "      <td>0</td>\n",
       "      <td>0</td>\n",
       "      <td>...</td>\n",
       "      <td>0</td>\n",
       "      <td>18</td>\n",
       "      <td>6</td>\n",
       "      <td>6</td>\n",
       "      <td>24</td>\n",
       "      <td>0</td>\n",
       "      <td>0</td>\n",
       "      <td>0</td>\n",
       "      <td>0</td>\n",
       "      <td>0</td>\n",
       "    </tr>\n",
       "    <tr>\n",
       "      <th>2698</th>\n",
       "      <td>9.12970</td>\n",
       "      <td>227.9357</td>\n",
       "      <td>0.208333</td>\n",
       "      <td>39.897457</td>\n",
       "      <td>18.297799</td>\n",
       "      <td>9.458975</td>\n",
       "      <td>0</td>\n",
       "      <td>0</td>\n",
       "      <td>0</td>\n",
       "      <td>0</td>\n",
       "      <td>...</td>\n",
       "      <td>1</td>\n",
       "      <td>11</td>\n",
       "      <td>1</td>\n",
       "      <td>7</td>\n",
       "      <td>16</td>\n",
       "      <td>0</td>\n",
       "      <td>0</td>\n",
       "      <td>0</td>\n",
       "      <td>0</td>\n",
       "      <td>2</td>\n",
       "    </tr>\n",
       "    <tr>\n",
       "      <th>...</th>\n",
       "      <td>...</td>\n",
       "      <td>...</td>\n",
       "      <td>...</td>\n",
       "      <td>...</td>\n",
       "      <td>...</td>\n",
       "      <td>...</td>\n",
       "      <td>...</td>\n",
       "      <td>...</td>\n",
       "      <td>...</td>\n",
       "      <td>...</td>\n",
       "      <td>...</td>\n",
       "      <td>...</td>\n",
       "      <td>...</td>\n",
       "      <td>...</td>\n",
       "      <td>...</td>\n",
       "      <td>...</td>\n",
       "      <td>...</td>\n",
       "      <td>...</td>\n",
       "      <td>...</td>\n",
       "      <td>...</td>\n",
       "      <td>...</td>\n",
       "    </tr>\n",
       "    <tr>\n",
       "      <th>1758</th>\n",
       "      <td>1.62980</td>\n",
       "      <td>39.5380</td>\n",
       "      <td>0.000000</td>\n",
       "      <td>5.353053</td>\n",
       "      <td>2.062292</td>\n",
       "      <td>0.739491</td>\n",
       "      <td>0</td>\n",
       "      <td>0</td>\n",
       "      <td>0</td>\n",
       "      <td>0</td>\n",
       "      <td>...</td>\n",
       "      <td>1</td>\n",
       "      <td>2</td>\n",
       "      <td>0</td>\n",
       "      <td>2</td>\n",
       "      <td>0</td>\n",
       "      <td>0</td>\n",
       "      <td>0</td>\n",
       "      <td>0</td>\n",
       "      <td>0</td>\n",
       "      <td>0</td>\n",
       "    </tr>\n",
       "    <tr>\n",
       "      <th>3826</th>\n",
       "      <td>0.84026</td>\n",
       "      <td>37.7907</td>\n",
       "      <td>0.000000</td>\n",
       "      <td>7.041982</td>\n",
       "      <td>3.187861</td>\n",
       "      <td>1.667960</td>\n",
       "      <td>0</td>\n",
       "      <td>0</td>\n",
       "      <td>0</td>\n",
       "      <td>0</td>\n",
       "      <td>...</td>\n",
       "      <td>1</td>\n",
       "      <td>4</td>\n",
       "      <td>1</td>\n",
       "      <td>1</td>\n",
       "      <td>1</td>\n",
       "      <td>0</td>\n",
       "      <td>0</td>\n",
       "      <td>0</td>\n",
       "      <td>0</td>\n",
       "      <td>0</td>\n",
       "    </tr>\n",
       "    <tr>\n",
       "      <th>1468</th>\n",
       "      <td>0.80340</td>\n",
       "      <td>31.4364</td>\n",
       "      <td>0.000000</td>\n",
       "      <td>5.751234</td>\n",
       "      <td>1.853880</td>\n",
       "      <td>0.887203</td>\n",
       "      <td>0</td>\n",
       "      <td>0</td>\n",
       "      <td>0</td>\n",
       "      <td>0</td>\n",
       "      <td>...</td>\n",
       "      <td>0</td>\n",
       "      <td>3</td>\n",
       "      <td>3</td>\n",
       "      <td>1</td>\n",
       "      <td>0</td>\n",
       "      <td>0</td>\n",
       "      <td>0</td>\n",
       "      <td>0</td>\n",
       "      <td>0</td>\n",
       "      <td>0</td>\n",
       "    </tr>\n",
       "    <tr>\n",
       "      <th>3429</th>\n",
       "      <td>1.09780</td>\n",
       "      <td>29.7716</td>\n",
       "      <td>0.000000</td>\n",
       "      <td>4.966628</td>\n",
       "      <td>1.738121</td>\n",
       "      <td>0.729375</td>\n",
       "      <td>0</td>\n",
       "      <td>0</td>\n",
       "      <td>0</td>\n",
       "      <td>0</td>\n",
       "      <td>...</td>\n",
       "      <td>0</td>\n",
       "      <td>2</td>\n",
       "      <td>2</td>\n",
       "      <td>1</td>\n",
       "      <td>0</td>\n",
       "      <td>0</td>\n",
       "      <td>0</td>\n",
       "      <td>0</td>\n",
       "      <td>0</td>\n",
       "      <td>0</td>\n",
       "    </tr>\n",
       "    <tr>\n",
       "      <th>1176</th>\n",
       "      <td>-2.99600</td>\n",
       "      <td>0.0000</td>\n",
       "      <td>0.000000</td>\n",
       "      <td>1.290000</td>\n",
       "      <td>1.738276</td>\n",
       "      <td>10.083103</td>\n",
       "      <td>0</td>\n",
       "      <td>0</td>\n",
       "      <td>0</td>\n",
       "      <td>0</td>\n",
       "      <td>...</td>\n",
       "      <td>0</td>\n",
       "      <td>0</td>\n",
       "      <td>0</td>\n",
       "      <td>0</td>\n",
       "      <td>0</td>\n",
       "      <td>0</td>\n",
       "      <td>0</td>\n",
       "      <td>0</td>\n",
       "      <td>0</td>\n",
       "      <td>0</td>\n",
       "    </tr>\n",
       "  </tbody>\n",
       "</table>\n",
       "<p>3906 rows × 29 columns</p>\n",
       "</div>"
      ],
      "text/plain": [
       "       MolLogP    Mol_MR  Frac_CSP3     Kappa1     Kappa2     Kappa3  \\\n",
       "2705  -5.78060  361.4480   0.636364  83.370320  42.144461  27.578991   \n",
       "1659  13.02890  300.9991   0.312500  53.330450  21.620779  11.976381   \n",
       "3172  -9.41550  294.3718   0.788462  72.903353  38.567841  27.016680   \n",
       "1466   8.99670  292.5015   0.176471  58.087429  27.041776  15.695472   \n",
       "2698   9.12970  227.9357   0.208333  39.897457  18.297799   9.458975   \n",
       "...        ...       ...        ...        ...        ...        ...   \n",
       "1758   1.62980   39.5380   0.000000   5.353053   2.062292   0.739491   \n",
       "3826   0.84026   37.7907   0.000000   7.041982   3.187861   1.667960   \n",
       "1468   0.80340   31.4364   0.000000   5.751234   1.853880   0.887203   \n",
       "3429   1.09780   29.7716   0.000000   4.966628   1.738121   0.729375   \n",
       "1176  -2.99600    0.0000   0.000000   1.290000   1.738276  10.083103   \n",
       "\n",
       "      Num_AliHeterocyc  Num_AliCarbocyc  Num_AliRings  Num_Amidebonds  ...  \\\n",
       "2705                 2                0             2              12  ...   \n",
       "1659                 0                2             2               2  ...   \n",
       "3172                 1                0             1              11  ...   \n",
       "1466                 0                0             0               0  ...   \n",
       "2698                 0                0             0               0  ...   \n",
       "...                ...              ...           ...             ...  ...   \n",
       "1758                 0                0             0               0  ...   \n",
       "3826                 0                0             0               0  ...   \n",
       "1468                 0                0             0               0  ...   \n",
       "3429                 0                0             0               0  ...   \n",
       "1176                 0                0             0               0  ...   \n",
       "\n",
       "      Num_Heterocyc  Num_Lipinski_HBA  Num_Lipinski_HBD  Num_Rings  \\\n",
       "2705              3                33                20          4   \n",
       "1659              1                13                 3          9   \n",
       "3172              1                29                28          1   \n",
       "1466              0                18                 6          6   \n",
       "2698              1                11                 1          7   \n",
       "...             ...               ...               ...        ...   \n",
       "1758              1                 2                 0          2   \n",
       "3826              1                 4                 1          1   \n",
       "1468              0                 3                 3          1   \n",
       "3429              0                 2                 2          1   \n",
       "1176              0                 0                 0          0   \n",
       "\n",
       "      Num_Rot_bonds  Num_Sat_Carbocyc  Num_Sat_Heterocyc  Num_Sat_Rings  \\\n",
       "2705             31                 0                  1              1   \n",
       "1659             16                 0                  0              0   \n",
       "3172             28                 0                  1              1   \n",
       "1466             24                 0                  0              0   \n",
       "2698             16                 0                  0              0   \n",
       "...             ...               ...                ...            ...   \n",
       "1758              0                 0                  0              0   \n",
       "3826              1                 0                  0              0   \n",
       "1468              0                 0                  0              0   \n",
       "3429              0                 0                  0              0   \n",
       "1176              0                 0                  0              0   \n",
       "\n",
       "      Num_Spiroatoms  Num_UnspeAtomSC  \n",
       "2705               0                0  \n",
       "1659               0                0  \n",
       "3172               0                1  \n",
       "1466               0                0  \n",
       "2698               0                2  \n",
       "...              ...              ...  \n",
       "1758               0                0  \n",
       "3826               0                0  \n",
       "1468               0                0  \n",
       "3429               0                0  \n",
       "1176               0                0  \n",
       "\n",
       "[3906 rows x 29 columns]"
      ]
     },
     "execution_count": 55,
     "metadata": {},
     "output_type": "execute_result"
    }
   ],
   "source": [
    "# Generate DataFrame for the results\n",
    "new_df = pd.DataFrame({'MolLogP': MolLogP, 'Mol_MR': MolMR, 'Frac_CSP3':\n",
    "                       CalcFractionCSP3, 'Kappa1': CalcKappa1,\n",
    "                       'Kappa2': CalcKappa2, 'Kappa3': CalcKappa3,\n",
    "                       'Num_AliHeterocyc': CalcNumAliphaticHeterocycles,\n",
    "                       'Num_AliCarbocyc': CalcNumAliphaticCarbocycles,\n",
    "                       'Num_AliRings': CalcNumAliphaticRings,\n",
    "                       'Num_Amidebonds': CalcNumAmideBonds, 'Num_AroHeterocyc':\n",
    "                       CalcNumAromaticHeterocycles, 'Num_AroCarbocyc':\n",
    "                       CalcNumAromaticCarbocycles, 'Num_AroRings':\n",
    "                       CalcNumAromaticRings, 'Num_Atomsteriocenters':\n",
    "                       CalcNumAtomStereoCenters, 'Ipc': Ipc,\n",
    "                       'Num_Bridgehead_atoms': CalcNumBridgeheadAtoms,\n",
    "                       'Num_HBA': CalcNumHBA, 'Num_HBD':\n",
    "                       CalcNumHBD, 'Num_Heteroatoms': CalcNumHeteroatoms,\n",
    "                       'Num_Heterocyc': CalcNumHeterocycles,\n",
    "                       'Num_Lipinski_HBA': CalcNumLipinskiHBA,\n",
    "                       'Num_Lipinski_HBD': CalcNumLipinskiHBD,\n",
    "                       'Num_Rings': CalcNumRings, 'Num_Rot_bonds':\n",
    "                       CalcNumRotatableBonds, 'Num_Sat_Carbocyc':\n",
    "                       CalcNumSaturatedCarbocycles, 'Num_Sat_Heterocyc':\n",
    "                       CalcNumSaturatedHeterocycles, 'Num_Sat_Rings':\n",
    "                       CalcNumSaturatedRings, 'Num_Spiroatoms': CalcNumSpiroAtoms,\n",
    "                       'Num_UnspeAtomSC': CalcNumUnspecifiedAtomStereoCenters})\n",
    "\n",
    "# Sort by molecular weight\n",
    "new_df.sort_values(['Mol_MR'], ascending=False, inplace=True)\n",
    "new_df[[\"MolLogP\", \"Mol_MR\", \"Frac_CSP3\", \"Kappa1\",\n",
    "        \"Kappa2\", \"Kappa3\",\n",
    "        \"Num_AliHeterocyc\", \"Num_AliCarbocyc\", \"Num_AliRings\",\n",
    "        \"Num_Amidebonds\", \"Num_AroHeterocyc\", \"Num_AroCarbocyc\",\n",
    "        \"Num_AroRings\", \"Num_Atomsteriocenters\", \"Ipc\",\n",
    "        \"Num_Bridgehead_atoms\", \"Num_HBA\", \"Num_HBD\",\n",
    "        \"Num_Heteroatoms\", \"Num_Heterocyc\", \"Num_Lipinski_HBA\",\n",
    "        \"Num_Lipinski_HBD\", \"Num_Rings\", \"Num_Rot_bonds\", \"Num_Sat_Carbocyc\",\n",
    "        \"Num_Sat_Heterocyc\", \"Num_Sat_Rings\", \"Num_Spiroatoms\",\n",
    "        \"Num_UnspeAtomSC\"]]"
   ]
  },
  {
   "cell_type": "code",
   "execution_count": 56,
   "metadata": {},
   "outputs": [
    {
     "data": {
      "text/plain": [
       "array([[-5.78060000e+00,  3.61448000e+02,  6.36363636e-01, ...,\n",
       "         1.00000000e+00,  0.00000000e+00,  0.00000000e+00],\n",
       "       [ 1.30289000e+01,  3.00999100e+02,  3.12500000e-01, ...,\n",
       "         0.00000000e+00,  0.00000000e+00,  0.00000000e+00],\n",
       "       [-9.41550000e+00,  2.94371800e+02,  7.88461538e-01, ...,\n",
       "         1.00000000e+00,  0.00000000e+00,  1.00000000e+00],\n",
       "       ...,\n",
       "       [ 8.03400000e-01,  3.14364000e+01,  0.00000000e+00, ...,\n",
       "         0.00000000e+00,  0.00000000e+00,  0.00000000e+00],\n",
       "       [ 1.09780000e+00,  2.97716000e+01,  0.00000000e+00, ...,\n",
       "         0.00000000e+00,  0.00000000e+00,  0.00000000e+00],\n",
       "       [-2.99600000e+00,  0.00000000e+00,  0.00000000e+00, ...,\n",
       "         0.00000000e+00,  0.00000000e+00,  0.00000000e+00]])"
      ]
     },
     "execution_count": 56,
     "metadata": {},
     "output_type": "execute_result"
    }
   ],
   "source": [
    "Arr = np.array(new_df)\n",
    "Arr"
   ]
  },
  {
   "cell_type": "code",
   "execution_count": 57,
   "metadata": {},
   "outputs": [],
   "source": [
    "pca1 = PCA(n_components=2)\n",
    "pca1.fit(Arr)\n",
    "x_pca1 = pca1.transform(Arr)"
   ]
  },
  {
   "cell_type": "code",
   "execution_count": 58,
   "metadata": {},
   "outputs": [
    {
     "data": {
      "text/plain": [
       "array([1.00000000e+00, 5.44090008e-43])"
      ]
     },
     "execution_count": 58,
     "metadata": {},
     "output_type": "execute_result"
    }
   ],
   "source": [
    "pca1.explained_variance_ratio_"
   ]
  },
  {
   "cell_type": "code",
   "execution_count": 59,
   "metadata": {},
   "outputs": [
    {
     "data": {
      "text/plain": [
       "<matplotlib.legend.Legend at 0x7f65181f84a8>"
      ]
     },
     "execution_count": 59,
     "metadata": {},
     "output_type": "execute_result"
    },
    {
     "data": {
      "image/png": "[encoded data removed]",
      "text/plain": [
       "<Figure size 432x288 with 1 Axes>"
      ]
     },
     "metadata": {
      "needs_background": "light"
     },
     "output_type": "display_data"
    }
   ],
   "source": [
    "plt.figure(figsize=(6, 4))\n",
    "plt.xlabel('First principle component')\n",
    "plt.ylabel('Second principle component')\n",
    "plt.title(\"PCA for chemical descriptors\")\n",
    "\n",
    "classes = ['Non active', 'Active']\n",
    "\n",
    "scatter = plt.scatter(x_pca1[:, 0], x_pca1[:, 1], c=df_new['state'])\n",
    "plt.legend(handles=scatter.legend_elements()[0], labels=classes)"
   ]
  },
  {
   "cell_type": "code",
   "execution_count": 60,
   "metadata": {},
   "outputs": [
    {
     "data": {
      "text/plain": [
       "StandardScaler()"
      ]
     },
     "execution_count": 60,
     "metadata": {},
     "output_type": "execute_result"
    }
   ],
   "source": [
    "scaler1 = StandardScaler()\n",
    "scaler1.fit(new_df)"
   ]
  },
  {
   "cell_type": "code",
   "execution_count": 61,
   "metadata": {},
   "outputs": [],
   "source": [
    "scaled_data1 = scaler1.transform(new_df)"
   ]
  },
  {
   "cell_type": "code",
   "execution_count": 62,
   "metadata": {},
   "outputs": [
    {
     "data": {
      "text/plain": [
       "array([[-6.05262973,  8.29798966,  3.51315588, ...,  1.0004852 ,\n",
       "        -0.06045951, -0.30306989],\n",
       "       [ 5.69865125,  6.2425775 ,  0.92090394, ..., -0.57846235,\n",
       "        -0.06045951, -0.30306989],\n",
       "       [-8.32354237,  6.0172329 ,  4.73056974, ...,  1.0004852 ,\n",
       "        -0.06045951,  2.20496187],\n",
       "       ...,\n",
       "       [-1.93925968, -2.92322123, -1.58039179, ..., -0.57846235,\n",
       "        -0.06045951, -0.30306989],\n",
       "       [-1.75533256, -2.97982855, -1.58039179, ..., -0.57846235,\n",
       "        -0.06045951, -0.30306989],\n",
       "       [-4.31294409, -3.99213661, -1.58039179, ..., -0.57846235,\n",
       "        -0.06045951, -0.30306989]])"
      ]
     },
     "execution_count": 62,
     "metadata": {},
     "output_type": "execute_result"
    }
   ],
   "source": [
    "scaled_data1"
   ]
  },
  {
   "cell_type": "code",
   "execution_count": 63,
   "metadata": {},
   "outputs": [
    {
     "data": {
      "text/plain": [
       "array([1.00000000e+00, 5.44090008e-43])"
      ]
     },
     "execution_count": 63,
     "metadata": {},
     "output_type": "execute_result"
    }
   ],
   "source": [
    "pca1.explained_variance_ratio_"
   ]
  },
  {
   "cell_type": "code",
   "execution_count": 64,
   "metadata": {},
   "outputs": [],
   "source": [
    "pca1 = PCA(n_components=29)"
   ]
  },
  {
   "cell_type": "code",
   "execution_count": 65,
   "metadata": {},
   "outputs": [
    {
     "data": {
      "text/plain": [
       "PCA(n_components=29)"
      ]
     },
     "execution_count": 65,
     "metadata": {},
     "output_type": "execute_result"
    }
   ],
   "source": [
    "pca1.fit(scaled_data1)"
   ]
  },
  {
   "cell_type": "code",
   "execution_count": 66,
   "metadata": {},
   "outputs": [],
   "source": [
    "x_pca1 = pca1.transform(scaled_data1)"
   ]
  },
  {
   "cell_type": "code",
   "execution_count": 67,
   "metadata": {},
   "outputs": [
    {
     "data": {
      "text/plain": [
       "(3906, 29)"
      ]
     },
     "execution_count": 67,
     "metadata": {},
     "output_type": "execute_result"
    }
   ],
   "source": [
    "scaled_data1.shape"
   ]
  },
  {
   "cell_type": "code",
   "execution_count": 68,
   "metadata": {},
   "outputs": [
    {
     "data": {
      "text/plain": [
       "array([3.23372644e-01, 1.38065619e-01, 1.03996932e-01, 8.42282039e-02,\n",
       "       6.81578673e-02, 5.23711802e-02, 4.30897690e-02, 3.37855937e-02,\n",
       "       2.98312414e-02, 2.71252480e-02, 2.00081378e-02, 1.98397728e-02,\n",
       "       1.19174820e-02, 1.11274195e-02, 1.01608770e-02, 7.27059475e-03,\n",
       "       4.04737231e-03, 3.67486991e-03, 2.75129815e-03, 2.13886067e-03,\n",
       "       1.40807899e-03, 1.12226047e-03, 3.04011235e-04, 2.04666383e-04,\n",
       "       6.52910685e-33, 4.87763780e-33, 3.06718789e-33, 1.50120526e-33,\n",
       "       1.09058670e-33])"
      ]
     },
     "execution_count": 68,
     "metadata": {},
     "output_type": "execute_result"
    }
   ],
   "source": [
    "pca1.explained_variance_ratio_"
   ]
  },
  {
   "cell_type": "code",
   "execution_count": 69,
   "metadata": {},
   "outputs": [],
   "source": [
    "pca1 = PCA(n_components=2)"
   ]
  },
  {
   "cell_type": "code",
   "execution_count": 70,
   "metadata": {},
   "outputs": [
    {
     "data": {
      "text/plain": [
       "PCA(n_components=2)"
      ]
     },
     "execution_count": 70,
     "metadata": {},
     "output_type": "execute_result"
    }
   ],
   "source": [
    "pca1.fit(scaled_data1)"
   ]
  },
  {
   "cell_type": "code",
   "execution_count": 71,
   "metadata": {},
   "outputs": [
    {
     "data": {
      "text/plain": [
       "array([0.32337264, 0.13806562])"
      ]
     },
     "execution_count": 71,
     "metadata": {},
     "output_type": "execute_result"
    }
   ],
   "source": [
    "pca1.explained_variance_ratio_"
   ]
  },
  {
   "cell_type": "code",
   "execution_count": 72,
   "metadata": {},
   "outputs": [
    {
     "data": {
      "text/plain": [
       "<matplotlib.legend.Legend at 0x7f65180bff28>"
      ]
     },
     "execution_count": 72,
     "metadata": {},
     "output_type": "execute_result"
    },
    {
     "data": {
      "image/png": "[encoded data removed]",
      "text/plain": [
       "<Figure size 576x432 with 1 Axes>"
      ]
     },
     "metadata": {
      "needs_background": "light"
     },
     "output_type": "display_data"
    }
   ],
   "source": [
    "plt.figure(figsize=(8, 6))\n",
    "plt.xlabel('First principle component')\n",
    "plt.ylabel('Second principle component')\n",
    "plt.title(\"PCA for chemical descriptors\")\n",
    "\n",
    "classes = ['Non active', 'Active']\n",
    "\n",
    "plt.scatter(x_pca1[:, 0], x_pca1[:, 1], c=df_new['state'])\n",
    "plt.legend(handles=scatter.legend_elements()[0], labels=classes)"
   ]
  },
  {
   "cell_type": "code",
   "execution_count": 73,
   "metadata": {},
   "outputs": [
    {
     "data": {
      "text/plain": [
       "array([[ 0.0530245 ,  0.30180854,  0.19225343,  0.30188455,  0.28501842,\n",
       "         0.24906134,  0.18659317,  0.03315588,  0.18117152,  0.17034496,\n",
       "         0.07879171,  0.10818286,  0.14483858,  0.11979608,  0.05902273,\n",
       "         0.06835957,  0.22624666,  0.15770792,  0.27126217,  0.18395134,\n",
       "         0.27435543,  0.1342827 ,  0.23148127,  0.23211217,  0.04463447,\n",
       "         0.21290519,  0.20283416,  0.03992806,  0.03581854],\n",
       "       [-0.13854657, -0.10076606,  0.1889607 , -0.1272261 , -0.16287544,\n",
       "        -0.19285416,  0.27613039,  0.28203323,  0.37962297, -0.0462737 ,\n",
       "        -0.03946266, -0.18194596, -0.16578512,  0.1354104 , -0.04238189,\n",
       "         0.22625434, -0.07824506, -0.1258236 , -0.12439232,  0.14759544,\n",
       "        -0.08074026, -0.09959796,  0.10219798, -0.22460822,  0.28527138,\n",
       "         0.22523399,  0.33301674,  0.18604802,  0.07317274]])"
      ]
     },
     "execution_count": 73,
     "metadata": {},
     "output_type": "execute_result"
    }
   ],
   "source": [
    "pca1.components_"
   ]
  },
  {
   "cell_type": "code",
   "execution_count": 74,
   "metadata": {},
   "outputs": [
    {
     "data": {
      "image/png": "[encoded data removed]",
      "text/plain": [
       "<Figure size 432x288 with 1 Axes>"
      ]
     },
     "metadata": {
      "needs_background": "light"
     },
     "output_type": "display_data"
    }
   ],
   "source": [
    "my_color = df_new['state']\n",
    "\n",
    "\n",
    "# Run The PCA\n",
    "pca1 = PCA(n_components=3)\n",
    "pca1.fit(scaled_data1)\n",
    "\n",
    "# Store results of PCA in a data frame\n",
    "result = pd.DataFrame(pca1.transform(scaled_data1),\n",
    "                      columns=['PCA%i' % i for i in range(3)],\n",
    "                      index=df.index)\n",
    "\n",
    "\n",
    "# Plot initialisation\n",
    "fig = plt.figure()\n",
    "ax = fig.add_subplot(111, projection='3d')\n",
    "ax.scatter(result['PCA0'], result['PCA1'],\n",
    "           result['PCA2'], c=my_color, cmap=\"Accent\", s=10)\n",
    "\n",
    "\n",
    "# make simple, bare axis lines through space:\n",
    "xAxisLine = ((min(result['PCA0']), max(result['PCA0'])), (0, 0), (0, 0))\n",
    "ax.plot(xAxisLine[0], xAxisLine[1], xAxisLine[2], 'r')\n",
    "yAxisLine = ((0, 0), (min(result['PCA1']), max(result['PCA1'])), (0, 0))\n",
    "ax.plot(yAxisLine[0], yAxisLine[1], yAxisLine[2], 'r')\n",
    "zAxisLine = ((0, 0), (0, 0), (min(result['PCA2']), max(result['PCA2'])))\n",
    "ax.plot(zAxisLine[0], zAxisLine[1], zAxisLine[2], 'r')\n",
    "\n",
    "# label the axes\n",
    "ax.set_xlabel(\"PC1\")\n",
    "ax.set_ylabel(\"PC2\")\n",
    "ax.set_zlabel(\"PC3\")\n",
    "ax.set_title(\"PCA for chemical descriptors\")\n",
    "plt.show()"
   ]
  }
 ],
 "metadata": {
  "kernelspec": {
   "display_name": "Python 3",
   "language": "python",
   "name": "python3"
  },
  "language_info": {
   "codemirror_mode": {
    "name": "ipython",
    "version": 3
   },
   "file_extension": ".py",
   "mimetype": "text/x-python",
   "name": "python",
   "nbconvert_exporter": "python",
   "pygments_lexer": "ipython3",
   "version": "3.6.10"
  }
 },
 "nbformat": 4,
 "nbformat_minor": 4
}
